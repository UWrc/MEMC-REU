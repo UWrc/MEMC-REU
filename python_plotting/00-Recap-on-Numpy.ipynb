{
 "cells": [
  {
   "cell_type": "markdown",
   "metadata": {},
   "source": [
    "# Python Data Science Ecosystem\n",
    "\n",
    "The usefulness of Python for data science stems primarily from the large and active ecosystem of third-party packages. \n",
    "\n",
    "Some of the most important ones are:\n",
    "\n",
    "#### [`numpy`](http://numpy.org/): Numerical Python\n",
    "\n",
    "This library provides the `ndarray` for computation and manipulation of homogeneous array-based data in Python.\n",
    "\n",
    "#### [`pandas`](http://pandas.pydata.org/): Panel Data\n",
    "\n",
    "This library provides the `DataFrame` for analysis and manipulation of heterogeneous and labeled data in Python. \n",
    "\n",
    "#### [`scipy`](http://scipy.org/): Scientific Python\n",
    "\n",
    "This library contains a wide range of functionality for accomplishing common scientific tasks, such as optimization, integration, interpolation, and much more.\n",
    "\n",
    "#### [`matplotlib`](http://matplotlib.org): MATLAB-style Plotting via Gnuplot\n",
    "\n",
    "This library provides capabilities for a flexible range of publication-quality data visualizations in Python."
   ]
  },
  {
   "cell_type": "markdown",
   "metadata": {},
   "source": [
    "Reference: [Python Data Science Handbook](https://jakevdp.github.io/PythonDataScienceHandbook/index.html)"
   ]
  },
  {
   "cell_type": "markdown",
   "metadata": {},
   "source": [
    "# Recap on Numpy\n",
    "\n",
    "Importing different libraries usually is the first cell of a jupyter notebook.\n",
    "\n",
    "By convention, most people in the PyData world will import Numpy under a shortened name using the `import ... as ...` pattern:"
   ]
  },
  {
   "cell_type": "code",
   "execution_count": null,
   "metadata": {},
   "outputs": [],
   "source": [
    "import numpy as np"
   ]
  },
  {
   "cell_type": "markdown",
   "metadata": {},
   "source": [
    "## 1. Numpy Arrays\n",
    "\n",
    "### Creating Arrays from Python Lists with `np.array`\n",
    "\n",
    "Unlike Python lists, NumPy is constrained to arrays that all contain the same type. If types do not match, NumPy will upcast if possible (here, integers are up-cast to floating point):"
   ]
  },
  {
   "cell_type": "code",
   "execution_count": null,
   "metadata": {},
   "outputs": [],
   "source": [
    "x1 = np.array([1, 4, 2, 5, 3.14])\n",
    "print(x1)"
   ]
  },
  {
   "cell_type": "markdown",
   "metadata": {},
   "source": [
    "Create multi-dimensional arrays with nested lists:"
   ]
  },
  {
   "cell_type": "code",
   "execution_count": null,
   "metadata": {},
   "outputs": [],
   "source": [
    "x2 = np.array([[1,2,3], [4,5,6], [7,8,9], [10,11,12]])\n",
    "print(x2)"
   ]
  },
  {
   "cell_type": "markdown",
   "metadata": {},
   "source": [
    "The inner lists are treated as rows of the resulting two-dimensional array.\n",
    "\n",
    "### Numpy Array Attributes\n",
    "\n",
    "`dtype`: the data type of the array"
   ]
  },
  {
   "cell_type": "code",
   "execution_count": null,
   "metadata": {},
   "outputs": [],
   "source": [
    "print(x1)\n",
    "print(x1.dtype)"
   ]
  },
  {
   "cell_type": "markdown",
   "metadata": {},
   "source": [
    "``ndim``: the number of dimensions\n",
    "\n",
    "``shape``: the size of each dimension\n",
    "\n",
    "``size``: the total size of the array"
   ]
  },
  {
   "cell_type": "code",
   "execution_count": null,
   "metadata": {},
   "outputs": [],
   "source": [
    "print(\"ndim: \", x2.ndim)\n",
    "print(\"shape: \", x2.shape)\n",
    "print(\"size: \", x2.size)"
   ]
  },
  {
   "cell_type": "markdown",
   "metadata": {},
   "source": [
    "Please note `shape` returns a tuple of ints:"
   ]
  },
  {
   "cell_type": "code",
   "execution_count": null,
   "metadata": {},
   "outputs": [],
   "source": [
    "x2.shape[0]"
   ]
  },
  {
   "cell_type": "markdown",
   "metadata": {},
   "source": [
    "### Creating Arrays from Scratch"
   ]
  },
  {
   "cell_type": "markdown",
   "metadata": {},
   "source": [
    "Create arrays filled with specific values, e.g., `np.zeros` and `np.ones`:"
   ]
  },
  {
   "cell_type": "code",
   "execution_count": null,
   "metadata": {},
   "outputs": [],
   "source": [
    "# Create a length-10 integer array filled with zeros\n",
    "print(np.zeros(10, dtype=int))\n",
    "print()\n",
    "# Create a 2x3 floating-point array filled with ones\n",
    "print(np.ones((2, 3), dtype=float))\n",
    "print()\n",
    "# Create a 2x3 array filled with 3.14\n",
    "print(np.full((2, 3), 3.14))"
   ]
  },
  {
   "cell_type": "markdown",
   "metadata": {},
   "source": [
    "Create an array filled with a linear sequence with `np.arange` (similar to the built-in `range` function):"
   ]
  },
  {
   "cell_type": "code",
   "execution_count": null,
   "metadata": {},
   "outputs": [],
   "source": [
    "# Range between [0, 20), stepping by 2\n",
    "np.arange(0, 20, 2)"
   ]
  },
  {
   "cell_type": "markdown",
   "metadata": {},
   "source": [
    "Create an array of evenly spaced values between a range with `np.linspace`:"
   ]
  },
  {
   "cell_type": "code",
   "execution_count": null,
   "metadata": {},
   "outputs": [],
   "source": [
    "# Five values evenly spaced between [0, 1]\n",
    "np.linspace(0, 1, 5)"
   ]
  },
  {
   "cell_type": "markdown",
   "metadata": {},
   "source": [
    "### Reshaping of Arrays\n",
    "\n",
    "Use `reshape` to put the numbers 1 through 12 in a 3×4 grid:"
   ]
  },
  {
   "cell_type": "code",
   "execution_count": null,
   "metadata": {},
   "outputs": [],
   "source": [
    "x3 = np.arange(1, 13).reshape(3, 4)\n",
    "x3"
   ]
  },
  {
   "cell_type": "markdown",
   "metadata": {},
   "source": [
    "### Exercise 1:\n",
    "\n",
    "Create the same array with `np.linspace`:"
   ]
  },
  {
   "cell_type": "code",
   "execution_count": null,
   "metadata": {},
   "outputs": [],
   "source": []
  },
  {
   "cell_type": "markdown",
   "metadata": {},
   "source": [
    "### Exercise 2:\n",
    "\n",
    "Reshape a to 6 rows, 2 columns:"
   ]
  },
  {
   "cell_type": "code",
   "execution_count": null,
   "metadata": {},
   "outputs": [],
   "source": []
  },
  {
   "cell_type": "markdown",
   "metadata": {},
   "source": [
    "## 2. Array Indexing and Slicing\n",
    "\n",
    "### Array Indexing: Accessing Single Elements\n",
    "\n",
    "Access the $i,j$ value by specifying the desired index in square brackets, just as with Python lists:"
   ]
  },
  {
   "cell_type": "code",
   "execution_count": null,
   "metadata": {},
   "outputs": [],
   "source": [
    "x3"
   ]
  },
  {
   "cell_type": "code",
   "execution_count": null,
   "metadata": {},
   "outputs": [],
   "source": [
    "x3[1, 2]"
   ]
  },
  {
   "cell_type": "markdown",
   "metadata": {},
   "source": [
    "Values can also be modified using the above index notation. However, as NumPy arrays have a fixed type, if you attempt to insert a floating-point value to an integer array, the value will be silently truncated."
   ]
  },
  {
   "cell_type": "code",
   "execution_count": null,
   "metadata": {},
   "outputs": [],
   "source": [
    "x3[1, 2] = 3.14159\n",
    "x3"
   ]
  },
  {
   "cell_type": "markdown",
   "metadata": {},
   "source": [
    "### Array Slicing: Accessing Subarrays\n",
    "\n",
    "We can access subarrays with the slice notation (':' character). The NumPy slicing syntax follows that of the standard Python list: `x[start:stop:step]`.\n",
    "\n",
    "We don't have to include the upper and lower bound on the slice. If we don't include the lower bound, Python uses 0 by default; if we don't include the upper, the slice runs to the end of the axis, and if we don't include either (i.e., if we use ':' on its own), the slice includes everything. \n",
    "\n",
    "The following example selects rows 0 through 1 and columns 1 through 3 of the array:"
   ]
  },
  {
   "cell_type": "code",
   "execution_count": null,
   "metadata": {},
   "outputs": [],
   "source": [
    "x3[:2, 1:4] # first two rows, 2nd to 4th columns"
   ]
  },
  {
   "cell_type": "markdown",
   "metadata": {},
   "source": [
    "### Note:\n",
    "\n",
    "One important–and extremely useful–thing to know about array slices is that they return *views* rather than *copies* of the array data. This is one area in which NumPy array slicing differs from Python list slicing: in lists, slices will be copies."
   ]
  },
  {
   "cell_type": "code",
   "execution_count": null,
   "metadata": {},
   "outputs": [],
   "source": [
    "x3"
   ]
  },
  {
   "cell_type": "code",
   "execution_count": null,
   "metadata": {},
   "outputs": [],
   "source": [
    "x3_sub = x3[:2, :2]\n",
    "print(x3_sub)"
   ]
  },
  {
   "cell_type": "code",
   "execution_count": null,
   "metadata": {},
   "outputs": [],
   "source": [
    "x3_sub[0, 0] = 99\n",
    "print(x3_sub)"
   ]
  },
  {
   "cell_type": "code",
   "execution_count": null,
   "metadata": {},
   "outputs": [],
   "source": [
    "x3"
   ]
  },
  {
   "cell_type": "markdown",
   "metadata": {},
   "source": [
    "This default behavior is quite useful when we work with large datasets. We can access and process pieces of these datasets without the need to copy the underlying data buffer. But it is sometimes useful to instead explicitly copy the data within an array or a subarray. This can be most easily done with the `copy` method."
   ]
  }
 ],
 "metadata": {
  "anaconda-cloud": {},
  "kernelspec": {
   "display_name": "base",
   "language": "python",
   "name": "python3"
  },
  "language_info": {
   "codemirror_mode": {
    "name": "ipython",
    "version": 3
   },
   "file_extension": ".py",
   "mimetype": "text/x-python",
   "name": "python",
   "nbconvert_exporter": "python",
   "pygments_lexer": "ipython3",
   "version": "3.12.9"
  }
 },
 "nbformat": 4,
 "nbformat_minor": 4
}
