{
 "cells": [
  {
   "cell_type": "markdown",
   "metadata": {},
   "source": [
    "# Data Visualization\n",
    "\n",
    "Reference: [Python Data Science Handbook](https://jakevdp.github.io/PythonDataScienceHandbook/index.html)\n",
    "\n",
    "It is always good practice to import modules at the beginning of a notebook."
   ]
  },
  {
   "cell_type": "code",
   "execution_count": null,
   "metadata": {},
   "outputs": [],
   "source": [
    "import numpy as np\n",
    "import pandas as pd\n",
    "import matplotlib as mpl\n",
    "import matplotlib.pyplot as plt"
   ]
  },
  {
   "cell_type": "markdown",
   "metadata": {},
   "source": [
    "* Commonly use a sub-library called [matplotlib.pyplot](https://matplotlib.org/stable/tutorials/introductory/pyplot.html).\n",
    "* We will use the plt.style directive to choose appropriate aesthetic styles for our figures. Find the list of matplotlib styles [here](https://tonysyu.github.io/raw_content/matplotlib-style-gallery/gallery.html).\n",
    "* The Jupyter Notebook will render plots inline by default.\n",
    "\n",
    "### Note: \n",
    "\n",
    "In our Jupyter Notebook example, running the cell should generate the figure directly below the code. The figure is also included in the Notebook document for future viewing. However, other Python environments like an interactive Python session started from a terminal or a Python script executed via the command line require an additional command to display the figure.\n",
    "\n",
    "Instruct `matplotlib` to show a figure:"
   ]
  },
  {
   "cell_type": "code",
   "execution_count": null,
   "metadata": {},
   "outputs": [],
   "source": [
    "plt.show()"
   ]
  },
  {
   "cell_type": "markdown",
   "metadata": {},
   "source": [
    "This command can also be used within a Notebook - for instance, to display multiple figures if several are created by a single cell.\n",
    "\n",
    "# Plotting data directly from a Pandas DataFrame\n",
    "\n",
    "## Read in data\n",
    "\n",
    "We'll use pandas read_csv function to read in our data."
   ]
  },
  {
   "cell_type": "code",
   "execution_count": null,
   "metadata": {},
   "outputs": [],
   "source": [
    "periodic_table = pd.read_csv('https://gist.githubusercontent.com/GoodmanSciences/c2dd862cd38f21b0ad36b8f96b4bf1ee/raw/1d92663004489a5b6926e944c1b3d9ec5c40900e/Periodic%2520Table%2520of%2520Elements.csv')"
   ]
  },
  {
   "cell_type": "markdown",
   "metadata": {},
   "source": [
    "We will use this DataFrame to try some of our plotting functions. We will start with two variables in the datasets, AtomicNumber and AtomicRadius. \n",
    "\n",
    "First of all, we notice there are some missing atomic radius data. We would like to drop rows with missing data in AtomicRadius column:"
   ]
  },
  {
   "cell_type": "code",
   "execution_count": null,
   "metadata": {},
   "outputs": [],
   "source": [
    "pt_d = periodic_table.dropna(subset=['AtomicRadius'])"
   ]
  },
  {
   "cell_type": "markdown",
   "metadata": {},
   "source": [
    "## Pandas built-in plotting methods\n",
    "\n",
    "There are multiple packages we can use for plotting. Pandas has some built-in object-oriented methods we can try first.\n",
    "\n",
    "* By default, `DataFrame.plot` plots with the rows as the X axis.\n",
    "* We can transpose the data in order to plot multiple series."
   ]
  },
  {
   "cell_type": "code",
   "execution_count": null,
   "metadata": {},
   "outputs": [],
   "source": [
    "pt_d.plot('AtomicNumber', 'AtomicRadius');\n"
   ]
  },
  {
   "cell_type": "markdown",
   "metadata": {},
   "source": [
    "We can change the plt settings to add more information and get prettier plots: \n",
    "* alter plotting styles (line vs. scatter)\n",
    "* add a title\n",
    "* adjust the axis ranges and labels\n",
    "* increase font size\n",
    "* add gridlines\n",
    "* adjust the aspect ratio\n",
    "* ..."
   ]
  },
  {
   "cell_type": "code",
   "execution_count": null,
   "metadata": {},
   "outputs": [],
   "source": [
    "pt_d.plot('AtomicNumber', 'AtomicRadius')\n",
    "plt.xlabel('Atomic Number', fontsize=12)\n",
    "plt.ylabel(r'AtomicRadius ($\\AA$)', fontsize=12)\n",
    "plt.title('Atomic radius vs. Atomic number', fontsize=14)\n",
    "plt.grid();"
   ]
  },
  {
   "cell_type": "markdown",
   "metadata": {},
   "source": [
    "### Extras:\n",
    "\n",
    "Here we used TeX notation to create the unit \"$\\AA$\" of atomic radius. TeX can be used to generate mathematical expressions, symbols, and Greek letters for figures. Any string can be processed as Mathtext by placing the string inside a pair of dollar signs '$'."
   ]
  },
  {
   "cell_type": "code",
   "execution_count": null,
   "metadata": {},
   "outputs": [],
   "source": [
    "fig = plt.figure(figsize=(3, 3))\n",
    "ax = plt.axes(visible=False)\n",
    "fig.text(.2, .7, \"plain text: alpha > beta\", fontsize=12)\n",
    "fig.text(.2, .5, \"Mathtext: $\\\\alpha > \\\\beta$\", fontsize=12)\n",
    "fig.text(.2, .3, r\"raw string Mathtext: $\\alpha > \\beta$\", fontsize=12);"
   ]
  },
  {
   "cell_type": "markdown",
   "metadata": {},
   "source": [
    "# Using Matplotlib for data visualization\n",
    "\n",
    "Matplotlib is a multi-platform data visualization library built on NumPy arrays, and designed to work with the broader SciPy stack. A potentially confusing feature of Matplotlib is its dual interfaces: a convenient MATLAB-style state-based interface, and a more powerful object-oriented interface. We'll quickly highlight the differences between the two here.\n",
    "\n",
    "## MATLAB-style Interface: `plt`\n",
    "\n",
    "Matplotlib was originally written as a Python alternative for MATLAB users, and much of its syntax reflects that fact. The MATLAB-style tools are contained in the pyplot (plt) interface.\n",
    "\n",
    "### Call `plt.plot` function to plot MeltingPoint and BoilingPoint vs. AtomicNumber directly"
   ]
  },
  {
   "cell_type": "code",
   "execution_count": null,
   "metadata": {},
   "outputs": [],
   "source": [
    "# drop rows with missing data in either MeltingPoint or BoilingPoint\n",
    "pt_mb = periodic_table.dropna(subset=['MeltingPoint', 'BoilingPoint'])\n",
    "pt_mb.shape"
   ]
  },
  {
   "cell_type": "markdown",
   "metadata": {},
   "source": [
    "The function `plt.figure` creates a space into which we will place all of our plots. The parameter `figsize` tells Python how big to make this space.\n",
    "\n",
    "If we want to create a single figure with multiple lines, we can simply call the `plot` function multiple times."
   ]
  },
  {
   "cell_type": "code",
   "execution_count": null,
   "metadata": {},
   "outputs": [],
   "source": [
    "plt.figure(figsize=(6, 6))\n",
    "plt.plot(pt_mb['AtomicNumber'], pt_mb['MeltingPoint'], 'o-r', label='Melting Point', \n",
    "         linewidth=1, markerfacecolor='white') # Adjust line/marker colors and styles; label each line\n",
    "plt.plot(pt_mb['AtomicNumber'], pt_mb['BoilingPoint'], 's--b', label='Boiling Point', \n",
    "         linewidth=1, markerfacecolor='white')\n",
    "plt.xlim(0, 100) # Adjust axes limits\n",
    "plt.ylim(0, 7000)\n",
    "plt.xlabel('Atomic Number', fontsize=14) # Add axes labels\n",
    "plt.ylabel('$T$ (K)', fontsize=14)\n",
    "plt.legend(loc='upper left', fontsize=12, ncol=2) # Create and customize plot legend\n",
    "plt.title('Melting & Boiling Point vs. Atomic Number', fontsize=16, pad=20); # Add a title"
   ]
  },
  {
   "cell_type": "markdown",
   "metadata": {},
   "source": [
    "* Specify the color, linestyle and markers with a format string '[marker][line][color]', e.g. 'o-r' for red solid line with circles. \n",
    "    * Format strings are just an abbreviation for quickly setting basic line properties. All of these and more can also be controlled by keyword arguments.\n",
    "    * Here are possible values for [linestyle](https://matplotlib.org/stable/api/_as_gen/matplotlib.lines.Line2D.html#matplotlib.lines.Line2D.set_linestyle) and [markers](https://matplotlib.org/stable/api/markers_api.html#module-matplotlib.markers).\n",
    "\n",
    "* Specify the label of each line using the `label` keyword of the `plot` function, and use Matplotlib built-in method `plt.legend` to create a plot legend that labels each line type.\n",
    "\n",
    "* Matplotlib does a decent job of choosing default axes limits for your plot, but sometimes it's nice to have finer control. The most basic way to adjust axis limits is to use the `plt.xlim` and `plt.ylim` methods.\n",
    "\n",
    "* `pad` controls the offset of the title from the top of the Axes, in points.\n",
    "\n",
    "### Exercise 1:\n",
    "\n",
    "What difference does it make in our plot if we don’t use `dropna` to preprocess the data?"
   ]
  },
  {
   "cell_type": "code",
   "execution_count": null,
   "metadata": {},
   "outputs": [],
   "source": []
  },
  {
   "cell_type": "markdown",
   "metadata": {},
   "source": [
    "There will be a visible gap in the plot wherever a value is missing!\n",
    "\n",
    "### Save your plot to a file\n",
    "\n",
    "If you are satisfied with the plot you see you may want to save it to a file, perhaps to include it in a publication. There is a function in the `plt` module that accomplishes this: [savefig](https://matplotlib.org/stable/api/_as_gen/matplotlib.pyplot.savefig.html). Calling this function, e.g. with"
   ]
  },
  {
   "cell_type": "code",
   "execution_count": null,
   "metadata": {},
   "outputs": [],
   "source": [
    "plt.savefig('my_figure.png')"
   ]
  },
  {
   "cell_type": "markdown",
   "metadata": {},
   "source": [
    "will save the current figure to the file `my_figure.png`. The file format will automatically be deduced from the file name extension (other formats are pdf, ps, eps and svg).\n",
    "\n",
    "Note that functions in `plt` refer to a global figure variable and after a figure has been displayed to the screen (e.g. with `plt.show`) matplotlib will make this variable refer to a new empty figure. Therefore, make sure you call `plt.savefig` before the plot is displayed to the screen, otherwise you may find a file with an empty plot.\n",
    "\n",
    "When using DataFrames, data is often generated and plotted to screen in one line. In addition to using `plt.savefig`, we can save a reference to the current figure in a local variable (with `plt.gcf`) and call the `savefig` class method from that variable to save the figure to file."
   ]
  },
  {
   "cell_type": "code",
   "execution_count": null,
   "metadata": {},
   "outputs": [],
   "source": [
    "pt_d.plot('AtomicNumber', 'AtomicRadius')\n",
    "fig = plt.gcf() # get current figure\n",
    "fig.savefig('my_figure.png')"
   ]
  },
  {
   "cell_type": "markdown",
   "metadata": {},
   "source": [
    "To find out more information about `plot` function, take a look at the built-in documentation for it."
   ]
  },
  {
   "cell_type": "code",
   "execution_count": null,
   "metadata": {
    "scrolled": false
   },
   "outputs": [],
   "source": [
    "plt.plot?"
   ]
  },
  {
   "cell_type": "markdown",
   "metadata": {},
   "source": [
    "### A simple way to plot 3D data by varying the size/color of the points with z"
   ]
  },
  {
   "cell_type": "code",
   "execution_count": null,
   "metadata": {},
   "outputs": [],
   "source": [
    "# plot Period-Group-AtomicRadius, with the size of the points propotional to atomic radius.\n",
    "plt.figure(figsize=(12, 6))\n",
    "plt.scatter(pt_d['Group'], pt_d['Period'], \n",
    "            s=pt_d['AtomicRadius']*100, c=pt_d['AtomicRadius'], edgecolor='white')\n",
    "plt.xlim(0, pt_d['Group'].max()+1)\n",
    "plt.ylim(pt_d['Period'].max()+1, 0)\n",
    "plt.tick_params(top=True, labeltop=True, bottom=False, labelbottom=False, labelsize=12)\n",
    "plt.xlabel('Group', fontsize=14)\n",
    "plt.ylabel('Period', fontsize=14)\n",
    "plt.colorbar(label=r'Atomic Radius ($\\AA$)')\n",
    "plt.grid();"
   ]
  },
  {
   "cell_type": "markdown",
   "metadata": {},
   "source": [
    "* If for some reason you'd like either axis to be displayed in reverse, you can simply reverse the order of the arguments.\n",
    "* An effective way to determine accurate axis limits is to use aggregate functions `min` and `max`.\n",
    "\n",
    "### Multiple subplots using `plt.subplot`\n",
    "\n",
    "Aligned columns or rows of subplots are a common-enough need that Matplotlib has several convenience routines that make them easy to create. The lowest level of these is `plt.subplot`, which creates a single subplot within a grid. This command takes three integer arguments—the number of rows, the number of columns, and the index of the plot to be created in this schem (starting from 1), which runs from the upper left to the bottom right. \n",
    "\n",
    "Plot MeltingPoint and BoilingPoint vs. AtomicNumber in two subplots:"
   ]
  },
  {
   "cell_type": "code",
   "execution_count": null,
   "metadata": {},
   "outputs": [],
   "source": [
    "# create a plot figure\n",
    "plt.figure(figsize=(8, 4))\n",
    "\n",
    "# create the first of two panels and set current axis\n",
    "plt.subplot(1, 2, 1) # (rows, columns, panel number)\n",
    "plt.scatter(pt_mb['AtomicNumber'], pt_mb['MeltingPoint'])\n",
    "plt.xlabel('Atomic Number')\n",
    "plt.ylabel('$T$ (K)')\n",
    "\n",
    "# create the second panel and set current axis\n",
    "plt.subplot(1, 2, 2)\n",
    "plt.scatter(pt_mb['AtomicNumber'], pt_mb['BoilingPoint'])\n",
    "plt.xlabel('Atomic Number')\n",
    "plt.ylabel('$T$ (K)')\n",
    "\n",
    "plt.tight_layout()  # adjust layout to prevent overlap\n",
    "plt.show()"
   ]
  },
  {
   "cell_type": "markdown",
   "metadata": {},
   "source": [
    "It is important to note that this interface keeps track of the \"current\" figure and axes, which are where all plt commands are applied. You can get a reference to these using the `plt.gcf` (get current figure) and `plt.gca` (get current axes) routines. \n",
    "\n",
    "While this stateful interface is fast and convenient for simple plots, it is easy to run into problems. For example, once the second panel is created, going back and adding something to the first panel will be a bit clunky. Fortunately, there is a better way - the object-oriented interface."
   ]
  },
  {
   "cell_type": "markdown",
   "metadata": {},
   "source": [
    "### Exercise 2: \n",
    "\n",
    "Improve the above subplots with MATLAB-style interface:\n",
    "\n",
    "* change the x range to be min(x) to max(x)\n",
    "* change the y range to be min(y) to max(y)\n",
    "* increase the font size of axis label to 14\n",
    "* change the color of plotting to red, transparency to 50%\n",
    "* add titles\n",
    "* change the layout so the plots on top of one another\n",
    "* make sure the subplots don't overlap\n",
    "\n",
    "You can access the `plt` documentation [here](https://matplotlib.org/stable/api/pyplot_summary.html)."
   ]
  },
  {
   "cell_type": "code",
   "execution_count": null,
   "metadata": {},
   "outputs": [],
   "source": []
  },
  {
   "cell_type": "markdown",
   "metadata": {},
   "source": [
    "## Object-oriented Interface: `Figure` and `Axes`\n",
    "\n",
    "The object-oriented interface works well with those more complicated situations. Rather than depending on some notion of an \"active\" figure or axes, in the object-oriented interface the plotting functions are methods of explicit `Figure` and `Axes` objects.\n",
    "\n",
    "### Multiple subplots using object-oriented interface\n",
    "\n",
    "Use the equivalent object-oriented command `fig.add_subplot` to re-create the previous plot. `add_subplot` method places each subplot into the figure. Each subplot is stored in a different variable (`ax1`, `ax2`, `ax3`). Once a subplot is created, the axes can be titled using the `set_xlabel` command (or `set_ylabel`). Here are our plots side by side:"
   ]
  },
  {
   "cell_type": "code",
   "execution_count": null,
   "metadata": {},
   "outputs": [],
   "source": [
    "fig = plt.figure(figsize=(8, 4))\n",
    "ax1, ax2 = fig.add_subplot(1, 2, 1), fig.add_subplot(1, 2, 2)\n",
    "\n",
    "ax1.scatter(pt_mb['AtomicNumber'], pt_mb['MeltingPoint'])\n",
    "ax1.set_xlabel('Atomic Number')\n",
    "ax1.set_ylabel('$T$ (K)')\n",
    "\n",
    "ax2.scatter(pt_mb['AtomicNumber'], pt_mb['BoilingPoint'])\n",
    "ax2.set_xlabel('Atomic Number')\n",
    "ax2.set_ylabel('$T$ (K)')\n",
    "\n",
    "plt.tight_layout();\n"
   ]
  },
  {
   "cell_type": "markdown",
   "metadata": {},
   "source": [
    "Simplify the code for creating subplots by using a `for` loop:"
   ]
  },
  {
   "cell_type": "code",
   "execution_count": null,
   "metadata": {},
   "outputs": [],
   "source": [
    "pt_mb_subet = pt_mb[['AtomicNumber', 'MeltingPoint', 'BoilingPoint']]\n",
    "fig = plt.figure(figsize=(8, 4))\n",
    "\n",
    "for i in range(1, 3):\n",
    "    ax = fig.add_subplot(1, 2, i)\n",
    "    ax.scatter(pt_mb_subet.iloc[:, 0], pt_mb_subet.iloc[:, i])\n",
    "    ax.set_xlabel('Atomic Number')\n",
    "    ax.set_ylabel('$T$ (K)')\n",
    "\n",
    "plt.tight_layout();"
   ]
  },
  {
   "cell_type": "markdown",
   "metadata": {},
   "source": [
    "Alternatively, `plt.subplots` can create a large grid of subplots in one go (note the `s` at the end of `subplots`).\n",
    "\n",
    "Also, use the `Axes.set` method to set limits, labels, and titles at once."
   ]
  },
  {
   "cell_type": "code",
   "execution_count": null,
   "metadata": {},
   "outputs": [],
   "source": [
    "fig, ax = plt.subplots(2, 2, sharex='col', sharey='row', figsize=(8, 8))\n",
    "\n",
    "ax[0, 0].scatter(pt_mb['AtomicNumber'], pt_mb['MeltingPoint'], alpha=0.5)\n",
    "ax[0, 0].set(xlabel='Atomic Number', ylabel='$T$ (K)', \n",
    "            title=f'Subplot [0, 0]')\n",
    "\n",
    "'''\n",
    "repeat plotting for other subplots: ax[0, 1], ax[1, 0], ax[1, 1]\n",
    "'''\n",
    "\n",
    "fig.tight_layout();"
   ]
  },
  {
   "cell_type": "markdown",
   "metadata": {},
   "source": [
    "Use `for` loop!"
   ]
  },
  {
   "cell_type": "code",
   "execution_count": null,
   "metadata": {},
   "outputs": [],
   "source": [
    "columns = ['AtomicNumber', 'MeltingPoint', 'BoilingPoint', 'Density', 'AtomicRadius']\n",
    "color = ['cyan', 'blue', 'green', 'orange']\n",
    "pt_mb_subet = pt_mb[columns]\n",
    "fig, ax = plt.subplots(2, 2, sharex='col', figsize=(8, 8))\n",
    "\n",
    "for i in range(2):\n",
    "    for j in range(2):\n",
    "        ax[i, j].plot(pt_mb_subet.iloc[:, 0], pt_mb_subet.iloc[:, i*2+j+1], color=color[i*2+j])\n",
    "        ax[i, j].set(xlabel='Atomic Number', ylabel=columns[i*2+j+1], title=f'Subplot [{i}, {j}]')\n",
    "\n",
    "fig.tight_layout();"
   ]
  },
  {
   "cell_type": "markdown",
   "metadata": {},
   "source": [
    "### Exercise 3:\n",
    "\n",
    "Improve the above subplots with object-oriented interface:\n",
    "\n",
    "* change to scatter plot\n",
    "* change the x range to be min(x) to max(x)\n",
    "* change the y range to be min(y) to max(y)\n",
    "* increase the font size of axis label to 12\n",
    "* change the transparency of plotting to 50%\n",
    "* add titles\n",
    "* make sure the subplots don't overlap\n",
    "\n",
    "You can access the `figure` documentation [here](https://matplotlib.org/stable/api/figure_api.html)."
   ]
  },
  {
   "cell_type": "code",
   "execution_count": null,
   "metadata": {},
   "outputs": [],
   "source": []
  },
  {
   "cell_type": "markdown",
   "metadata": {},
   "source": [
    "Please also explore how [`imshow`](https://matplotlib.org/stable/api/_as_gen/matplotlib.pyplot.imshow.html) works."
   ]
  },
  {
   "cell_type": "markdown",
   "metadata": {},
   "source": [
    "## Histograms\n",
    "\n",
    "A simple histogram can be a great first step in understanding a dataset. Matplotlib can create a basic histogram using the command `plt.hist()`.\n",
    "\n",
    "Plot a histogram showing number of elements discovered every decade from 1700 to 2020:"
   ]
  },
  {
   "cell_type": "code",
   "execution_count": null,
   "metadata": {},
   "outputs": [],
   "source": [
    "pt_year = periodic_table.dropna(subset=['Element', 'Year'])\n",
    "plt.figure(figsize=(8, 4))\n",
    "plt.hist(pt_year['Year'], bins=32, range=(1700,2020), color='steelblue', edgecolor='none')\n",
    "plt.xlabel('Year', fontsize=12)\n",
    "plt.ylabel('Number of elements', fontsize=12)\n",
    "plt.xlim(1700, 2020)\n",
    "plt.title('Number of Elements Discovered Every Decade, 1700-2020', fontsize=14, pad=20);"
   ]
  },
  {
   "cell_type": "markdown",
   "metadata": {},
   "source": [
    "Matplotlib can create 2D histograms using [`plt.hist2d`](https://matplotlib.org/stable/api/_as_gen/matplotlib.pyplot.hist2d.html)."
   ]
  },
  {
   "cell_type": "markdown",
   "metadata": {},
   "source": [
    "## Extras: Matplotlib Gotchas\n",
    "\n",
    "While most `plt` functions translate directly to `ax` methods (such as `plt.plot` → `ax.plot`, `plt.legend` → `ax.legend`, etc.), this is not the case for all commands. In particular, functions to set limits, labels, and titles are slightly modified. For transitioning between MATLAB-style functions and object-oriented methods, make the following changes:\n",
    "\n",
    "* `plt.xlabel` → `ax.set_xlabel`\n",
    "\n",
    "* `plt.ylabel` → `ax.set_ylabel`\n",
    "\n",
    "* `plt.xlim` → `ax.set_xlim`\n",
    "\n",
    "* `plt.ylim` → `ax.set_ylim`\n",
    "\n",
    "* `plt.title` → `ax.set_title`\n",
    "\n",
    "In the object-oriented interface to plotting, rather than calling these functions individually, it is often more convenient to use the `ax.set` method to set all these properties at once:"
   ]
  },
  {
   "cell_type": "code",
   "execution_count": null,
   "metadata": {},
   "outputs": [],
   "source": [
    "x = np.linspace(0, 10, 1000)\n",
    "fig, ax = plt.subplots(figsize=(4, 3))\n",
    "ax.plot(x, np.sin(x))\n",
    "ax.set(xlim=(0, 10), ylim=(-2, 2),\n",
    "       xlabel='x', ylabel='sin(x)',\n",
    "       title='An Example for $ax.set$');"
   ]
  },
  {
   "cell_type": "code",
   "execution_count": null,
   "metadata": {},
   "outputs": [],
   "source": []
  }
 ],
 "metadata": {
  "kernelspec": {
   "display_name": "base",
   "language": "python",
   "name": "python3"
  },
  "language_info": {
   "codemirror_mode": {
    "name": "ipython",
    "version": 3
   },
   "file_extension": ".py",
   "mimetype": "text/x-python",
   "name": "python",
   "nbconvert_exporter": "python",
   "pygments_lexer": "ipython3",
   "version": "3.12.9"
  }
 },
 "nbformat": 4,
 "nbformat_minor": 4
}
