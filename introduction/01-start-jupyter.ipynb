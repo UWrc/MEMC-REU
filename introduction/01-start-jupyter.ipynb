{
 "cells": [
  {
   "cell_type": "markdown",
   "id": "ea9a5468",
   "metadata": {},
   "source": [
    "# Starting a Jupyter Notebook Session on Hyak's Open OnDemand Platform \n",
    "\n",
    "Connect to University of Washington's OnDemand services for Hyak by pointing your browser to this link: \n",
    "\n",
    "**https://ondemand.hyak.uw.edu/**\n",
    "\n",
    "You will be asked to sign in with your UWNetID and password. \n",
    "\n",
    "![](python_basics/screenshots/uwnetid-sign-in.png 'login')\n",
    "\n",
    "After that, you will be prompted to authenticate with 2-Factor Authentication. Which will look something like the following:\n",
    "\n",
    "![](python_basics/screenshots/duo-push.png '2FA')\n",
    "\n",
    "After that is complete, you will see the opening message as below: \n",
    "\n",
    "![](python_basics/screenshots/ood-home.png 'home')\n",
    "\n",
    "We will review other features available to you in other workshops during this REU. To proceed with our task, we will click the menu option \"Interactive Apps\" and select Jupyter:\n",
    "\n",
    "![](python_basics/screenshots/interactive-apps.png 'apps')\n",
    "\n",
    "A formula request will be the next screen. Please change the fllowing fields:\n",
    "\n",
    "* Account change to \"memc\"\n",
    "* Parition change to \"compute\"\n",
    "* Jupyter Container change to \"jupyter/datascience-notebook\"\n",
    "* Memory change to \"30\"\n",
    "* Number of Hours change to \"3\"\n",
    "* Finally make sure the \"JupyterLab\" option is selected\n",
    "\n",
    "Push the \"Launch\" button to request the Jupyter Session.\n",
    "\n",
    "![](python_basics/screenshots/job-request.png 'request')\n",
    "\n",
    "The request might wait in the queue for resources to be allocated, but shortly, there will be a button that says \"Connect to Jupyter\" click it to open JupyterLab. \n",
    "\n",
    "![](python_basics/screenshots/connect-jupyter.png 'connect')\n",
    "\n",
    "A new tab will open with your JupyterLab session, and look something like the below: \n",
    "\n",
    "![](python_basics/screenshots/jupyterlab.png 'lab')\n",
    "\n",
    "Here the left sidebar is a view of you Home directory on Hyak's third generation cluster called `klone`. As you create Jupyter Notebooks, they will be appear here or inside of a subdirectory. We'll talk more about this soon. \n",
    "\n",
    "The panel on the right shows choices of the type of Notebook you can open. For this tutorial, we will be using the Python 3 (ipykernel). Go ahead an click on the Python 3 kernel under the Notebook section as shown in Red. \n",
    "\n",
    "This will prompt JupyterLab to confirm your kernel choice. Make sure \"Python 3 (ipykernel)\" is showing and click the \"Select\".\n",
    "\n",
    "![](python_basics/screenshots/kernel-confirm.png 'kernel')\n",
    "\n",
    "You have just started your first Jupyter Notebook of this workshop titled \"Untitled.ipynb\". The file extension \".ipynb\" is the standard extension for ipykernel notebooks, but we can give our Notebook a name. Right click on the \"Untitled.ipynb\" tab and select \"Rename Notebook...\" and choose a new name for it. \n",
    "\n",
    "![](python_basics/screenshots/rename-nb.png 'rename')\n",
    "\n",
    "Now you are ready to learn some Python. \n",
    "\n",
    "Your session will automatically end after 3 hours (or your selected time limit), but you can end your session early by closing the window showing JupyterLab, and finding the OnDemand service window showing your running Jupyter Session. Use the Delete button to end your session manually. \n",
    "\n",
    "![](python_basics/screenshots/connect-jupyter.png 'cancel')\n"
   ]
  },
  {
   "cell_type": "markdown",
   "id": "a21bf4b3",
   "metadata": {},
   "source": []
  }
 ],
 "metadata": {
  "kernelspec": {
   "display_name": "Python 3 (ipykernel)",
   "language": "python",
   "name": "python3"
  },
  "language_info": {
   "codemirror_mode": {
    "name": "ipython",
    "version": 3
   },
   "file_extension": ".py",
   "mimetype": "text/x-python",
   "name": "python",
   "nbconvert_exporter": "python",
   "pygments_lexer": "ipython3",
   "version": "3.12.3"
  }
 },
 "nbformat": 4,
 "nbformat_minor": 5
}
