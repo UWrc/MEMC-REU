{
 "cells": [
  {
   "cell_type": "markdown",
   "id": "ea9a5468",
   "metadata": {},
   "source": [
    "# Python Basics \n",
    "\n",
    "Learning Objectives: \n",
    "* Understand the basics and importance of JuypterLab and Jupyter Notebooks towards reproducible and transparent scientific research.\n",
    "* Navigate the basics of Python as a scripting and programming language to conduct more basic \n",
    "* Use of matplotlib to visualize research data to identify potential associations.\n",
    "* Understand the basics of good figure and plot design (e.g., axis settings and labels).\n",
    "\n",
    "Materials adapted from: \n",
    "* Software Carpentry Lesson, \"Plotting and Programming in Python\" - lesson plans and exercises - https://swcarpentry.github.io/python-novice-gapminder/09-plotting.html\n",
    "\n"
   ]
  },
  {
   "cell_type": "markdown",
   "id": "999301b9",
   "metadata": {},
   "source": [
    "# Why Jupyter Notebooks\n",
    "\n",
    "Jupyter Notebooks significantly enhance reproducible and transparent science by integrating code, data, and narrative in a single document. This combination allows researchers to document their computational processes, share data analyses, and visualize results in an interactive format. By making the complete workflow accessible and executable, Jupyter Notebooks enable other scientists to verify results, replicate experiments, and build upon previous work with ease, thereby fostering a collaborative and open scientific community."
   ]
  },
  {
   "cell_type": "markdown",
   "id": "8522eb18",
   "metadata": {},
   "source": [
    "# Using Jupyter\n",
    "\n",
    "To run Python, we are going to use JupyterLab where we will create Jupyter Notebooks for the remainder of this workshop. Jupyter Notebooks are common in data science and visualization and serve as a convenient common-denominator experience for running Python code interactively where we can easily view and share the results of our Python code.\n",
    "\n",
    "Jupyter Notebooks have several other handy features:\n",
    "\n",
    "* You can easily type, edit, and copy and paste blocks of code.\n",
    "* Tab complete allows you to easily access the names of things you are using and learn more about them.\n",
    "* It allows you to annotate your code with links, different sized text, bullets, etc. to make it more accessible to you and your collaborators.\n",
    "* It allows you to display figures next to the code that produces them to tell a complete story of the analysis.\n",
    "* Each notebook contains one or more cells that contain code, text, or images."
   ]
  },
  {
   "cell_type": "markdown",
   "id": "1e01df08",
   "metadata": {},
   "source": [
    "# Prerequisites\n",
    "\n",
    "If you are attempting to log onto the University of Washington's OnDemand service for Hyak, you will need to follow the instructions to establish a connection to the VPN. [**Click here to go to VPN Instructions.**](https://github.com/UWrc/CEI-REU/blob/main/python_plotting/00-establish-vpn-connection.md)\n",
    "\n",
    "For this workshop, we will use University of Washington's OnDemand service for Hyak to start you JupyterLab session and use Jupyter Notebooks. [**Click here to go to OnDemand Jupyter Instructions.**](https://github.com/UWrc/CEI-REU/blob/main/python_plotting/00-start-jupyter-session.md)\n",
    "\n",
    "Once you have a Jupyter Notebook open, you can proceed with the following sections on your own. We will be going over as many of these concepts as we can during the workshop. \n",
    "\n",
    "# Getting to know Jupyter Notebooks\n",
    "\n",
    "### The Menu Bar\n",
    "\n",
    "The Menu Bar at the top of JupyterLab has the top-level menus that expose various actions available in JupyterLab along with their keyboard shortcuts (where applicable). The following menus are included by default.\n",
    "\n",
    "* **File:** Actions related to files and directories such as New, Open, Close, Save, etc. The File menu also includes the option to Close and Halt (close notebook and half kernel operations).\n",
    "* **Edit**: Actions related to editing documents and other activities such as Undo, Cut, Copy, Paste, etc.\n",
    "* **View**: Actions that alter the appearance of Jupyter Notebook.\n",
    "* **Run**: Actions for running code in different activities such as notebooks and code consoles (discussed below).\n",
    "* **Kernel**: Actions for managing kernels. Kernels in Jupyter will be explained in more detail below.\n",
    "* **Tabs**: A list of the open documents and activities in the main work area.\n",
    "* **Settings**: Common JupyterLab settings can be configured using this menu. There is also an *Advanced Settings Editor* option in the dropdown menu that provides more fine-grained control of JupyterLab settings and configuration options.\n",
    "* **Help**: A list of JupyterLab and kernel help links.\n",
    "\n",
    "### Kernels\n",
    "\n",
    "The Jupyter docs define kernels as “separate processes started by the server that runs your code in different programming languages and environments.” When we open a Jupyter Notebook, that starts a kernel - a process - that is going to run the code. In this lesson, we’ll be using the Jupyter ipython kernel which lets us run Python 3 code interactively."
   ]
  },
  {
   "cell_type": "markdown",
   "id": "f0e6e37f",
   "metadata": {},
   "source": [
    "### Create a Jupyter Notebook\n",
    "\n",
    "If you followed the [**OnDemand Jupyter Instructions**](https://github.com/UWrc/CEI-REU/blob/main/python_plotting/00-start-jupyter-session.md) you have already done this once. As a reminder:\n",
    "\n",
    "* To open a new notebook click the Python 3 (ipykernel) icon under the File Menu and select *New -> Notebook*.\n",
    "* Notebook files have the extension .ipynb to distinguish them from plain-text Python programs.\n",
    "* Notebooks can be exported as Python scripts that can be run from the command line.\n",
    "* We will become familiar with how Jupyter notebooks appear. If you are interested in more details, then see the [**official notebook documentation**](https://jupyterlab.readthedocs.io/en/stable/user/notebook.html).\n",
    "\n",
    "### Code vs. Text\n",
    "\n",
    "Jupyter mixes code and text in different types of blocks, called cells. We often use the term “code” to mean “the source code of software written in a language such as Python”. A “code cell” in a Notebook is a cell that contains software; a “text cell” is one that contains ordinary prose written for human beings.\n",
    "\n",
    "### Command vs. Edit Mode\n",
    "\n",
    "* If you press `Esc` and `Return` alternately, the outer border of your code cell will change from gray to blue.\n",
    "* These are the Command (gray) and Edit (blue) modes of your notebook.\n",
    "* Command mode allows you to edit notebook-level features, and Edit mode changes the content of cells.\n",
    "* When in Command mode (esc/gray),\n",
    "    * The `b` key will make a new cell below the currently selected cell.\n",
    "    * The `a` key will make one above.\n",
    "    * The `x` key will delete the current cell.\n",
    "    * The `z` key will undo your last cell operation (which could be a deletion, creation, etc).\n",
    "* All actions can be done using the menus, but there are lots of keyboard shortcuts to speed things up.\n",
    "* Pressing the `Return` key turns the border blue and engages Edit mode, which allows you to type within the cell.\n",
    "* Because we want to be able to write many lines of code in a single cell, pressing the `Return` key when in Edit mode (blue) moves the cursor to the next line in the cell just like in a text editor.\n",
    "* We need some other way to tell the Notebook we want to run what’s in the cell.\n",
    "* Pressing `Shift`+`Return` together will execute the contents of the cell.\n",
    "* Notice that the `Return` and `Shift` keys on the right of the keyboard are right next to each other.\n",
    "\n",
    "### Mardown\n",
    "\n",
    "* Notebooks can also render [**Markdown**](https://en.wikipedia.org/wiki/Markdown). A simple plain-text format for writing lists, links, and other things that might go into a web page. Equivalently, a subset of HTML that looks like what you’d send in an old-fashioned email.\n",
    "* Turn the current cell into a Markdown cell by entering the Command mode (`Esc`/gray) and press the `M` key. In [ ]: will disappear to show it is no longer a code cell and you will be able to write in Markdown.\n",
    "* Turn the current cell into a Code cell by entering the Command mode (`Esc`/gray) and press the `y` key.\n",
    "\n",
    "Try it on with the next code cell."
   ]
  },
  {
   "cell_type": "code",
   "execution_count": null,
   "id": "a189cf4a",
   "metadata": {},
   "outputs": [],
   "source": []
  },
  {
   "cell_type": "markdown",
   "id": "d121e807",
   "metadata": {},
   "source": [
    "![](screenshots/md_cheatsheet.png 'md')"
   ]
  },
  {
   "cell_type": "markdown",
   "id": "ff3df45e",
   "metadata": {},
   "source": [
    "## Exercise 1: \n",
    "\n",
    "Create a nested list in a Markdown cell in a notebook that looks like this:\n",
    "\n",
    "1. Get funding.\n",
    "1. Do work.\n",
    "    * Design experiment.\n",
    "    * Collect data.\n",
    "    * Analyze.\n",
    "1. Write up.\n",
    "1. Publish."
   ]
  },
  {
   "cell_type": "code",
   "execution_count": null,
   "id": "a86b97d9",
   "metadata": {},
   "outputs": [],
   "source": []
  },
  {
   "cell_type": "markdown",
   "id": "3532e665",
   "metadata": {},
   "source": [
    "## Exercise 2:\n",
    "\n",
    "What is displayed when a Python cell in a notebook that contains several calculations is executed? For example, what happens when this cell is executed?\n",
    "\n",
    "```python\n",
    "7 * 3\n",
    "2 + 1\n",
    "```"
   ]
  },
  {
   "cell_type": "code",
   "execution_count": null,
   "id": "096a1cef",
   "metadata": {},
   "outputs": [],
   "source": []
  },
  {
   "cell_type": "code",
   "execution_count": null,
   "id": "64425226",
   "metadata": {},
   "outputs": [],
   "source": []
  },
  {
   "cell_type": "markdown",
   "id": "b7297287",
   "metadata": {},
   "source": [
    "## Exercise 3:\n",
    "What happens if you write some Python in a code cell and then you switch it to a Markdown cell? For example, put the following in a code cell:\n",
    "\n",
    "```python\n",
    "x = 6 * 7 + 12\n",
    "print(x)\n",
    "```\n",
    "\n",
    "And then run it with `Shift`+`Return` to be sure that it works as a code cell. Now go back to the cell and use `Esc` then `m` to switch the cell to Markdown and “run” it with `Shift`+`Return`. What happened and how might this be useful?"
   ]
  },
  {
   "cell_type": "code",
   "execution_count": null,
   "id": "d9e6d4d4",
   "metadata": {},
   "outputs": [],
   "source": []
  },
  {
   "cell_type": "markdown",
   "id": "6e0d4bd9",
   "metadata": {},
   "source": [
    "## Exercise 4:\n",
    "\n",
    "Standard Markdown (such as we’re using for these notes) won’t render equations, but the Notebook will. Create a new Markdown cell and enter the following:\n",
    "\n",
    "`$\\sum_{i=1}^{N} 2^{-i} \\approx 1$`\n",
    "\n",
    "(It’s probably easier to copy and paste.) What does it display? What do you think the underscore, `_`, circumflex, ^, and dollar sign, $, do?\n",
    "\n",
    "*Hint: convert the cell to Markdown first*"
   ]
  },
  {
   "cell_type": "code",
   "execution_count": null,
   "id": "be69b208",
   "metadata": {},
   "outputs": [],
   "source": []
  }
 ],
 "metadata": {
  "kernelspec": {
   "display_name": "Python 3 (ipykernel)",
   "language": "python",
   "name": "python3"
  },
  "language_info": {
   "codemirror_mode": {
    "name": "ipython",
    "version": 3
   },
   "file_extension": ".py",
   "mimetype": "text/x-python",
   "name": "python",
   "nbconvert_exporter": "python",
   "pygments_lexer": "ipython3",
   "version": "3.12.3"
  }
 },
 "nbformat": 4,
 "nbformat_minor": 5
}
