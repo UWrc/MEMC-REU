{
 "cells": [
  {
   "cell_type": "markdown",
   "id": "ea9a5468",
   "metadata": {},
   "source": [
    "# Establishing your connection to the University of Washington VPN\n",
    "\n",
    "To connect to University of Washington's OnDemand services for Hyak, including JupyterLab, from an off-campus location you first need to connect to the VPN. \n",
    "\n",
    "Follow the Husky OnNet instructions here: \n",
    "\n",
    "https://itconnect.uw.edu/tools-services-support/networks-connectivity/husky-onnet/installing-configuring-and-using-husky-onnet/\n",
    "\n",
    "Note: these instructions are different for Windows and MacOS. Follow the instructions that correspond to your operating system. \n",
    "\n",
    "If you encounter issues connecting to the VPN, send an email to help@uw.edu. "
   ]
  }
 ],
 "metadata": {
  "kernelspec": {
   "display_name": "Python 3 (ipykernel)",
   "language": "python",
   "name": "python3"
  },
  "language_info": {
   "codemirror_mode": {
    "name": "ipython",
    "version": 3
   },
   "file_extension": ".py",
   "mimetype": "text/x-python",
   "name": "python",
   "nbconvert_exporter": "python",
   "pygments_lexer": "ipython3",
   "version": "3.12.3"
  }
 },
 "nbformat": 4,
 "nbformat_minor": 5
}
