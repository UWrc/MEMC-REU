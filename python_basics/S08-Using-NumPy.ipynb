{
 "cells": [
  {
   "cell_type": "markdown",
   "id": "cd82becc",
   "metadata": {},
   "source": [
    "# Loading data into Python\n",
    "\n",
    "For this section, we will use fictional data collected from fictional patients using a miracle drug to cure arthritis inflamation flare-ups in only 3 weeks of treatment. \n",
    "\n",
    "The data sets are stored in comma-separated values (CSV) format:\n",
    "\n",
    "* each row holds information for a single patient\n",
    "* columns represent successive days\n",
    "\n",
    "The first three rows of our first file look like this:\n",
    "```\n",
    "0,0,1,3,1,2,4,7,8,3,3,3,10,5,7,4,7,7,12,18,6,13,11,11,7,7,4,6,8,8,4,4,5,7,3,4,2,3,0,0\n",
    "0,1,2,1,2,1,3,2,2,6,10,11,5,9,4,4,7,16,8,6,18,4,12,5,12,7,11,5,11,3,3,5,4,4,5,5,1,1,0,1\n",
    "0,1,1,3,3,2,6,2,5,9,5,7,4,5,4,15,5,11,9,10,19,14,12,17,7,12,11,7,4,2,10,5,4,2,2,3,2,2,1,1\n",
    "```\n",
    "The CSV file contains the number of inflammation flare-ups per day for the 60 patients in the initial clinical trial, with the trial lasting 40 days. Each row corresponds to a patient, and each column corresponds to a day in the trial. Once a patient has their first inflammation flare-up they take the medication and wait a few weeks for it to take effect and reduce flare-ups.\n",
    "\n",
    "Each number represents the number of inflammation bouts that a particular patient experienced on a given day. For example, value “6” at row 3 column 7 of the data set above means that the third patient was experiencing inflammation six times on the seventh day of the clinical study.\n",
    "\n",
    "To begin processing the clinical trial inflammation data, we need to load it into Python. We can do that using a library called [<ins>**NumPy**</ins>](https://numpy.org/doc/stable), which stands for *Numerical Python*. In general, you should use this library when you want to do fancy things with lots of numbers, especially if you have matrices or arrays. To tell Python that we’d like to start using NumPy, we need to import it:"
   ]
  },
  {
   "cell_type": "code",
   "execution_count": null,
   "id": "a95b2d7e",
   "metadata": {},
   "outputs": [],
   "source": [
    "import numpy"
   ]
  },
  {
   "cell_type": "markdown",
   "id": "3b200265",
   "metadata": {},
   "source": [
    "Importing a library is like getting a piece of lab equipment out of a storage locker and setting it up on the bench. Libraries provide additional functionality to the basic Python package, much like a new piece of equipment adds functionality to a lab space. Just like in the lab, importing too many libraries can sometimes complicate and slow down your programs - so we only import what we need for each program.\n",
    "\n",
    "Once we’ve imported the library, we can ask the library to read our data file for us:"
   ]
  },
  {
   "cell_type": "code",
   "execution_count": null,
   "id": "00a1903d",
   "metadata": {},
   "outputs": [],
   "source": [
    "numpy.loadtxt(fname='data/inflammation-01.csv', delimiter=',')"
   ]
  },
  {
   "cell_type": "markdown",
   "id": "03ceb999",
   "metadata": {},
   "source": [
    "The expression `numpy.loadtxt(...)` is a function call that asks Python to run the function `loadtxt` which belongs to the `numpy` library. The dot notation in Python is used most of all as an object attribute/property specifier or for invoking its method. `object.property` will give you the `object.property` value, `object_name.method()` will invoke on `object_name` method.\n",
    "\n",
    "As an example, John Smith is the John that belongs to the Smith family. We could use the dot notation to write his name `smith.john`, just as `loadtxt` is a function that belongs to the `numpy` library.\n",
    "\n",
    "`numpy.loadtxt` has two parameters: the name of the file we want to read and the `delimiter` that separates values on a line. These both need to be character strings, so we put them in quotes.\n",
    "\n",
    "Since we haven’t told it to do anything else with the function’s output, the notebook displays it. In this case, that output is the data we just loaded. By default, only a few rows and columns are shown (with ... to omit elements when displaying big arrays). Note that, to save space when displaying NumPy arrays, Python does not show us trailing zeros, so 1.0 becomes 1..\n",
    "\n",
    "Our call to `numpy.loadtxt` read our file but didn’t save the data in memory. To do that, we need to assign the array to a variable. In a similar manner to how we assign a single value to a variable, we can also assign an array of values to a variable using the same syntax. Let’s re-run `numpy.loadtxt` and save the returned data:"
   ]
  },
  {
   "cell_type": "code",
   "execution_count": null,
   "id": "9df34fcb",
   "metadata": {},
   "outputs": [],
   "source": [
    "data = numpy.loadtxt(fname='data/inflammation-01.csv', delimiter=',')"
   ]
  },
  {
   "cell_type": "markdown",
   "id": "beb82015",
   "metadata": {},
   "source": [
    "This statement doesn’t produce any output because we’ve assigned the output to the variable data. If we want to check that the data have been loaded, we can print the variable’s value:"
   ]
  },
  {
   "cell_type": "code",
   "execution_count": null,
   "id": "70922610",
   "metadata": {},
   "outputs": [],
   "source": [
    "print(data)"
   ]
  },
  {
   "cell_type": "markdown",
   "id": "9560d55f",
   "metadata": {},
   "source": [
    "Now that the data are in memory, we can manipulate them. First, let’s ask what type of thing data refers to:"
   ]
  },
  {
   "cell_type": "code",
   "execution_count": null,
   "id": "db16916b",
   "metadata": {},
   "outputs": [],
   "source": [
    "print(type(data))"
   ]
  },
  {
   "cell_type": "markdown",
   "id": "288fb51a",
   "metadata": {},
   "source": [
    "The output tells us that data currently refers to an N-dimensional array, the functionality for which is provided by the NumPy library. These data correspond to arthritis patients’ inflammation. The rows are the individual patients, and the columns are their daily inflammation measurements."
   ]
  },
  {
   "cell_type": "markdown",
   "id": "ae402716",
   "metadata": {},
   "source": [
    "A Numpy array contains one or more elements of the same `type`. The type function will only tell you that a variable is a NumPy array but won’t tell you the type of thing inside the array. We can find out the `type` of the data contained in the NumPy array."
   ]
  },
  {
   "cell_type": "code",
   "execution_count": null,
   "id": "51f65e45",
   "metadata": {},
   "outputs": [],
   "source": [
    "print(data.dtype)"
   ]
  },
  {
   "cell_type": "markdown",
   "id": "9cf0498d",
   "metadata": {},
   "source": [
    "With the following command, we can see the array’s `shape`:"
   ]
  },
  {
   "cell_type": "code",
   "execution_count": null,
   "id": "4e0197b8",
   "metadata": {},
   "outputs": [],
   "source": [
    "print(data.shape)"
   ]
  },
  {
   "cell_type": "markdown",
   "id": "a2da92ce",
   "metadata": {},
   "source": [
    "The output tells us that the `data` array variable contains 60 rows and 40 columns. When we created the variable data to store our arthritis data, we did not only create the array; we also created information about the array, called members or attributes. This extra information describes `data` in the same way an adjective describes a noun. `data.shape` is an attribute of `data` which describes the dimensions of data. We use the same dotted notation for the attributes of variables that we use for the functions in libraries because they have the same part-and-whole relationship.\n",
    "\n",
    "If we want to get a single number from the array, we must provide an index in square brackets after the variable name, just as we do in math when referring to an element of a matrix. Our inflammation data has two dimensions, so we will need to use two indices to refer to one specific value:"
   ]
  },
  {
   "cell_type": "code",
   "execution_count": null,
   "id": "af98ab4c",
   "metadata": {},
   "outputs": [],
   "source": [
    "print('first value in data:', data[0, 0])"
   ]
  },
  {
   "cell_type": "code",
   "execution_count": null,
   "id": "d51c6c04",
   "metadata": {},
   "outputs": [],
   "source": [
    "print('middle value in data:', data[29, 19])"
   ]
  },
  {
   "cell_type": "markdown",
   "id": "a86cd4f8",
   "metadata": {},
   "source": [
    "The expression `data[29, 19]` accesses the element at row 30, column 20 (patient 29's inflamation report for day 19). While this expression may not surprise you, `data[0, 0]` might. Programming languages like Fortran, MATLAB and R start counting at 1 because that’s what human beings have done for thousands of years. Languages in the C family (including C++, Java, Perl, and Python) count from 0 because it represents an offset from the first value in the array (the second value is offset by one index from the first value). This is closer to the way that computers represent arrays (if you are interested in the historical reasons behind counting indices from zero, you can read [<ins>**Mike Hoye’s blog post**</ins>](https://exple.tive.org/blarg/2013/10/22/citation-needed/)). As a result, if we have an M×N array in Python, its indices go from 0 to M-1 on the first axis and 0 to N-1 on the second. It takes a bit of getting used to, but one way to remember the rule is that the index is how many steps we have to take from the start to get the item we want.\n",
    "\n",
    "![array indexing diagram](screenshots/array_index.png 'array_indexing')\n",
    "\n",
    "What may also surprise you is that when Python displays an array, it shows the element with index `[0, 0]` in the upper left corner rather than the lower left. This is consistent with the way mathematicians draw matrices but different from the Cartesian coordinates. The indices are (row, column) instead of (column, row) for the same reason, which can be confusing when plotting data."
   ]
  },
  {
   "cell_type": "markdown",
   "id": "407fef9c",
   "metadata": {},
   "source": [
    "# Slicing data\n",
    "\n",
    "An index like `[30, 20]` selects a single element of an array, but we can select whole sections as well. For example, we can select the first ten days (columns) of values for the first four patients (rows) like this:\n"
   ]
  },
  {
   "cell_type": "code",
   "execution_count": null,
   "id": "f2e53994",
   "metadata": {},
   "outputs": [],
   "source": [
    "print(data[0:4, 0:10])"
   ]
  },
  {
   "cell_type": "markdown",
   "id": "cb88475c",
   "metadata": {},
   "source": [
    "The slice `0:4` means, “Start at index 0 and go up to, but not including, index 4”. Again, the up-to-but-not-including takes a bit of getting used to, but the rule is that the difference between the upper and lower bounds is the number of values in the slice.\n",
    "\n",
    "We don’t have to start slices at 0:"
   ]
  },
  {
   "cell_type": "code",
   "execution_count": null,
   "id": "477c4863",
   "metadata": {},
   "outputs": [],
   "source": [
    "print(data[5:10, 0:10])"
   ]
  },
  {
   "cell_type": "markdown",
   "id": "b3887b4e",
   "metadata": {},
   "source": [
    "We also don’t have to include the upper and lower bound on the slice. If we don’t include the lower bound, Python uses 0 by default; if we don’t include the upper, the slice runs to the end of the axis, and if we don’t include either (i.e., if we use ‘:’ on its own), the slice includes everything. The following example selects rows 0 through 2 and columns 36 through to the end of the array."
   ]
  },
  {
   "cell_type": "code",
   "execution_count": null,
   "id": "d8389fcc",
   "metadata": {},
   "outputs": [],
   "source": [
    "small = data[:3, 36:]\n",
    "print('small is:')\n",
    "print(small)"
   ]
  },
  {
   "cell_type": "markdown",
   "id": "42f712dc",
   "metadata": {},
   "source": [
    "# Analyzing data\n",
    "\n",
    "NumPy has several useful functions that take an array as input to perform operations on its values. If we want to find the average inflammation for all patients on all days, for example, we can ask NumPy to compute data’s mean value:"
   ]
  },
  {
   "cell_type": "code",
   "execution_count": null,
   "id": "81347203",
   "metadata": {},
   "outputs": [],
   "source": [
    "print(numpy.mean(data))\n",
    "# mean is a function that takes an array as an argument."
   ]
  },
  {
   "cell_type": "markdown",
   "id": "b93c371f",
   "metadata": {},
   "source": [
    "Let’s use three other NumPy functions to get some descriptive values about the dataset. We’ll also use multiple assignment, a convenient Python feature that will enable us to do this all in one line."
   ]
  },
  {
   "cell_type": "code",
   "execution_count": null,
   "id": "0c54390a",
   "metadata": {},
   "outputs": [],
   "source": [
    "maxval, minval, stdval = numpy.amax(data), numpy.amin(data), numpy.std(data)\n",
    "\n",
    "print('maximum inflammation:', maxval)\n",
    "print('minimum inflammation:', minval)\n",
    "print('standard deviation:', stdval)"
   ]
  },
  {
   "cell_type": "markdown",
   "id": "f4c0d303",
   "metadata": {},
   "source": [
    "Above we’ve assigned the return value from `numpy.amax(data)` to the variable `maxval`, the value from `numpy.amin(data)` to `minval`, and so on."
   ]
  },
  {
   "cell_type": "markdown",
   "id": "1f9bfd1b",
   "metadata": {},
   "source": [
    "**PRO TIP**: How did we know what functions NumPy has and how to use them? If you are working in IPython or in a Jupyter Notebook, there is an easy way to find out. If you type the name of something followed by a dot, then you can use tab completion (e.g. type `numpy.` and then press `Tab`) to see a list of all functions and attributes that you can use. After selecting one, you can also add a question mark (e.g. `numpy.cumprod?`), and IPython will return an explanation of the method! This is the same as doing `help(numpy.cumprod)`. "
   ]
  },
  {
   "cell_type": "markdown",
   "id": "da1d3255",
   "metadata": {},
   "source": [
    "**FYI:** One might wonder why the functions are called `amax` and `amin` and not `max` and `min` or why the other is called `mean` and not `amean`. The package `numpy` does provide functions `max` and `min` that are fully equivalent to `amax` and `amin`, but they share a name with standard library functions `max` and `min` that come with Python itself. Referring to the functions like we did above, that is `numpy.max` for example, does not cause problems, but there are other ways to refer to them that could. In addition, text editors might highlight (color) these functions like standard library function, even though they belong to NumPy, which can be confusing and lead to errors. Since there is no function called `mean` in the standard library, there is no function called `amean`."
   ]
  },
  {
   "cell_type": "markdown",
   "id": "9c8d53e9",
   "metadata": {},
   "source": [
    "When analyzing data, though, we often want to look at variations in statistical values, such as the maximum inflammation per patient or the average inflammation per day. One way to do this is to create a new temporary array of the data we want, then ask it to do the calculation:"
   ]
  },
  {
   "cell_type": "code",
   "execution_count": null,
   "id": "9338c3ae",
   "metadata": {},
   "outputs": [],
   "source": [
    "patient_0 = data[0, :] # 0 on the first axis (rows), everything on the second (columns)\n",
    "print('maximum inflammation for patient 0:', numpy.amax(patient_0))"
   ]
  },
  {
   "cell_type": "markdown",
   "id": "5f452633",
   "metadata": {},
   "source": [
    "We don’t actually need to store the row in a variable of its own. Instead, we can combine the selection and the function call:"
   ]
  },
  {
   "cell_type": "code",
   "execution_count": null,
   "id": "e02a4c08",
   "metadata": {},
   "outputs": [],
   "source": [
    "print('maximum inflammation for patient 2:', numpy.amax(data[2, :]))"
   ]
  },
  {
   "cell_type": "markdown",
   "id": "9c59327c",
   "metadata": {},
   "source": [
    "What if we need the maximum inflammation for each patient over all days (as in the next diagram on the left) or the average for each day (as in the diagram on the right)? As the diagram below shows, we want to perform the operation across an axis:\n",
    "\n",
    "![numpy diagram demonstrating the operation to find patient max inflamation and daily average inflammation](screenshots/numpy.png 'diagram')\n",
    "\n",
    "To find the **maximum inflammation reported for each patient**, you would apply the `max` function moving across the columns (axis 1). To find the **daily average inflammation reported across patients**, you would apply the `mean` function moving down the rows (axis 0). \n",
    "\n",
    "To support this functionality, most array functions allow us to specify the axis we want to work on. If we ask for the max across axis 1 (columns in our 2D example), we get:\n"
   ]
  },
  {
   "cell_type": "code",
   "execution_count": null,
   "id": "30dfdaa0",
   "metadata": {},
   "outputs": [],
   "source": [
    "print(numpy.max(data, axis=1))"
   ]
  },
  {
   "cell_type": "markdown",
   "id": "29f8544b",
   "metadata": {},
   "source": [
    "As a quick check, we can ask this array what its shape is. We expect 60 patient maximums:"
   ]
  },
  {
   "cell_type": "code",
   "execution_count": null,
   "id": "866af504",
   "metadata": {},
   "outputs": [],
   "source": [
    "print(numpy.max(data, axis=1).shape)"
   ]
  },
  {
   "cell_type": "markdown",
   "id": "f6e5b1c9",
   "metadata": {},
   "source": [
    "The expression `(60,)` tells us we have an N×1 vector, so this is the maximum inflammation per day for each patients. "
   ]
  },
  {
   "cell_type": "markdown",
   "id": "1a03d334",
   "metadata": {},
   "source": [
    "If we ask for the average across/down axis 0 (rows in our 2D example), we get:"
   ]
  },
  {
   "cell_type": "code",
   "execution_count": null,
   "id": "c83a0fae",
   "metadata": {},
   "outputs": [],
   "source": [
    "print(numpy.mean(data, axis=0))"
   ]
  },
  {
   "cell_type": "markdown",
   "id": "5d0d5114",
   "metadata": {},
   "source": [
    "Check the array shape. We expect 40 averages, one for each day of the study:"
   ]
  },
  {
   "cell_type": "code",
   "execution_count": null,
   "id": "06f9325e",
   "metadata": {},
   "outputs": [],
   "source": [
    "print(numpy.mean(data, axis=0).shape)"
   ]
  },
  {
   "cell_type": "markdown",
   "id": "e3c83692",
   "metadata": {},
   "source": [
    "Similarly, we can apply the `mean` function to axis 1 to get the patient's average inflammation over the duration of the study (60 values). "
   ]
  },
  {
   "cell_type": "code",
   "execution_count": null,
   "id": "eddc940d",
   "metadata": {},
   "outputs": [],
   "source": [
    "print(numpy.mean(data, axis=1))"
   ]
  },
  {
   "cell_type": "code",
   "execution_count": null,
   "id": "7f35c8c7",
   "metadata": {},
   "outputs": [],
   "source": [
    "print(numpy.mean(data, axis=1).shape)"
   ]
  },
  {
   "cell_type": "markdown",
   "id": "6ba44d8e",
   "metadata": {},
   "source": [
    "## Exercise 1: \n",
    "\n",
    "```python\n",
    "element = 'oxygen'\n",
    "```\n",
    "\n",
    "The expression `element[3:3]` produces an empty string, i.e., a string that contains no characters. If `data` holds our array of patient data, what does `data[3:3, 4:4]` produce? What about `data[3:3, :]`?\n"
   ]
  },
  {
   "cell_type": "code",
   "execution_count": null,
   "id": "acfaf5eb",
   "metadata": {},
   "outputs": [],
   "source": []
  },
  {
   "cell_type": "markdown",
   "id": "3b02a294",
   "metadata": {},
   "source": [
    "*Solution*\n",
    "\n",
    "The slice `data[3:3, 4:4]` gives an empty array because the start and end indices are the same in both dimensions, so no elements are included in the slice. Python slices are **inclusive of the start index but exclusive of the end index**, so `3:3` and `4:4` include nothing because they start and stop at the same position, resulting in an empty slice."
   ]
  },
  {
   "cell_type": "code",
   "execution_count": null,
   "id": "be0c5afa",
   "metadata": {},
   "outputs": [],
   "source": [
    "data[3:3, 4:4]"
   ]
  },
  {
   "cell_type": "markdown",
   "id": "e46c3c3f",
   "metadata": {},
   "source": [
    "`data[3:3, :]` returns an empty array with shape (0, N) because it selects no rows but all columns, preserving the 2D structure."
   ]
  },
  {
   "cell_type": "code",
   "execution_count": null,
   "id": "5dcb3b4f",
   "metadata": {},
   "outputs": [],
   "source": [
    "data[3:3, :]"
   ]
  },
  {
   "cell_type": "markdown",
   "id": "9b3bc450",
   "metadata": {},
   "source": [
    "## Exercise 2: \n",
    "\n",
    "Arrays can be concatenated and stacked on top of one another, using NumPy’s `vstack` and `hstack` functions for vertical and horizontal stacking, respectively.\n",
    "\n",
    "```python\n",
    "import numpy\n",
    "\n",
    "A = numpy.array([[1, 2, 3], [4, 5, 6], [7, 8, 9]])\n",
    "print('A = ')\n",
    "print(A)\n",
    "\n",
    "B = numpy.hstack([A, A])\n",
    "print('B = ')\n",
    "print(B)\n",
    "\n",
    "C = numpy.vstack([A, A])\n",
    "print('C = ')\n",
    "print(C)\n",
    "```\n",
    "\n",
    "Output: \n",
    "```python\n",
    "A =\n",
    "[[1 2 3]\n",
    " [4 5 6]\n",
    " [7 8 9]]\n",
    "B =\n",
    "[[1 2 3 1 2 3]\n",
    " [4 5 6 4 5 6]\n",
    " [7 8 9 7 8 9]]\n",
    "C =\n",
    "[[1 2 3]\n",
    " [4 5 6]\n",
    " [7 8 9]\n",
    " [1 2 3]\n",
    " [4 5 6]\n",
    " [7 8 9]]\n",
    "```\n",
    "Write some additional code that slices the first and last columns of `A`, and stacks them into a 3x2 array. Make sure to `print` the results to verify your solution."
   ]
  },
  {
   "cell_type": "code",
   "execution_count": null,
   "id": "48de9882",
   "metadata": {},
   "outputs": [],
   "source": []
  },
  {
   "cell_type": "markdown",
   "id": "6f12aa00",
   "metadata": {},
   "source": [
    "*Solution A*\n",
    "\n",
    "A ‘gotcha’ with array indexing is that singleton dimensions are dropped by default. That means `A[:, 0]` is a one dimensional array, which won’t stack as desired. To preserve singleton dimensions, the index itself can be a slice or array. For example, `A[:, :1]` returns a two dimensional array with one singleton dimension (i.e. a column vector)."
   ]
  },
  {
   "cell_type": "code",
   "execution_count": null,
   "id": "c8807bbc",
   "metadata": {},
   "outputs": [],
   "source": [
    "A = numpy.array([[1, 2, 3], [4, 5, 6], [7, 8, 9]])\n",
    "print('A = ')\n",
    "print(A)\n",
    "\n",
    "D = numpy.hstack((A[:, :1], A[:, -1:]))\n",
    "print('D = ')\n",
    "print(D)\n"
   ]
  },
  {
   "cell_type": "markdown",
   "id": "87006fc7",
   "metadata": {},
   "source": [
    "*Solution B*\n",
    "\n",
    "An alternative way to achieve the same result is to use Numpy’s delete function to remove the second column of A. If you’re not sure what the parameters of numpy.delete mean, use the help files."
   ]
  },
  {
   "cell_type": "code",
   "execution_count": null,
   "id": "5a09ee77",
   "metadata": {},
   "outputs": [],
   "source": [
    "A = numpy.array([[1, 2, 3], [4, 5, 6], [7, 8, 9]])\n",
    "print('A = ')\n",
    "print(A)\n",
    "\n",
    "D = numpy.delete(arr=A, obj=1, axis=1)\n",
    "print('D = ')\n",
    "print(D)"
   ]
  },
  {
   "cell_type": "markdown",
   "id": "288f3ea6",
   "metadata": {},
   "source": [
    "## Exercise 3: \n",
    "\n",
    "The patient data is *longitudinal* in the sense that each row represents a series of observations relating to one individual. This means that the change in inflammation over time is a meaningful concept. Let’s find out how to calculate changes in the data contained in an array with NumPy.\n",
    "\n",
    "The `numpy.diff()` function takes an array and returns the differences between two successive values. Let’s use it to examine the changes each day across the first week of patient 3 from our inflammation dataset.\n",
    "\n",
    "```python\n",
    "patient3_week1 = data[3, :7]\n",
    "print(patient3_week1)\n",
    "```\n",
    "\n",
    "Output:\n",
    "```python\n",
    "[0. 0. 2. 0. 4. 2. 2.]\n",
    "```\n",
    "Calling `numpy.diff(patient3_week1)` would do the following calculations\n",
    "```python\n",
    "[ 0 - 0, 2 - 0, 0 - 2, 4 - 0, 2 - 4, 2 - 2 ]\n",
    "```\n",
    "and return the 6 difference values in a new array.\n",
    "```python\n",
    "numpy.diff(patient3_week1)\n",
    "```\n",
    "\n",
    "Output:\n",
    "```python\n",
    "array([ 0.,  2., -2.,  4., -2.,  0.])\n",
    "```\n",
    "Note that the array of differences is shorter by one element (length 6).\n",
    "\n",
    "When calling `numpy.diff` with a multi-dimensional array, an axis argument may be passed to the function to specify which axis to process. When applying `numpy.diff` to our 2D inflammation array data, which axis would we specify?"
   ]
  },
  {
   "cell_type": "code",
   "execution_count": null,
   "id": "90a1c3eb",
   "metadata": {},
   "outputs": [],
   "source": []
  },
  {
   "cell_type": "markdown",
   "id": "6924d5c4",
   "metadata": {},
   "source": [
    "*Solution*\n",
    "\n",
    "Since the row axis (0) is patients, it does not make sense to get the difference between two arbitrary patients. The column axis (1) is in days, so the difference is the change in inflammation – a meaningful concept."
   ]
  },
  {
   "cell_type": "code",
   "execution_count": null,
   "id": "d8dd44a0",
   "metadata": {},
   "outputs": [],
   "source": [
    "numpy.diff(data, axis=1)"
   ]
  },
  {
   "cell_type": "markdown",
   "id": "ffc7dae8",
   "metadata": {},
   "source": [
    "## Exercise 4: \n",
    "\n",
    "If the shape of an individual data file is `(60, 40)` (60 rows and 40 columns), what would the shape of the array be after you run the `diff()` function and why?"
   ]
  },
  {
   "cell_type": "code",
   "execution_count": null,
   "id": "6218f52b",
   "metadata": {},
   "outputs": [],
   "source": []
  },
  {
   "cell_type": "markdown",
   "id": "269d5224",
   "metadata": {},
   "source": [
    "*Solution*\n",
    "The shape will be `(60, 39)` because there is one fewer difference between columns than there are columns in the data."
   ]
  },
  {
   "cell_type": "markdown",
   "id": "34ce92ae",
   "metadata": {},
   "source": [
    "## Exercise 5: \n",
    "\n",
    "How would you find the largest change in inflammation for each patient? Does it matter if the change in inflammation is an increase or a decrease?"
   ]
  },
  {
   "cell_type": "code",
   "execution_count": null,
   "id": "da4ea83f",
   "metadata": {},
   "outputs": [],
   "source": []
  },
  {
   "cell_type": "markdown",
   "id": "57c6d18d",
   "metadata": {},
   "source": [
    "*Solution*\n",
    "\n",
    "By using the `numpy.amax()` function after you apply the `numpy.diff()` function, you will get the largest difference between days."
   ]
  },
  {
   "cell_type": "code",
   "execution_count": null,
   "id": "32b7daa3",
   "metadata": {},
   "outputs": [],
   "source": [
    "numpy.amax(numpy.diff(data, axis=1), axis=1)\n"
   ]
  },
  {
   "cell_type": "markdown",
   "id": "d89fd630",
   "metadata": {},
   "source": [
    "If inflammation values decrease along an axis, then the difference from one element to the next will be negative. If you are interested in the magnitude of the change and not the direction, the `numpy.absolute()` function will provide that.\n",
    "\n",
    "Notice the difference if you get the largest absolute difference between readings."
   ]
  },
  {
   "cell_type": "code",
   "execution_count": null,
   "id": "7a622613",
   "metadata": {},
   "outputs": [],
   "source": [
    "numpy.amax(numpy.absolute(numpy.diff(data, axis=1)), axis=1)"
   ]
  }
 ],
 "metadata": {
  "kernelspec": {
   "display_name": "base",
   "language": "python",
   "name": "python3"
  },
  "language_info": {
   "codemirror_mode": {
    "name": "ipython",
    "version": 3
   },
   "file_extension": ".py",
   "mimetype": "text/x-python",
   "name": "python",
   "nbconvert_exporter": "python",
   "pygments_lexer": "ipython3",
   "version": "3.12.3"
  }
 },
 "nbformat": 4,
 "nbformat_minor": 5
}
