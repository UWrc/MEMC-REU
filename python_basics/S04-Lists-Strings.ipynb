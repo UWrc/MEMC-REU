{
 "cells": [
  {
   "cell_type": "markdown",
   "id": "2b425138",
   "metadata": {},
   "source": [
    "# A list stores many values in a single structure\n",
    "\n",
    "* Doing calculations with a hundred variables called `pressure_001`, `pressure_002`, etc., would be at least as slow as doing them by hand.\n",
    "* Use a *list* to store many values together.\n",
    "    * Contained within square brackets `[...]`.\n",
    "    * Values separated by commas `,`.\n",
    "* Use len to find out how many values are in a list."
   ]
  },
  {
   "cell_type": "code",
   "execution_count": null,
   "id": "95323577",
   "metadata": {},
   "outputs": [],
   "source": [
    "pressures = [0.273, 0.275, 0.277, 0.275, 0.276]\n",
    "print('pressures:', pressures)\n",
    "print('length:', len(pressures))"
   ]
  },
  {
   "cell_type": "markdown",
   "id": "6a4e96c2",
   "metadata": {},
   "source": [
    "# Use an item’s index to fetch it from a list\n",
    "Just like strings."
   ]
  },
  {
   "cell_type": "code",
   "execution_count": null,
   "id": "0464c4d7",
   "metadata": {},
   "outputs": [],
   "source": [
    "print('zeroth item of pressures:', pressures[0])\n",
    "print('fourth item of pressures:', pressures[4])"
   ]
  },
  {
   "cell_type": "markdown",
   "id": "981ea65d",
   "metadata": {},
   "source": [
    "# Lists’ values can be replaced by assigning to them\n",
    "\n",
    "Use an index expression on the left of assignment to replace a value."
   ]
  },
  {
   "cell_type": "code",
   "execution_count": null,
   "id": "a28336ac",
   "metadata": {},
   "outputs": [],
   "source": [
    "pressures[0] = 0.265\n",
    "print('pressures is now:', pressures)"
   ]
  },
  {
   "cell_type": "markdown",
   "id": "6af5552c",
   "metadata": {},
   "source": [
    "# Appending items to a list lengthens it\n",
    "Use `list_name.append` to add items to the end of a list."
   ]
  },
  {
   "cell_type": "code",
   "execution_count": null,
   "id": "ed1be7bd",
   "metadata": {},
   "outputs": [],
   "source": [
    "primes = [2, 3, 5]\n",
    "print('primes is initially:', primes)\n",
    "primes.append(7)\n",
    "print('primes has become:', primes)"
   ]
  },
  {
   "cell_type": "markdown",
   "id": "7869597f",
   "metadata": {},
   "source": [
    "* `append` is a ***method*** of lists.\n",
    "    * Like a function, but tied to a particular object.\n",
    "* Use `object_name.method_name` to call methods.\n",
    "    * Deliberately resembles the way we refer to things in a library.\n",
    "* We will meet other methods of lists as we go along.\n",
    "* Use `help(list)` for a preview.\n",
    "* `extend` is similar to `append`, but it allows you to combine two lists. For example:"
   ]
  },
  {
   "cell_type": "code",
   "execution_count": null,
   "id": "32eb3ace",
   "metadata": {},
   "outputs": [],
   "source": [
    "teen_primes = [11, 13, 17, 19]\n",
    "middle_aged_primes = [37, 41, 43, 47]\n",
    "print('primes is currently:', primes)\n",
    "primes.extend(teen_primes)\n",
    "print('primes has now become:', primes)\n",
    "primes.append(middle_aged_primes)\n",
    "print('primes has finally become:', primes)"
   ]
  },
  {
   "cell_type": "markdown",
   "id": "025ac81d",
   "metadata": {},
   "source": [
    "Note that while `extend` maintains the “flat” structure of the list, appending a list to a list means the last element in `primes` will itself be a list, not an integer. Lists can contain values of any type; therefore, lists of lists are possible.\n",
    "\n",
    "# Use `del` to remove items from a list entirely\n",
    "\n",
    "* We use del `list_name[index]` to remove an element from a list (in the example, 9 is not a prime number) and thus shorten it.\n",
    "* `del` is not a function or a method, but a statement in the language."
   ]
  },
  {
   "cell_type": "code",
   "execution_count": null,
   "id": "ca391421",
   "metadata": {},
   "outputs": [],
   "source": [
    "primes = [2, 3, 5, 7, 9]\n",
    "print('primes before removing last item:', primes)\n",
    "del primes[4]\n",
    "print('primes after removing last item:', primes)"
   ]
  },
  {
   "cell_type": "markdown",
   "id": "1016fe3d",
   "metadata": {},
   "source": [
    "# The empty list contains no values\n",
    "Use `[]` on its own to represent a list that doesn’t contain any values.\n",
    "* “The zero of lists.”\n",
    "\n",
    "# Lists may contain values of different types\n",
    "\n",
    "A single list may contain numbers, strings, and anything else."
   ]
  },
  {
   "cell_type": "code",
   "execution_count": null,
   "id": "d9a1b607",
   "metadata": {},
   "outputs": [],
   "source": [
    "goals = [1, 'Create lists.', 2, 'Extract items from lists.', 3, 'Modify lists.']"
   ]
  },
  {
   "cell_type": "markdown",
   "id": "f360ad93",
   "metadata": {},
   "source": [
    "# Character strings can be indexed like lists\n",
    "Get single characters from a character string using indexes in square brackets."
   ]
  },
  {
   "cell_type": "code",
   "execution_count": null,
   "id": "d56c3735",
   "metadata": {},
   "outputs": [],
   "source": [
    "element = 'carbon'\n",
    "print('zeroth character:', element[0])\n",
    "print('third character:', element[3])"
   ]
  },
  {
   "cell_type": "markdown",
   "id": "fe687c25",
   "metadata": {},
   "source": [
    "# Character strings are immutable\n",
    "\n",
    "* Cannot change the characters in a string after it has been created.\n",
    "    * ***Immutable:*** can’t be changed after creation.\n",
    "    * In contrast, lists are ***mutable:*** they can be modified in place.\n",
    "* Python considers the string to be a single value with parts, not a collection of values.\n",
    "* Lists and character strings are both ***collections***."
   ]
  },
  {
   "cell_type": "code",
   "execution_count": null,
   "id": "79756d77",
   "metadata": {},
   "outputs": [],
   "source": [
    "element[0] = 'C'"
   ]
  },
  {
   "cell_type": "markdown",
   "id": "dd3b81fa",
   "metadata": {},
   "source": [
    "# Indexing beyond the end of the collection is an error\n",
    "\n",
    "* Python reports an IndexError if we attempt to access a value that doesn’t exist.\n",
    "    * This is a kind of [runtime error](https://swcarpentry.github.io/python-novice-gapminder/04-built-in.html).\n",
    "    * Cannot be detected as the code is parsed because the index might be calculated based on data."
   ]
  },
  {
   "cell_type": "code",
   "execution_count": null,
   "id": "942d705a",
   "metadata": {},
   "outputs": [],
   "source": [
    "print('99th element of element is:', element[99])"
   ]
  },
  {
   "cell_type": "markdown",
   "id": "430eb70e",
   "metadata": {},
   "source": [
    "## Exercise 1: \n",
    "\n",
    "Fill in the blanks so that the program below produces the output shown.\n",
    "\n",
    "```python\n",
    "values = ____\n",
    "values.____(1)\n",
    "values.____(3)\n",
    "values.____(5)\n",
    "print('first time:', values)\n",
    "values = values[____]\n",
    "print('second time:', values)\n",
    "```\n",
    "\n",
    "Output:\n",
    "```python\n",
    "first time: [1, 3, 5]\n",
    "second time: [3, 5]\n",
    "```\n",
    "\n",
    "*Solution:*"
   ]
  },
  {
   "cell_type": "code",
   "execution_count": null,
   "id": "9765c725-1e6b-47f0-bae4-36c52ceae4a6",
   "metadata": {},
   "outputs": [],
   "source": [
    "values = []\n",
    "values.append(1)\n",
    "values.append(3)\n",
    "values.append(5)\n",
    "print('first time:', values)\n",
    "values = values[1:]\n",
    "print('second time:', values)"
   ]
  },
  {
   "cell_type": "markdown",
   "id": "49674bd6-93ff-4af2-a418-935f6d44dd88",
   "metadata": {},
   "source": [
    "## Exercise 2:\n",
    "\n",
    "Given this:\n",
    "\n",
    "```python\n",
    "print('string to list:', list('tin'))\n",
    "print('list to string:', ''.join(['g', 'o', 'l', 'd']))\n",
    "```\n",
    "\n",
    "Output: \n",
    "```python\n",
    "string to list: ['t', 'i', 'n']\n",
    "list to string: gold\n",
    "```\n",
    "\n",
    "1. What does `list('some string')` do?\n",
    "2. What does `'-'.join(['x', 'y', 'z'])` generate?"
   ]
  },
  {
   "cell_type": "code",
   "execution_count": null,
   "id": "a4f8119c-f91e-4625-a036-82b1a6bfb9f7",
   "metadata": {},
   "outputs": [],
   "source": []
  },
  {
   "cell_type": "code",
   "execution_count": null,
   "id": "97a33128-e1f5-46a6-ad07-9695701951b4",
   "metadata": {},
   "outputs": [],
   "source": []
  },
  {
   "cell_type": "markdown",
   "id": "06ff5032-3003-40fb-92ac-f5b8673891c6",
   "metadata": {},
   "source": [
    "*Solution:*\n",
    "\n",
    "1. `list('some string')` converts a string into a list containing all of its characters.\n",
    "2. `join` returns a string that is the *concatenation* of each string element in the list and adds the separator between each element in the list. This results in `x-y-z`. The separator between the elements is the string that provides this method."
   ]
  },
  {
   "cell_type": "markdown",
   "id": "562e3b9f-3aa9-45c3-832a-c3a5113e7b7a",
   "metadata": {},
   "source": [
    "## Exercise 3: \n",
    "\n",
    "What does the following program print?\n",
    "\n",
    "```python\n",
    "element = 'helium'\n",
    "print(element[-1])\n",
    "```\n",
    "\n",
    "1. How does Python interpret a negative index?\n",
    "2. If a list or string has N elements, what is the most negative index that can safely be used with it, and what location does that index represent?\n",
    "3. If `values` is a list, what does `del values[-1]` do?\n",
    "4. How can you display all elements but the last one without changing values? (Hint: you will need to combine slicing and negative indexing.)"
   ]
  },
  {
   "cell_type": "code",
   "execution_count": null,
   "id": "72f947d0-9508-4158-a064-ad3f7769efbd",
   "metadata": {},
   "outputs": [],
   "source": []
  },
  {
   "cell_type": "markdown",
   "id": "fb8697fe-92d0-48ac-bfd1-535316da8346",
   "metadata": {},
   "source": [
    "*Solution:*\n",
    "\n",
    "The program prints `m`.\n",
    "\n",
    "1. Python interprets a negative index as starting from the end (as opposed to starting from the beginning). The last element is -1.\n",
    "2. The last index that can safely be used with a list of N elements is element -N, which represents the first element.\n",
    "3. `del values[-1]` removes the last element from the list.\n",
    "4. `values[:-1]`"
   ]
  },
  {
   "cell_type": "markdown",
   "id": "340c472f-7690-4721-9cab-7f8e9c580734",
   "metadata": {},
   "source": [
    "## Exercise 4: \n",
    "\n",
    "What does the following program print?\n",
    "\n",
    "```python\n",
    "element = 'fluorine'\n",
    "print(element[::2])\n",
    "print(element[::-1])\n",
    "```\n",
    "\n",
    "1. If we write a slice as low:high:stride, what does stride do?\n",
    "2. What expression would select all of the even-numbered items from a collection?"
   ]
  },
  {
   "cell_type": "code",
   "execution_count": null,
   "id": "fec80a56-79d5-4949-ac63-7970e2859942",
   "metadata": {},
   "outputs": [],
   "source": []
  },
  {
   "cell_type": "markdown",
   "id": "d7830817-d586-473f-87c1-fd76611b2376",
   "metadata": {},
   "source": [
    "*Solution:*\n",
    "\n",
    "The program prints\n",
    "```python\n",
    "furn\n",
    "eniroulf\n",
    "```\n",
    "\n",
    "1. `stride` is the step size of the slice.\n",
    "2. The slice `1::2` selects all even-numbered items from a collection: it starts with element 1 (which is the second element, since indexing starts at 0), goes on until the end (since no end is given), and uses a step size of 2 (i.e., selects every second element)."
   ]
  },
  {
   "cell_type": "markdown",
   "id": "0f1abc55-01b1-4fd4-9d2e-cbfb49e2ed55",
   "metadata": {},
   "source": [
    "## Exercise 5: \n",
    "\n",
    "What does the following program print?\n",
    "\n",
    "```python\n",
    "element = 'lithium'\n",
    "print(element[0:20])\n",
    "print(element[-1:3])\n",
    "```"
   ]
  },
  {
   "cell_type": "code",
   "execution_count": null,
   "id": "86587426-b2fb-49b7-ae0d-62917fe563ea",
   "metadata": {},
   "outputs": [],
   "source": []
  },
  {
   "cell_type": "markdown",
   "id": "377c636c-9edb-49c0-aa30-fc50249673e1",
   "metadata": {},
   "source": [
    "*Solution:*\n",
    "\n",
    "```python\n",
    "lithium\n",
    "```\n",
    "\n",
    "The first statement prints the whole string, since the slice goes beyond the total length of the string. The second statement returns an empty string, because the slice goes “out of bounds” of the string."
   ]
  },
  {
   "cell_type": "markdown",
   "id": "d40305ac-eab4-4676-862c-f6aa81939560",
   "metadata": {},
   "source": [
    "## Exercise 6:\n",
    "\n",
    "What do these two programs print? In simple terms, explain the difference between `sorted(letters)` and `letters.sort()`.\n",
    "\n",
    "```python\n",
    "# Program A\n",
    "letters = list('gold')\n",
    "result = sorted(letters)\n",
    "print('letters is', letters, 'and result is', result)\n",
    "\n",
    "# Program B\n",
    "letters = list('gold')\n",
    "result = letters.sort()\n",
    "print('letters is', letters, 'and result is', result)\n",
    "```"
   ]
  },
  {
   "cell_type": "code",
   "execution_count": null,
   "id": "55484607-29ec-4df4-ad21-032689ac60a2",
   "metadata": {},
   "outputs": [],
   "source": []
  },
  {
   "cell_type": "markdown",
   "id": "f89096d8-645c-4b6b-8398-d6450661c821",
   "metadata": {},
   "source": [
    "*Solution:*\n",
    "\n",
    "Program A prints:\n",
    "```python\n",
    "letters is ['g', 'o', 'l', 'd'] and result is ['d', 'g', 'l', 'o']\n",
    "```\n",
    "\n",
    "Program B prints:\n",
    "```python\n",
    "letters is ['d', 'g', 'l', 'o'] and result is None\n",
    "```\n",
    "\n",
    "`sorted(letters)` returns a sorted copy of the list `letters` (the original list letters remains unchanged), while `letters.sort()` sorts the list `letters` in-place and does not return anything."
   ]
  },
  {
   "cell_type": "markdown",
   "id": "9c026478-3005-44bb-9563-833e2c252dc9",
   "metadata": {},
   "source": [
    "## Exercise 7: \n",
    "\n",
    "What do these two programs print? In simple terms, explain the difference between `new = old` and `new = old[:]`.\n",
    "\n",
    "```python\n",
    "# Program A\n",
    "old = list('gold')\n",
    "new = old      # simple assignment\n",
    "new[0] = 'D'\n",
    "print('new is', new, 'and old is', old)\n",
    "\n",
    "# Program B\n",
    "old = list('gold')\n",
    "new = old[:]   # assigning a slice\n",
    "new[0] = 'D'\n",
    "print('new is', new, 'and old is', old)\n",
    "```"
   ]
  },
  {
   "cell_type": "code",
   "execution_count": null,
   "id": "7775b854-c420-41ed-b477-0a712d5c7138",
   "metadata": {},
   "outputs": [],
   "source": []
  },
  {
   "cell_type": "markdown",
   "id": "08aa1f0d-72dc-4df3-be03-0fc94ebfa729",
   "metadata": {},
   "source": [
    "*Solution:*\n",
    "\n",
    "Program A prints:\n",
    "```python\n",
    "new is ['D', 'o', 'l', 'd'] and old is ['D', 'o', 'l', 'd']\n",
    "```\n",
    "`new = old` makes `new` a reference to the list `old; new` and `old` point towards the same object.\n",
    "\n",
    "Program B prints:\n",
    "```python\n",
    "new is ['D', 'o', 'l', 'd'] and old is ['g', 'o', 'l', 'd']\n",
    "```\n",
    "\n",
    "`new = old[:]` however creates a new list object `new` containing all elements from the list `old; new` and `old` are different objects.\n",
    "\n"
   ]
  }
 ],
 "metadata": {
  "kernelspec": {
   "display_name": "Python 3 (ipykernel)",
   "language": "python",
   "name": "python3"
  },
  "language_info": {
   "codemirror_mode": {
    "name": "ipython",
    "version": 3
   },
   "file_extension": ".py",
   "mimetype": "text/x-python",
   "name": "python",
   "nbconvert_exporter": "python",
   "pygments_lexer": "ipython3",
   "version": "3.12.3"
  }
 },
 "nbformat": 4,
 "nbformat_minor": 5
}
