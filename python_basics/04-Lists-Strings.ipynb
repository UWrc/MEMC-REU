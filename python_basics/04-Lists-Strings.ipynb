{
 "cells": [
  {
   "cell_type": "markdown",
   "id": "2b425138",
   "metadata": {},
   "source": [
    "# A list stores many values in a single structure\n",
    "\n",
    "* Doing calculations with a hundred variables called `pressure_001`, `pressure_002`, etc., would be at least as slow as doing them by hand.\n",
    "* Use a *list* to store many values together.\n",
    "    * Contained within square brackets `[...]`.\n",
    "    * Values separated by commas `,`.\n",
    "* Use len to find out how many values are in a list."
   ]
  },
  {
   "cell_type": "code",
   "execution_count": null,
   "id": "95323577",
   "metadata": {},
   "outputs": [],
   "source": [
    "pressures = [0.273, 0.275, 0.277, 0.275, 0.276]\n",
    "print('pressures:', pressures)\n",
    "print('length:', len(pressures))"
   ]
  },
  {
   "cell_type": "markdown",
   "id": "6a4e96c2",
   "metadata": {},
   "source": [
    "# Use an item’s index to fetch it from a list\n",
    "Just like strings."
   ]
  },
  {
   "cell_type": "code",
   "execution_count": null,
   "id": "0464c4d7",
   "metadata": {},
   "outputs": [],
   "source": [
    "print('zeroth item of pressures:', pressures[0])\n",
    "print('fourth item of pressures:', pressures[4])"
   ]
  },
  {
   "cell_type": "markdown",
   "id": "981ea65d",
   "metadata": {},
   "source": [
    "# Lists’ values can be replaced by assigning to them\n",
    "\n",
    "Use an index expression on the left of assignment to replace a value."
   ]
  },
  {
   "cell_type": "code",
   "execution_count": null,
   "id": "a28336ac",
   "metadata": {},
   "outputs": [],
   "source": [
    "pressures[0] = 0.265\n",
    "print('pressures is now:', pressures)"
   ]
  },
  {
   "cell_type": "markdown",
   "id": "6af5552c",
   "metadata": {},
   "source": [
    "# Appending items to a list lengthens it\n",
    "Use `list_name.append` to add items to the end of a list."
   ]
  },
  {
   "cell_type": "code",
   "execution_count": null,
   "id": "ed1be7bd",
   "metadata": {},
   "outputs": [],
   "source": [
    "primes = [2, 3, 5]\n",
    "print('primes is initially:', primes)\n",
    "primes.append(7)\n",
    "print('primes has become:', primes)"
   ]
  },
  {
   "cell_type": "markdown",
   "id": "7869597f",
   "metadata": {},
   "source": [
    "* `append` is a ***method*** of lists.\n",
    "    * Like a function, but tied to a particular object.\n",
    "* Use `object_name.method_name` to call methods.\n",
    "    * Deliberately resembles the way we refer to things in a library.\n",
    "* We will meet other methods of lists as we go along.\n",
    "* Use `help(list)` for a preview.\n",
    "* `extend` is similar to `append`, but it allows you to combine two lists. For example:"
   ]
  },
  {
   "cell_type": "code",
   "execution_count": null,
   "id": "32eb3ace",
   "metadata": {},
   "outputs": [],
   "source": [
    "teen_primes = [11, 13, 17, 19]\n",
    "middle_aged_primes = [37, 41, 43, 47]\n",
    "print('primes is currently:', primes)\n",
    "primes.extend(teen_primes)\n",
    "print('primes has now become:', primes)\n",
    "primes.append(middle_aged_primes)\n",
    "print('primes has finally become:', primes)"
   ]
  },
  {
   "cell_type": "markdown",
   "id": "025ac81d",
   "metadata": {},
   "source": [
    "Note that while `extend` maintains the “flat” structure of the list, appending a list to a list means the last element in `primes` will itself be a list, not an integer. Lists can contain values of any type; therefore, lists of lists are possible.\n",
    "\n",
    "# Use `del` to remove items from a list entirely\n",
    "\n",
    "* We use del `list_name[index]` to remove an element from a list (in the example, 9 is not a prime number) and thus shorten it.\n",
    "* `del` is not a function or a method, but a statement in the language."
   ]
  },
  {
   "cell_type": "code",
   "execution_count": null,
   "id": "ca391421",
   "metadata": {},
   "outputs": [],
   "source": [
    "primes = [2, 3, 5, 7, 9]\n",
    "print('primes before removing last item:', primes)\n",
    "del primes[4]\n",
    "print('primes after removing last item:', primes)"
   ]
  },
  {
   "cell_type": "markdown",
   "id": "1016fe3d",
   "metadata": {},
   "source": [
    "# The empty list contains no values\n",
    "Use `[]` on its own to represent a list that doesn’t contain any values.\n",
    "* “The zero of lists.”\n",
    "\n",
    "# Lists may contain values of different types\n",
    "\n",
    "A single list may contain numbers, strings, and anything else."
   ]
  },
  {
   "cell_type": "code",
   "execution_count": null,
   "id": "d9a1b607",
   "metadata": {},
   "outputs": [],
   "source": [
    "goals = [1, 'Create lists.', 2, 'Extract items from lists.', 3, 'Modify lists.']"
   ]
  },
  {
   "cell_type": "markdown",
   "id": "f360ad93",
   "metadata": {},
   "source": [
    "# Character strings can be indexed like lists\n",
    "Get single characters from a character string using indexes in square brackets."
   ]
  },
  {
   "cell_type": "code",
   "execution_count": null,
   "id": "d56c3735",
   "metadata": {},
   "outputs": [],
   "source": [
    "element = 'carbon'\n",
    "print('zeroth character:', element[0])\n",
    "print('third character:', element[3])"
   ]
  },
  {
   "cell_type": "markdown",
   "id": "fe687c25",
   "metadata": {},
   "source": [
    "# Character strings are immutable\n",
    "\n",
    "* Cannot change the characters in a string after it has been created.\n",
    "    * ***Immutable:*** can’t be changed after creation.\n",
    "    * In contrast, lists are ***mutable:*** they can be modified in place.\n",
    "* Python considers the string to be a single value with parts, not a collection of values.\n",
    "* Lists and character strings are both ***collections***."
   ]
  },
  {
   "cell_type": "code",
   "execution_count": null,
   "id": "79756d77",
   "metadata": {},
   "outputs": [],
   "source": [
    "element[0] = 'C'"
   ]
  },
  {
   "cell_type": "markdown",
   "id": "dd3b81fa",
   "metadata": {},
   "source": [
    "# Indexing beyond the end of the collection is an error\n",
    "\n",
    "* Python reports an IndexError if we attempt to access a value that doesn’t exist.\n",
    "    * This is a kind of [runtime error](https://swcarpentry.github.io/python-novice-gapminder/04-built-in.html).\n",
    "    * Cannot be detected as the code is parsed because the index might be calculated based on data."
   ]
  },
  {
   "cell_type": "code",
   "execution_count": null,
   "id": "942d705a",
   "metadata": {},
   "outputs": [],
   "source": [
    "print('99th element of element is:', element[99])"
   ]
  },
  {
   "cell_type": "markdown",
   "id": "430eb70e",
   "metadata": {},
   "source": [
    "## Exercise 1: \n",
    "\n",
    "Fill in the blanks so that the program below produces the output shown.\n",
    "\n",
    "```python\n",
    "values = ____\n",
    "values.____(1)\n",
    "values.____(3)\n",
    "values.____(5)\n",
    "print('first time:', values)\n",
    "values = values[____]\n",
    "print('second time:', values)\n",
    "```\n",
    "\n",
    "Output:\n",
    "```python\n",
    "first time: [1, 3, 5]\n",
    "second time: [3, 5]\n",
    "```"
   ]
  },
  {
   "cell_type": "code",
   "execution_count": null,
   "id": "9765c725-1e6b-47f0-bae4-36c52ceae4a6",
   "metadata": {},
   "outputs": [],
   "source": []
  },
  {
   "cell_type": "markdown",
   "id": "49674bd6-93ff-4af2-a418-935f6d44dd88",
   "metadata": {},
   "source": [
    "## Exercise 2:\n",
    "\n",
    "Given this:\n",
    "\n",
    "```python\n",
    "print('string to list:', list('tin'))\n",
    "print('list to string:', ''.join(['g', 'o', 'l', 'd']))\n",
    "```\n",
    "\n",
    "Output: \n",
    "```python\n",
    "string to list: ['t', 'i', 'n']\n",
    "list to string: gold\n",
    "```\n",
    "\n",
    "1. What does `list('some string')` do?\n",
    "2. What does `'-'.join(['x', 'y', 'z'])` generate?"
   ]
  },
  {
   "cell_type": "code",
   "execution_count": null,
   "id": "984ec7d8-c5e5-4ce0-8597-c51552348c94",
   "metadata": {},
   "outputs": [],
   "source": []
  },
  {
   "cell_type": "code",
   "execution_count": null,
   "id": "5c177adc-bdbc-457a-ac0b-ee516663c8fc",
   "metadata": {},
   "outputs": [],
   "source": []
  },
  {
   "cell_type": "markdown",
   "id": "562e3b9f-3aa9-45c3-832a-c3a5113e7b7a",
   "metadata": {},
   "source": [
    "## Exercise 3: \n",
    "\n",
    "What does the following program print?\n",
    "\n",
    "```python\n",
    "element = 'helium'\n",
    "print(element[-1])\n",
    "```\n",
    "\n",
    "1. How does Python interpret a negative index?\n",
    "2. If a list or string has N elements, what is the most negative index that can safely be used with it, and what location does that index represent?\n",
    "3. If `values` is a list, what does `del values[-1]` do?\n",
    "4. How can you display all elements but the last one without changing values? (Hint: you will need to combine slicing and negative indexing.)"
   ]
  },
  {
   "cell_type": "code",
   "execution_count": null,
   "id": "72f947d0-9508-4158-a064-ad3f7769efbd",
   "metadata": {},
   "outputs": [],
   "source": []
  },
  {
   "cell_type": "markdown",
   "id": "340c472f-7690-4721-9cab-7f8e9c580734",
   "metadata": {},
   "source": [
    "## Exercise 4: \n",
    "\n",
    "What does the following program print?\n",
    "\n",
    "```python\n",
    "element = 'fluorine'\n",
    "print(element[::2])\n",
    "print(element[::-1])\n",
    "```\n",
    "\n",
    "1. If we write a slice as low:high:stride, what does stride do?\n",
    "2. What expression would select all of the even-numbered items from a collection?"
   ]
  },
  {
   "cell_type": "code",
   "execution_count": null,
   "id": "fec80a56-79d5-4949-ac63-7970e2859942",
   "metadata": {},
   "outputs": [],
   "source": []
  },
  {
   "cell_type": "markdown",
   "id": "0f1abc55-01b1-4fd4-9d2e-cbfb49e2ed55",
   "metadata": {},
   "source": [
    "## Exercise 5: \n",
    "\n",
    "What does the following program print?\n",
    "\n",
    "```python\n",
    "element = 'lithium'\n",
    "print(element[0:20])\n",
    "print(element[-1:3])\n",
    "```"
   ]
  },
  {
   "cell_type": "code",
   "execution_count": null,
   "id": "86587426-b2fb-49b7-ae0d-62917fe563ea",
   "metadata": {},
   "outputs": [],
   "source": []
  },
  {
   "cell_type": "markdown",
   "id": "d40305ac-eab4-4676-862c-f6aa81939560",
   "metadata": {},
   "source": [
    "## Exercise 6:\n",
    "\n",
    "What do these two programs print? In simple terms, explain the difference between `sorted(letters)` and `letters.sort()`.\n",
    "\n",
    "```python\n",
    "# Program A\n",
    "letters = list('gold')\n",
    "result = sorted(letters)\n",
    "print('letters is', letters, 'and result is', result)\n",
    "\n",
    "# Program B\n",
    "letters = list('gold')\n",
    "result = letters.sort()\n",
    "print('letters is', letters, 'and result is', result)\n",
    "```"
   ]
  },
  {
   "cell_type": "code",
   "execution_count": null,
   "id": "55484607-29ec-4df4-ad21-032689ac60a2",
   "metadata": {},
   "outputs": [],
   "source": []
  },
  {
   "cell_type": "markdown",
   "id": "9c026478-3005-44bb-9563-833e2c252dc9",
   "metadata": {},
   "source": [
    "## Exercise 7: \n",
    "\n",
    "What do these two programs print? In simple terms, explain the difference between `new = old` and `new = old[:]`.\n",
    "\n",
    "```python\n",
    "# Program A\n",
    "old = list('gold')\n",
    "new = old      # simple assignment\n",
    "new[0] = 'D'\n",
    "print('new is', new, 'and old is', old)\n",
    "\n",
    "# Program B\n",
    "old = list('gold')\n",
    "new = old[:]   # assigning a slice\n",
    "new[0] = 'D'\n",
    "print('new is', new, 'and old is', old)\n",
    "```"
   ]
  },
  {
   "cell_type": "code",
   "execution_count": null,
   "id": "cbc84d90-e0c5-4bf1-89e8-a43522724275",
   "metadata": {},
   "outputs": [],
   "source": []
  }
 ],
 "metadata": {
  "kernelspec": {
   "display_name": "Python 3 (ipykernel)",
   "language": "python",
   "name": "python3"
  },
  "language_info": {
   "codemirror_mode": {
    "name": "ipython",
    "version": 3
   },
   "file_extension": ".py",
   "mimetype": "text/x-python",
   "name": "python",
   "nbconvert_exporter": "python",
   "pygments_lexer": "ipython3",
   "version": "3.12.3"
  }
 },
 "nbformat": 4,
 "nbformat_minor": 5
}
