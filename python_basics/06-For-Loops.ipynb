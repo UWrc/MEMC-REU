{
 "cells": [
  {
   "cell_type": "markdown",
   "id": "02eb4e7c",
   "metadata": {},
   "source": [
    "# A `for` loop executes commands once for each value in a collection\n",
    "\n",
    "* Doing calculations on the values in a list one by one is as painful as working with `pressure_001`, `pressure_002`, etc.\n",
    "* A **for loop tells* Python to execute some statements once for each value in a list, a character string, or some other collection.\n",
    "* “for each thing in this group, do these operations”"
   ]
  },
  {
   "cell_type": "code",
   "execution_count": null,
   "id": "2cbfb1a1",
   "metadata": {},
   "outputs": [],
   "source": [
    "for number in [2, 3, 5]:\n",
    "    print(number)"
   ]
  },
  {
   "cell_type": "markdown",
   "id": "d05d7907",
   "metadata": {},
   "source": [
    "The for loop above is equivalent to:"
   ]
  },
  {
   "cell_type": "code",
   "execution_count": null,
   "id": "490825e6",
   "metadata": {},
   "outputs": [],
   "source": [
    "print(2)\n",
    "print(3)\n",
    "print(5)"
   ]
  },
  {
   "cell_type": "markdown",
   "id": "011c35b7",
   "metadata": {},
   "source": [
    "# A `for` loop is made up of a collection, a loop variable, and a body.\n",
    "\n",
    "```python\n",
    "for number in [2, 3, 5]:\n",
    "    print(number)\n",
    "```\n",
    "* The collection, `[2, 3, 5]`, is what the loop is being run on.\n",
    "* The body, `print(number)`, specifies what to do for each value in the collection.\n",
    "* The loop variable, `number`, is what changes for each *iteration* of the loop.\n",
    "    * The “current thing”.\n"
   ]
  },
  {
   "cell_type": "markdown",
   "id": "8a134d8f",
   "metadata": {},
   "source": [
    "# The first line of the `for` loop must end with a colon, and the body must be indented.\n",
    "\n",
    "* The colon at the end of the first line signals the start of a block of statements.\n",
    "* Python uses indentation rather than `{}` or begin/end to show *nesting*.\n",
    "    * Any consistent indentation is legal, but almost everyone uses four spaces."
   ]
  },
  {
   "cell_type": "code",
   "execution_count": null,
   "id": "aebbeec3",
   "metadata": {},
   "outputs": [],
   "source": [
    "for number in [2, 3, 5]:\n",
    "print(number)"
   ]
  },
  {
   "cell_type": "markdown",
   "id": "4a0a5f2c",
   "metadata": {},
   "source": [
    "Indentation is always meaningful in Python."
   ]
  },
  {
   "cell_type": "code",
   "execution_count": null,
   "id": "fe81b5ee",
   "metadata": {},
   "outputs": [],
   "source": [
    "firstName = \"Jon\"\n",
    "  lastName = \"Smith\""
   ]
  },
  {
   "cell_type": "markdown",
   "id": "a10a1e75",
   "metadata": {},
   "source": [
    "This error can be fixed by removing the extra spaces at the beginning of the second line."
   ]
  },
  {
   "cell_type": "markdown",
   "id": "f2bd62c0",
   "metadata": {},
   "source": [
    "# Loop variables can be called anything.\n",
    "\n",
    "As with all variables, loop variables are:\n",
    "* Created on demand.\n",
    "* Meaningless: their names can be anything at all."
   ]
  },
  {
   "cell_type": "code",
   "execution_count": null,
   "id": "504303cb",
   "metadata": {},
   "outputs": [],
   "source": [
    "for kitten in [2, 3, 5]:\n",
    "    print(kitten)"
   ]
  },
  {
   "cell_type": "markdown",
   "id": "9bc11cbb",
   "metadata": {},
   "source": [
    "# The body of a loop can contain many statements.\n",
    "\n",
    "* But no loop should be more than a few lines long.\n",
    "* Hard for human beings to keep larger chunks of code in mind."
   ]
  },
  {
   "cell_type": "code",
   "execution_count": null,
   "id": "34d9debb",
   "metadata": {},
   "outputs": [],
   "source": [
    "primes = [2, 3, 5]\n",
    "for number in primes:\n",
    "    squared = number ** 2\n",
    "    cubed = number ** 3\n",
    "    print(number, squared, cubed)"
   ]
  },
  {
   "cell_type": "markdown",
   "id": "f4c0f6aa",
   "metadata": {},
   "source": [
    "# Use range to iterate over a sequence of numbers.\n",
    "\n",
    "The built-in function [<ins>range</ins>](https://docs.python.org/3/library/stdtypes.html#range) produces a sequence of numbers.\n",
    "* Not a list: the numbers are produced on demand to make looping over large ranges more efficient.\n",
    "`range(N)` is the numbers 0..N-1\n",
    "* Exactly the legal indices of a list or character string of length N"
   ]
  },
  {
   "cell_type": "code",
   "execution_count": null,
   "id": "1152a5e2",
   "metadata": {},
   "outputs": [],
   "source": [
    "print('a range is not a list: range(0, 3)')\n",
    "for number in range(0, 3):\n",
    "    print(number)"
   ]
  },
  {
   "cell_type": "markdown",
   "id": "0b7c781a",
   "metadata": {},
   "source": [
    "# The Accumulator pattern turns many values into one.\n",
    "\n",
    "A common pattern in programs is to:\n",
    "1. Initialize an *accumulator* variable to zero, the empty string, or the empty list.\n",
    "2. Update the variable with values from a collection."
   ]
  },
  {
   "cell_type": "code",
   "execution_count": null,
   "id": "6b54f24c",
   "metadata": {},
   "outputs": [],
   "source": [
    "# Sum the first 10 integers.\n",
    "total = 0\n",
    "for number in range(10):\n",
    "   total = total + (number + 1)\n",
    "print(total)"
   ]
  },
  {
   "cell_type": "markdown",
   "id": "0e174b46",
   "metadata": {},
   "source": [
    "Read `total = total + (number + 1)` as:\n",
    "* Add 1 to the current value of the loop variable `number`.\n",
    "* Add that to the current value of the accumulator variable `total`.\n",
    "* Assign that to `total`, replacing the current value.\n",
    "* We have to add `number + 1` because range produces 0..9, not 1..10."
   ]
  },
  {
   "cell_type": "markdown",
   "id": "e4aeb340",
   "metadata": {},
   "source": [
    "## Exercise 1:\n",
    "\n",
    "Fill in the blanks in the program below so that it prints “nit” (the reverse of the original character string “tin”).\n",
    "\n",
    "```python\n",
    "original = \"tin\"\n",
    "result = ____\n",
    "for char in original:\n",
    "    result = ____\n",
    "print(result)\n",
    "```"
   ]
  },
  {
   "cell_type": "code",
   "execution_count": null,
   "id": "78efb2af",
   "metadata": {},
   "outputs": [],
   "source": []
  },
  {
   "cell_type": "markdown",
   "id": "5b781638",
   "metadata": {},
   "source": [
    "## Exercise 2: \n",
    "\n",
    "Fill in the blanks in each of the programs below to produce the indicated result.\n",
    "\n",
    "```python\n",
    "# Total length of the strings in the list: [\"red\", \"green\", \"blue\"] => 12\n",
    "total = 0\n",
    "for word in [\"red\", \"green\", \"blue\"]:\n",
    "    ____ = ____ + len(word)\n",
    "print(total)\n",
    "```"
   ]
  },
  {
   "cell_type": "code",
   "execution_count": null,
   "id": "ac3230b2",
   "metadata": {},
   "outputs": [],
   "source": []
  },
  {
   "cell_type": "markdown",
   "id": "415a32a7",
   "metadata": {},
   "source": [
    "## Exercise 3: \n",
    "\n",
    "Fill in the blanks in each of the programs below to produce the indicated result.\n",
    "\n",
    "```python\n",
    "# List of word lengths: [\"red\", \"green\", \"blue\"] => [3, 5, 4]\n",
    "lengths = ____\n",
    "for word in [\"red\", \"green\", \"blue\"]:\n",
    "    lengths.____(____)\n",
    "print(lengths)\n",
    "```"
   ]
  },
  {
   "cell_type": "code",
   "execution_count": null,
   "id": "39a19669",
   "metadata": {},
   "outputs": [],
   "source": []
  },
  {
   "cell_type": "markdown",
   "id": "ec4a4c68",
   "metadata": {},
   "source": [
    "## Exercise 4: \n",
    "\n",
    "Fill in the blanks in each of the programs below to produce the indicated result.\n",
    "\n",
    "```python\n",
    "# Concatenate all words: [\"red\", \"green\", \"blue\"] => \"redgreenblue\"\n",
    "words = [\"red\", \"green\", \"blue\"]\n",
    "result = ____\n",
    "for ____ in ____:\n",
    "    ____\n",
    "print(result)\n",
    "```"
   ]
  },
  {
   "cell_type": "code",
   "execution_count": null,
   "id": "c3f221c7",
   "metadata": {},
   "outputs": [],
   "source": []
  },
  {
   "cell_type": "markdown",
   "id": "ae8f7ca9",
   "metadata": {},
   "source": [
    "## Exercise 5: \n",
    "\n",
    "Create an acronym: Starting from the list [\"red\", \"green\", \"blue\"], create the acronym \"RGB\" using a for loop.\n",
    "\n",
    "Hint: You may need to use a string method to properly format the acronym."
   ]
  },
  {
   "cell_type": "code",
   "execution_count": null,
   "id": "a9a80b02",
   "metadata": {},
   "outputs": [],
   "source": []
  },
  {
   "cell_type": "markdown",
   "id": "7d0611ff",
   "metadata": {},
   "source": [
    "## Exercise 6:\n",
    "\n",
    "Reorder and properly indent the lines of code below so that they print a list with the cumulative sum of data. The result should be [1, 3, 5, 10].\n",
    "\n",
    "```python\n",
    "cumulative.append(total)\n",
    "for number in data:\n",
    "cumulative = []\n",
    "total = total + number\n",
    "total = 0\n",
    "print(cumulative)\n",
    "data = [1,2,2,5]\n",
    "```"
   ]
  },
  {
   "cell_type": "code",
   "execution_count": null,
   "id": "ac02345a",
   "metadata": {},
   "outputs": [],
   "source": []
  },
  {
   "cell_type": "markdown",
   "id": "58a79718",
   "metadata": {},
   "source": [
    "## Exercise 7:\n",
    "\n",
    "1. Read the code below and try to identify what the errors are without running it.\n",
    "2. Run the code and read the error message. What type of NameError do you think this is? Is it a string with no quotes, a misspelled variable, or a variable that should have been defined but was not?\n",
    "3. Fix the error.\n",
    "4. Repeat steps 2 and 3, until you have fixed all the errors.\n",
    "\n",
    "```python\n",
    "for number in range(10):\n",
    "    # use a if the number is a multiple of 3, otherwise use b\n",
    "    if (Number % 3) == 0:\n",
    "        message = message + a\n",
    "    else:\n",
    "        message = message + \"b\"\n",
    "print(message)\n",
    "```"
   ]
  },
  {
   "cell_type": "code",
   "execution_count": null,
   "id": "cbc6105f",
   "metadata": {},
   "outputs": [],
   "source": []
  },
  {
   "cell_type": "markdown",
   "id": "2cdcd468",
   "metadata": {},
   "source": [
    "## Exercise 8:\n",
    "\n",
    "1. Read the code below and try to identify what the errors are without running it.\n",
    "2. Run the code, and read the error message. What type of error is it?\n",
    "3. Fix the error.\n",
    "\n",
    "```python\n",
    "seasons = ['Spring', 'Summer', 'Fall', 'Winter']\n",
    "print('My favorite season is ', seasons[4])\n",
    "```"
   ]
  },
  {
   "cell_type": "code",
   "execution_count": null,
   "id": "cb40587f",
   "metadata": {},
   "outputs": [],
   "source": []
  }
 ],
 "metadata": {
  "kernelspec": {
   "display_name": "base",
   "language": "python",
   "name": "python3"
  },
  "language_info": {
   "codemirror_mode": {
    "name": "ipython",
    "version": 3
   },
   "file_extension": ".py",
   "mimetype": "text/x-python",
   "name": "python",
   "nbconvert_exporter": "python",
   "pygments_lexer": "ipython3",
   "version": "3.12.3"
  }
 },
 "nbformat": 4,
 "nbformat_minor": 5
}
