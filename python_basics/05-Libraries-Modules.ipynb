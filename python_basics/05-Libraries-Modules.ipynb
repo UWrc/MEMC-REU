{
 "cells": [
  {
   "cell_type": "markdown",
   "id": "e5a3bddb",
   "metadata": {},
   "source": [
    "# Most of the power of a programming language is in its libraries\n",
    "\n",
    "***A library is a collection of modules, but the terms are often used interchangeably, especially since many libraries only consist of a single module, so don’t worry if you mix them.***\n",
    "\n",
    "* A library is a collection of files (called modules) that contains functions for use by other programs.\n",
    "    * May also contain data values (e.g., numerical constants) and other things.\n",
    "    * Library’s contents are supposed to be related, but there’s no way to enforce that.\n",
    "* The Python [standard library](https://docs.python.org/3/library/) is an extensive suite of modules that comes with Python itself.\n",
    "* Many additional libraries are available from [PyPI](https://pypi.python.org/pypi/) (the Python Package Index)."
   ]
  },
  {
   "cell_type": "markdown",
   "id": "0cfc254a",
   "metadata": {},
   "source": [
    "# A program must import a library module before using it\n",
    "\n",
    "* Use import to load a library module into a program’s memory.\n",
    "* Then refer to things from the module as module_name.thing_name.\n",
    "    * Python uses . to mean “part of”.\n",
    "* Using math, one of the modules in the standard library:"
   ]
  },
  {
   "cell_type": "code",
   "execution_count": null,
   "id": "7d9fa78d-c249-4c60-a713-04702d2cc034",
   "metadata": {},
   "outputs": [],
   "source": [
    "import math\n",
    "\n",
    "print('pi is', math.pi)\n",
    "print('cos(pi) is', math.cos(math.pi))"
   ]
  },
  {
   "cell_type": "markdown",
   "id": "a57b9b6a",
   "metadata": {},
   "source": [
    "* Have to refer to each item with the module’s name.\n",
    "* `math.cos(pi)` won’t work: the reference to `pi` doesn’t somehow “inherit” the function’s reference to `math`."
   ]
  },
  {
   "cell_type": "markdown",
   "id": "14dbd02d",
   "metadata": {},
   "source": [
    "# Use help to learn about the contents of a library module\n",
    "\n",
    "Works just like help for a function."
   ]
  },
  {
   "cell_type": "code",
   "execution_count": null,
   "id": "66e2e942-5223-4f4c-9bb6-669acea148c2",
   "metadata": {},
   "outputs": [],
   "source": [
    "help(math) # remember to import math above ^^\n",
    "# help for a library is not available until the library is imported."
   ]
  },
  {
   "cell_type": "markdown",
   "id": "9b535b8e",
   "metadata": {},
   "source": [
    "# Import specific items from a library module to shorten programs\n",
    "\n",
    "* Use from ... import ... to load only specific items from a library module.\n",
    "* Then refer to them directly without library name as prefix."
   ]
  },
  {
   "cell_type": "code",
   "execution_count": null,
   "id": "c595de75",
   "metadata": {},
   "outputs": [],
   "source": [
    "from math import cos, pi\n",
    "\n",
    "print('cos(pi) is', cos(pi))"
   ]
  },
  {
   "cell_type": "markdown",
   "id": "0402fb0f-0d9a-461c-a7f6-6bff8e9e1f42",
   "metadata": {},
   "source": [
    "# Create an alias for a library module when importing it to shorten programs\n",
    "\n",
    "* Use `import ... as ...` to give a library a short alias while importing it.\n",
    "* Then refer to items in the library using that shortened name."
   ]
  },
  {
   "cell_type": "code",
   "execution_count": null,
   "id": "e98b16fd-d3a0-44f9-a7a2-053a259ced45",
   "metadata": {},
   "outputs": [],
   "source": [
    "import math as m\n",
    "\n",
    "print('cos(pi) is', m.cos(m.pi))"
   ]
  },
  {
   "cell_type": "markdown",
   "id": "8e6d228a-efb3-4a49-bfb7-87c44d3df7a1",
   "metadata": {},
   "source": [
    "* Commonly used for libraries that are frequently used or have long names.\n",
    "    * E.g., the `matplotlib` plotting library is often aliased as `mpl`.\n",
    "* But can make programs harder to understand, since readers must learn your program’s aliases."
   ]
  },
  {
   "cell_type": "markdown",
   "id": "f8e14622",
   "metadata": {},
   "source": [
    "## Exercise 1: Explore the math module\n",
    "\n",
    "1. What function from the `math` module can you use to calculate a square root ***without*** using `sqrt`?\n",
    "2. Since the library contains this function, why does `sqrt` exist?\n"
   ]
  },
  {
   "cell_type": "code",
   "execution_count": null,
   "id": "7a14313a-1959-42bb-8032-12cf9e32b3e5",
   "metadata": {},
   "outputs": [],
   "source": []
  },
  {
   "cell_type": "markdown",
   "id": "dd0e55f3",
   "metadata": {},
   "source": [
    "## Exercise 2: \n",
    "\n",
    "You want to select a random character from a string:"
   ]
  },
  {
   "cell_type": "code",
   "execution_count": null,
   "id": "ff36a9f1",
   "metadata": {},
   "outputs": [],
   "source": [
    "bases = 'ACTTGCTTGAC'"
   ]
  },
  {
   "cell_type": "markdown",
   "id": "7f4d06a3",
   "metadata": {},
   "source": [
    "1. Import the random module from Python's standard library and explore the help. \n",
    "2. Which function would you select from that module? Are there alternatives?\n",
    "3. Try to write a program that uses the function."
   ]
  },
  {
   "cell_type": "code",
   "execution_count": null,
   "id": "8b43b2eb-7953-4177-b9de-7d82271d161c",
   "metadata": {},
   "outputs": [],
   "source": []
  },
  {
   "cell_type": "code",
   "execution_count": null,
   "id": "ac87712e-ffdc-49c7-8fdd-6227c7bdf41d",
   "metadata": {},
   "outputs": [],
   "source": []
  },
  {
   "cell_type": "code",
   "execution_count": null,
   "id": "cea82c31-4085-4265-9e36-4270fa9e6a2c",
   "metadata": {},
   "outputs": [],
   "source": []
  },
  {
   "cell_type": "code",
   "execution_count": null,
   "id": "a4c7c734-87d9-4545-a049-41e743fe4953",
   "metadata": {},
   "outputs": [],
   "source": []
  }
 ],
 "metadata": {
  "kernelspec": {
   "display_name": "Python 3 (ipykernel)",
   "language": "python",
   "name": "python3"
  },
  "language_info": {
   "codemirror_mode": {
    "name": "ipython",
    "version": 3
   },
   "file_extension": ".py",
   "mimetype": "text/x-python",
   "name": "python",
   "nbconvert_exporter": "python",
   "pygments_lexer": "ipython3",
   "version": "3.12.3"
  }
 },
 "nbformat": 4,
 "nbformat_minor": 5
}
