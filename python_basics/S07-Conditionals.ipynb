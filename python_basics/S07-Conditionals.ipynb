{
 "cells": [
  {
   "cell_type": "markdown",
   "id": "4131c93e",
   "metadata": {},
   "source": [
    "# Use `if` statements to control whether or not a block of code is executed.\n",
    "\n",
    "An `if` statement (more properly called a conditional statement) controls whether some block of code is executed or not.\n",
    "Structure is similar to a for statement:\n",
    "* First line opens with if and ends with a colon\n",
    "* Body containing one or more statements is indented (usually by 4 spaces)"
   ]
  },
  {
   "cell_type": "code",
   "execution_count": null,
   "id": "6005c817",
   "metadata": {},
   "outputs": [],
   "source": [
    "mass = 3.54\n",
    "if mass > 3.0:\n",
    "    print(mass, 'is large')\n",
    "\n",
    "mass = 2.07\n",
    "if mass > 3.0:\n",
    "    print (mass, 'is large')"
   ]
  },
  {
   "cell_type": "markdown",
   "id": "5bfdbba2",
   "metadata": {},
   "source": [
    "# Conditionals are often used inside loops.\n",
    "\n",
    "* Not much point using a conditional when we know the value (as above).\n",
    "* But useful when we have a collection to process."
   ]
  },
  {
   "cell_type": "code",
   "execution_count": null,
   "id": "154fbf25",
   "metadata": {},
   "outputs": [],
   "source": [
    "masses = [3.54, 2.07, 9.22, 1.86, 1.71]\n",
    "for m in masses:\n",
    "    if m > 3.0:\n",
    "        print(m, 'is large')"
   ]
  },
  {
   "cell_type": "markdown",
   "id": "44c547cd",
   "metadata": {},
   "source": [
    "# Use `else` to execute a block of code when an `if` condition is not true.\n",
    "\n",
    "* `else` can be used following an `if`.\n",
    "* Allows us to specify an alternative to execute when the if *branch* isn’t taken."
   ]
  },
  {
   "cell_type": "code",
   "execution_count": null,
   "id": "9314fcf9",
   "metadata": {},
   "outputs": [],
   "source": [
    "masses = [3.54, 2.07, 9.22, 1.86, 1.71]\n",
    "for m in masses:\n",
    "    if m > 3.0:\n",
    "        print(m, 'is large')\n",
    "    else:\n",
    "        print(m, 'is small')"
   ]
  },
  {
   "cell_type": "markdown",
   "id": "254a9c75",
   "metadata": {},
   "source": [
    "# Use `elif` to specify additional tests.\n",
    "\n",
    "* May want to provide several alternative choices, each with its own test.\n",
    "* Use `elif` (short for “else if”) and a condition to specify these.\n",
    "* Always associated with an `if`.\n",
    "* Must come before the `else` (which is the “catch all”)."
   ]
  },
  {
   "cell_type": "code",
   "execution_count": null,
   "id": "05ee1fd1",
   "metadata": {},
   "outputs": [],
   "source": [
    "masses = [3.54, 2.07, 9.22, 1.86, 1.71]\n",
    "for m in masses:\n",
    "    if m > 9.0:\n",
    "        print(m, 'is HUGE')\n",
    "    elif m > 3.0:\n",
    "        print(m, 'is large')\n",
    "    else:\n",
    "        print(m, 'is small')"
   ]
  },
  {
   "cell_type": "markdown",
   "id": "dbbea6db",
   "metadata": {},
   "source": [
    "# Conditions are tested once, in order.\n",
    "\n",
    "Python steps through the branches of the conditional in order, testing each in turn. So ordering matters."
   ]
  },
  {
   "cell_type": "code",
   "execution_count": null,
   "id": "3833a0b2",
   "metadata": {},
   "outputs": [],
   "source": [
    "grade = 85\n",
    "if grade >= 90:\n",
    "    print('grade is A')\n",
    "elif grade >= 80:\n",
    "    print('grade is B')\n",
    "elif grade >= 70:\n",
    "    print('grade is C')"
   ]
  },
  {
   "cell_type": "markdown",
   "id": "24290184",
   "metadata": {},
   "source": [
    "Does not automatically go back and re-evaluate if values change."
   ]
  },
  {
   "cell_type": "code",
   "execution_count": null,
   "id": "503747c4",
   "metadata": {},
   "outputs": [],
   "source": [
    "velocity = 10.0\n",
    "if velocity > 20.0:\n",
    "    print('moving too fast')\n",
    "else:\n",
    "    print('adjusting velocity')\n",
    "    velocity = 50.0"
   ]
  },
  {
   "cell_type": "markdown",
   "id": "bcbb166c",
   "metadata": {},
   "source": [
    "Often use conditionals in a loop to “evolve” the values of variables."
   ]
  },
  {
   "cell_type": "code",
   "execution_count": null,
   "id": "0b380de1",
   "metadata": {},
   "outputs": [],
   "source": [
    "velocity = 10.0\n",
    "for i in range(5): # execute the loop 5 times\n",
    "    print(i, ':', velocity)\n",
    "    if velocity > 20.0:\n",
    "        print('moving too fast')\n",
    "        velocity = velocity - 5.0\n",
    "    else:\n",
    "        print('moving too slow')\n",
    "        velocity = velocity + 10.0\n",
    "print('final velocity:', velocity)"
   ]
  },
  {
   "cell_type": "markdown",
   "id": "19228b68",
   "metadata": {},
   "source": [
    "# Compound Relations Using and, or, and Parentheses\n",
    "\n",
    "Often, you want some combination of things to be true. You can combine relations within a conditional using `and` and `or`. Continuing the example above, suppose you have"
   ]
  },
  {
   "cell_type": "code",
   "execution_count": null,
   "id": "6f697c3a",
   "metadata": {},
   "outputs": [],
   "source": [
    "mass     = [ 3.54,  2.07,  9.22,  1.86,  1.71]\n",
    "velocity = [10.00, 20.00, 30.00, 25.00, 20.00]\n",
    "\n",
    "i = 0\n",
    "for i in range(5):\n",
    "    if mass[i] > 5 and velocity[i] > 20:\n",
    "        print(\"Fast heavy object.  Duck!\")\n",
    "    elif mass[i] > 2 and mass[i] <= 5 and velocity[i] <= 20:\n",
    "        print(\"Normal traffic\")\n",
    "    elif mass[i] <= 2 and velocity[i] <= 20:\n",
    "        print(\"Slow light object.  Ignore it\")\n",
    "    else:\n",
    "        print(\"Whoa!  Something is up with the data.  Check it\")"
   ]
  },
  {
   "cell_type": "markdown",
   "id": "bb1906c3",
   "metadata": {},
   "source": [
    "Just like with arithmetic, you can and should use parentheses whenever there is possible ambiguity. A good general rule is to always use parentheses when mixing and and or in the same condition. That is, instead of:\n",
    "\n",
    "```python\n",
    "if mass[i] <= 2 or mass[i] >= 5 and velocity[i] > 20:\n",
    "```\n",
    "write one of these:\n",
    "\n",
    "```python\n",
    "if (mass[i] <= 2 or mass[i] >= 5) and velocity[i] > 20:\n",
    "if mass[i] <= 2 or (mass[i] >= 5 and velocity[i] > 20):\n",
    "```\n",
    "so it is perfectly clear to a reader (and to Python) what you really mean."
   ]
  },
  {
   "cell_type": "markdown",
   "id": "b957088c",
   "metadata": {},
   "source": [
    "## Exercise 1: \n",
    "\n",
    "What does this program print?\n",
    "\n",
    "```python\n",
    "pressure = 71.9\n",
    "if pressure > 50.0:\n",
    "    pressure = 25.0\n",
    "elif pressure <= 50.0:\n",
    "    pressure = 0.0\n",
    "print(pressure)\n",
    "```"
   ]
  },
  {
   "cell_type": "code",
   "execution_count": null,
   "id": "b1207cc4",
   "metadata": {},
   "outputs": [],
   "source": []
  },
  {
   "cell_type": "markdown",
   "id": "91d78a18",
   "metadata": {},
   "source": [
    "*Solution*\n",
    "\n",
    "```python\n",
    "25.0\n",
    "```"
   ]
  },
  {
   "cell_type": "markdown",
   "id": "7be3c756",
   "metadata": {},
   "source": [
    "## Exercise 2: \n",
    "\n",
    "Fill in the blanks so that this program creates a new list containing zeroes where the original list’s values were negative and ones where the original list’s values were positive.\n",
    "\n",
    "```python\n",
    "original = [-1.5, 0.2, 0.4, 0.0, -1.3, 0.4]\n",
    "result = ____\n",
    "for value in original:\n",
    "    if ____:\n",
    "        result.append(0)\n",
    "    else:\n",
    "        ____\n",
    "print(result)\n",
    "```"
   ]
  },
  {
   "cell_type": "code",
   "execution_count": null,
   "id": "9aaadc14",
   "metadata": {},
   "outputs": [],
   "source": []
  },
  {
   "cell_type": "markdown",
   "id": "462632b5",
   "metadata": {},
   "source": [
    "*Solution*"
   ]
  },
  {
   "cell_type": "code",
   "execution_count": null,
   "id": "563cd7e7",
   "metadata": {},
   "outputs": [],
   "source": [
    "original = [-1.5, 0.2, 0.4, 0.0, -1.3, 0.4]\n",
    "result = []\n",
    "for value in original:\n",
    "    if value < 0:\n",
    "        result.append(0)\n",
    "    else:\n",
    "        result.append(1)\n",
    "print(result)"
   ]
  },
  {
   "cell_type": "markdown",
   "id": "0b28fb50",
   "metadata": {},
   "source": [
    "## Exercise 3: \n",
    "\n",
    "Modify this program so that it only processes files with fewer than 50 records.\n",
    "\n",
    "```python\n",
    "import glob\n",
    "import pandas as pd\n",
    "for filename in glob.glob('data/*.csv'):\n",
    "    contents = pd.read_csv(filename)\n",
    "    ____:\n",
    "        print(filename, len(contents))\n",
    "```"
   ]
  },
  {
   "cell_type": "code",
   "execution_count": null,
   "id": "b725b072",
   "metadata": {},
   "outputs": [],
   "source": []
  },
  {
   "cell_type": "markdown",
   "id": "f33c997e",
   "metadata": {},
   "source": [
    "*Solution*"
   ]
  },
  {
   "cell_type": "code",
   "execution_count": null,
   "id": "cff0a424",
   "metadata": {},
   "outputs": [],
   "source": [
    "import glob\n",
    "import pandas as pd\n",
    "for filename in glob.glob('data/*.csv'):\n",
    "    contents = pd.read_csv(filename)\n",
    "    if len(contents) < 50:\n",
    "        print(filename, len(contents))"
   ]
  },
  {
   "cell_type": "markdown",
   "id": "19870e2c",
   "metadata": {},
   "source": [
    "## Exercise 4: \n",
    "\n",
    "Modify this program so that it finds the largest and smallest values in the list no matter what the range of values originally is.\n",
    "\n",
    "```python\n",
    "values = [...some test data...]\n",
    "smallest, largest = None, None\n",
    "for v in values:\n",
    "    if ____:\n",
    "        smallest, largest = v, v\n",
    "    ____:\n",
    "        smallest = min(____, v)\n",
    "        largest = max(____, v)\n",
    "print(smallest, largest)\n",
    "```\n",
    "What are the advantages and disadvantages of using this method to find the range of the data?"
   ]
  },
  {
   "cell_type": "code",
   "execution_count": null,
   "id": "a43f0415",
   "metadata": {},
   "outputs": [],
   "source": []
  },
  {
   "cell_type": "markdown",
   "id": "5f715ca9",
   "metadata": {},
   "source": [
    "*Solution*"
   ]
  },
  {
   "cell_type": "code",
   "execution_count": null,
   "id": "1b7a3e5e",
   "metadata": {},
   "outputs": [],
   "source": [
    "values = [-2,1,65,78,-54,-24,100]\n",
    "smallest, largest = None, None\n",
    "for v in values:\n",
    "    if smallest is None and largest is None:\n",
    "        smallest, largest = v, v\n",
    "    else:\n",
    "        smallest = min(smallest, v)\n",
    "        largest = max(largest, v)\n",
    "print(smallest, largest)"
   ]
  },
  {
   "cell_type": "markdown",
   "id": "b6ce15df",
   "metadata": {},
   "source": [
    "If you wrote `== None` instead of `is None`, that works too, but Python programmers always write `is None` because of the special way `None` works in the language.\n",
    "\n",
    "It can be argued that an advantage of using this method would be to make the code more readable. However, a disadvantage is that this code is not efficient because within each iteration of the `for` loop statement, there are two more loops that run over two numbers each (the `min` and `max` functions). It would be more efficient to iterate over each number just once:"
   ]
  },
  {
   "cell_type": "code",
   "execution_count": null,
   "id": "6f4cb17c",
   "metadata": {},
   "outputs": [],
   "source": [
    "values = [-2,1,65,78,-54,-24,100]\n",
    "smallest, largest = None, None\n",
    "for v in values:\n",
    "    if smallest is None or v < smallest:\n",
    "        smallest = v\n",
    "    if largest is None or v > largest:\n",
    "        largest = v\n",
    "print(smallest, largest)"
   ]
  },
  {
   "cell_type": "markdown",
   "id": "867eaee4",
   "metadata": {},
   "source": [
    "Now we have one loop, but four comparison tests. There are two ways we could improve it further: either use fewer comparisons in each iteration, or use two loops that each contain only one comparison test. The simplest solution is often the best:"
   ]
  },
  {
   "cell_type": "code",
   "execution_count": null,
   "id": "47290f04",
   "metadata": {},
   "outputs": [],
   "source": [
    "values = [-2,1,65,78,-54,-24,100]\n",
    "smallest = min(values)\n",
    "largest = max(values)\n",
    "print(smallest, largest)"
   ]
  }
 ],
 "metadata": {
  "kernelspec": {
   "display_name": "base",
   "language": "python",
   "name": "python3"
  },
  "language_info": {
   "codemirror_mode": {
    "name": "ipython",
    "version": 3
   },
   "file_extension": ".py",
   "mimetype": "text/x-python",
   "name": "python",
   "nbconvert_exporter": "python",
   "pygments_lexer": "ipython3",
   "version": "3.12.3"
  }
 },
 "nbformat": 4,
 "nbformat_minor": 5
}
