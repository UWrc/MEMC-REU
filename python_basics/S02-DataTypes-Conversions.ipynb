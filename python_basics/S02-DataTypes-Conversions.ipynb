{
 "cells": [
  {
   "cell_type": "markdown",
   "id": "a2dbaa43",
   "metadata": {},
   "source": [
    "# Every value has a type\n",
    "\n",
    "* Every value in a program has a specific type.\n",
    "* Integer (`int`): represents positive or negative whole numbers like 3 or -512.\n",
    "* Floating point number (`float`): represents real numbers like 3.14159 or -2.5.\n",
    "* Character string (usually called “string”, `str`): text.\n",
    "    * Written in either single quotes or double quotes (as long as they match).\n",
    "    * The quote marks aren’t printed when the string is displayed.\n",
    "    \n",
    "# Use the built-in function `type` to find the type of a value\n",
    "\n",
    "* Use the built-in function `type` to find out what type a value has.\n",
    "* Works on variables as well.\n",
    "    * But remember: the value has the type — the variable is just a label."
   ]
  },
  {
   "cell_type": "code",
   "execution_count": null,
   "id": "48f41bf4",
   "metadata": {},
   "outputs": [],
   "source": [
    "print(type(52))"
   ]
  },
  {
   "cell_type": "code",
   "execution_count": null,
   "id": "aeef5354",
   "metadata": {},
   "outputs": [],
   "source": [
    "fitness = 'average'\n",
    "print(type(fitness))"
   ]
  },
  {
   "cell_type": "markdown",
   "id": "f2fe2010",
   "metadata": {},
   "source": [
    "# Types control what operations (or methods) can be performed on a given value\n",
    "\n",
    "A value’s type determines what the program can do to it."
   ]
  },
  {
   "cell_type": "code",
   "execution_count": null,
   "id": "f96757dc",
   "metadata": {},
   "outputs": [],
   "source": [
    "print(5 - 3)"
   ]
  },
  {
   "cell_type": "code",
   "execution_count": null,
   "id": "c6441f30",
   "metadata": {},
   "outputs": [],
   "source": [
    "print('hello' - 'h')"
   ]
  },
  {
   "cell_type": "markdown",
   "id": "a4fdc6d5",
   "metadata": {},
   "source": [
    "# You can use the “+” and “*” operators on strings\n",
    "\n",
    "“Adding” character strings concatenates them."
   ]
  },
  {
   "cell_type": "code",
   "execution_count": null,
   "id": "5486de8f",
   "metadata": {},
   "outputs": [],
   "source": [
    "full_name = 'Ahmed' + ' ' + 'Walsh'\n",
    "print(full_name)"
   ]
  },
  {
   "cell_type": "markdown",
   "id": "23ba23cf",
   "metadata": {},
   "source": [
    "Multiplying a character string by an integer *N* creates a new string that consists of that character string repeated *N* times.\n",
    "* Since multiplication is repeated addition."
   ]
  },
  {
   "cell_type": "code",
   "execution_count": null,
   "id": "8c369df1",
   "metadata": {},
   "outputs": [],
   "source": [
    "separator = '=' * 10\n",
    "print(separator)"
   ]
  },
  {
   "cell_type": "markdown",
   "id": "01fa52ac",
   "metadata": {},
   "source": [
    "# Strings have a length (but numbers don’t)\n",
    "\n",
    "The built-in function len counts the number of characters in a string."
   ]
  },
  {
   "cell_type": "code",
   "execution_count": null,
   "id": "85c8b99a",
   "metadata": {},
   "outputs": [],
   "source": [
    "print(len(full_name))"
   ]
  },
  {
   "cell_type": "markdown",
   "id": "f1e468b0",
   "metadata": {},
   "source": [
    "But numbers don’t have a length (not even zero)."
   ]
  },
  {
   "cell_type": "code",
   "execution_count": null,
   "id": "e092c52f",
   "metadata": {},
   "outputs": [],
   "source": [
    "print(len(52))"
   ]
  },
  {
   "cell_type": "markdown",
   "id": "f604f5e5",
   "metadata": {},
   "source": [
    "# Must convert numbers to strings or vice versa when operating on them\n",
    "\n",
    "Cannot add numbers and strings."
   ]
  },
  {
   "cell_type": "code",
   "execution_count": null,
   "id": "7b06d92e",
   "metadata": {},
   "outputs": [],
   "source": [
    "print(1 + '2')"
   ]
  },
  {
   "cell_type": "markdown",
   "id": "b1b61a6a",
   "metadata": {},
   "source": [
    "* Not allowed because it’s ambiguous: should 1 + '2' be 3 or '12'?\n",
    "* Some types can be converted to other types by using the type name as a function."
   ]
  },
  {
   "cell_type": "code",
   "execution_count": null,
   "id": "8d8c8e5a",
   "metadata": {},
   "outputs": [],
   "source": [
    "print(1 + int('2'))\n",
    "print(str(1) + '2')"
   ]
  },
  {
   "cell_type": "markdown",
   "id": "0a607fc2",
   "metadata": {},
   "source": [
    "# Can mix integers and floats freely in operations\n",
    "\n",
    "Integers and floating-point numbers can be mixed in arithmetic. Python 3 automatically converts integers to floats as needed."
   ]
  },
  {
   "cell_type": "code",
   "execution_count": null,
   "id": "bd3555ad",
   "metadata": {},
   "outputs": [],
   "source": [
    "print('half is', 1 / 2.0)\n",
    "print('three squared is', 3.0 ** 2)"
   ]
  },
  {
   "cell_type": "markdown",
   "id": "e08c18d1",
   "metadata": {},
   "source": [
    "# Variables only change value when something is assigned to them\n",
    "\n",
    "If we make one cell in a spreadsheet depend on another, and update the latter, the former updates automatically.\n",
    "This does **not** happen in programming languages."
   ]
  },
  {
   "cell_type": "code",
   "execution_count": null,
   "id": "c9ebdf56",
   "metadata": {},
   "outputs": [],
   "source": [
    "variable_one = 1\n",
    "variable_two = 5 * variable_one\n",
    "variable_one = 2\n",
    "print('first is', variable_one, 'and second is', variable_two)"
   ]
  },
  {
   "cell_type": "markdown",
   "id": "6c7b4fda",
   "metadata": {},
   "source": [
    "* The computer reads the value of `variable_one` when doing the multiplication, creates a new value, and assigns it to `variable_two`.\n",
    "* Afterwards, the value of `variable_two` is set to the new value and not dependent on `variable_one` so its value does not automatically change when `variable_one` changes."
   ]
  },
  {
   "cell_type": "markdown",
   "id": "dcb67d00",
   "metadata": {},
   "source": [
    "## Exercise 1:\n",
    "\n",
    "What type of value is 3.4? How can you find out?\n",
    "\n",
    "*Solution: It is a floating-point number (often abbreviated “float”). It is possible to find out by using the built-in function `type()`.*"
   ]
  },
  {
   "cell_type": "code",
   "execution_count": null,
   "id": "360f59b6",
   "metadata": {},
   "outputs": [],
   "source": [
    "print(type(3.4))"
   ]
  },
  {
   "cell_type": "markdown",
   "id": "72628d8d",
   "metadata": {},
   "source": [
    "## Exercise 2:\n",
    "\n",
    "What type of value is 3.25 + 4?\n",
    "\n",
    "*Solution: It is a float: integers are automatically converted to floats as necessary.*"
   ]
  },
  {
   "cell_type": "code",
   "execution_count": null,
   "id": "12ebe503",
   "metadata": {},
   "outputs": [],
   "source": [
    "result = 3.25 + 4\n",
    "print(result, 'is', type(result))"
   ]
  },
  {
   "cell_type": "markdown",
   "id": "10485586",
   "metadata": {},
   "source": [
    "## Exercise 3:\n",
    "\n",
    "What type of value (integer, floating point number, or character string) would you use to represent each of the following? Try to come up with more than one good answer for each problem. For example, in # 1, when would counting days with a floating point variable make more sense than using an integer?\n",
    "\n",
    "1. Number of days since the start of the year.\n",
    "2. Time elapsed from the start of the year until now in days.\n",
    "3. Serial number of a piece of lab equipment.\n",
    "4. A lab specimen’s age\n",
    "5. Current population of a city.\n",
    "6. Average population of a city over time.\n",
    "\n",
    "*The answers to the questions are:*\n",
    "\n",
    "1. Integer, since the number of days would lie between 1 and 365.\n",
    "2. Floating point, since fractional days are required\n",
    "3. Character string if serial number contains letters and numbers, otherwise integer if the serial number consists only of numerals\n",
    "4. This will vary! How do you define a specimen’s age? whole days since collection (integer)? date and time (string)?\n",
    "5. Choose floating point to represent population as large aggregates (eg millions), or integer to represent population in units of individuals.\n",
    "6. Floating point number, since an average is likely to have a fractional part."
   ]
  },
  {
   "cell_type": "markdown",
   "id": "09a15913",
   "metadata": {},
   "source": [
    "## Exercise 4: \n",
    "In Python 3, the `//` operator performs integer (whole-number) floor division, the `/` operator performs floating-point division, and the `%` (or modulo) operator calculates and returns the remainder from integer division: \n",
    "\n",
    "```python\n",
    "print('5 // 3:', 5 // 3)\n",
    "print('5 / 3:', 5 / 3)\n",
    "print('5 % 3:', 5 % 3)\n",
    "```\n",
    "Output:\n",
    "```python\n",
    "5 // 3: 1\n",
    "5 / 3: 1.6666666666666667\n",
    "5 % 3: 2\n",
    "```\n",
    "\n",
    "If `num_subjects` is the number of subjects taking part in a study, and `num_per_survey` is the number that can take part in a single survey, write an expression that calculates the number of surveys needed to reach everyone once."
   ]
  },
  {
   "cell_type": "markdown",
   "id": "c026afd6-c348-4d4f-8a96-364d1f347399",
   "metadata": {},
   "source": [
    "*Solution:*\n",
    "\n",
    "We want the minimum number of surveys that reaches everyone once, which is the rounded up value of `num_subjects/ num_per_survey`. This is equivalent to performing a floor division with `//` and adding 1. Before the division we need to subtract 1 from the number of subjects to deal with the case where `num_subjects` is evenly divisible by `num_per_survey`."
   ]
  },
  {
   "cell_type": "code",
   "execution_count": null,
   "id": "4f778f18",
   "metadata": {},
   "outputs": [],
   "source": [
    "num_subjects = 600\n",
    "num_per_survey = 42\n",
    "num_surveys = (num_subjects - 1) // num_per_survey + 1\n",
    "\n",
    "print(num_subjects, 'subjects,', num_per_survey, 'per survey:', num_surveys)"
   ]
  },
  {
   "cell_type": "markdown",
   "id": "35b9a4cd",
   "metadata": {},
   "source": [
    "## Exercise 5:\n",
    "\n",
    "Where reasonable, `float()` will convert a string to a floating point number, and `int()` will convert a floating point number to an integer:\n",
    "\n",
    "```python\n",
    "print(\"string to float:\", float(\"3.4\"))\n",
    "print(\"float to int:\", int(3.4))\n",
    "```\n",
    "\n",
    "Output:\n",
    "```python\n",
    "string to float: 3.4\n",
    "float to int: 3\n",
    "```\n",
    "\n",
    "If the conversion doesn’t make sense, however, an error message will occur.\n",
    "```python\n",
    "print(\"string to float:\", float(\"Hello world!\"))\n",
    "```\n",
    "\n",
    "Output:\n",
    "\n",
    "```python\n",
    "---------------------------------------------------------------------------\n",
    "ValueError                                Traceback (most recent call last)\n",
    "Cell In[4], line 1\n",
    "----> 1 print(\"string to float:\", float(\"Hello world!\"))\n",
    "\n",
    "ValueError: could not convert string to float: 'Hello world!'\n",
    "```\n",
    "\n",
    "Given this information, what do you expect the following program to do?\n",
    "\n",
    "```python\n",
    "print(\"fractional string to int:\", int(\"3.4\"))\n",
    "```\n",
    "\n",
    "What does it actually do?\n",
    "\n",
    "Why do you think it does that?"
   ]
  },
  {
   "cell_type": "code",
   "execution_count": null,
   "id": "840aedbd",
   "metadata": {},
   "outputs": [],
   "source": [
    "print(\"fractional string to int:\", int(\"3.4\"))"
   ]
  },
  {
   "cell_type": "markdown",
   "id": "93d1d2d2",
   "metadata": {},
   "source": [
    "*Solution:* \n",
    "\n",
    "What do you expect this program to do? It would not be so unreasonable to expect the Python 3 int command to convert the string “3.4” to 3.4 and an additional type conversion to 3. After all, Python 3 performs a lot of other magic - isn’t that part of its charm?"
   ]
  },
  {
   "cell_type": "code",
   "execution_count": 5,
   "id": "a5c25d1e",
   "metadata": {},
   "outputs": [
    {
     "ename": "ValueError",
     "evalue": "invalid literal for int() with base 10: '3.4'",
     "output_type": "error",
     "traceback": [
      "\u001b[0;31m---------------------------------------------------------------------------\u001b[0m",
      "\u001b[0;31mValueError\u001b[0m                                Traceback (most recent call last)",
      "Cell \u001b[0;32mIn[5], line 1\u001b[0m\n\u001b[0;32m----> 1\u001b[0m \u001b[38;5;28;43mint\u001b[39;49m\u001b[43m(\u001b[49m\u001b[38;5;124;43m\"\u001b[39;49m\u001b[38;5;124;43m3.4\u001b[39;49m\u001b[38;5;124;43m\"\u001b[39;49m\u001b[43m)\u001b[49m\n",
      "\u001b[0;31mValueError\u001b[0m: invalid literal for int() with base 10: '3.4'"
     ]
    }
   ],
   "source": [
    "int(\"3.4\")"
   ]
  },
  {
   "cell_type": "markdown",
   "id": "723dd74d",
   "metadata": {},
   "source": [
    "However, Python 3 throws an error. Why? To be consistent, possibly. If you ask Python to perform two consecutive typecasts, you must convert it explicitly in code."
   ]
  },
  {
   "cell_type": "code",
   "execution_count": 6,
   "id": "ffd36282",
   "metadata": {},
   "outputs": [
    {
     "data": {
      "text/plain": [
       "3"
      ]
     },
     "execution_count": 6,
     "metadata": {},
     "output_type": "execute_result"
    }
   ],
   "source": [
    "int(float(\"3.4\"))"
   ]
  },
  {
   "cell_type": "markdown",
   "id": "ddcfa810",
   "metadata": {},
   "source": [
    "## Exercise 6: \n",
    "\n",
    "Which of the following will return the floating point number `2.0`? Note: there may be more than one right answer."
   ]
  },
  {
   "cell_type": "code",
   "execution_count": null,
   "id": "f8678e2c",
   "metadata": {},
   "outputs": [],
   "source": [
    "first = 1.0\n",
    "second = \"1\"\n",
    "third = \"1.1\""
   ]
  },
  {
   "cell_type": "markdown",
   "id": "1ee0fc99",
   "metadata": {},
   "source": [
    "1. `first + float(second)`\n",
    "2. `float(second) + float(third)`\n",
    "3. `first + int(third)`\n",
    "4. `first + int(float(third))`\n",
    "5. `int(first) + int(float(third))`\n",
    "6. `2.0 * second`\n",
    "\n",
    "Use the following cells to try it out:"
   ]
  },
  {
   "cell_type": "code",
   "execution_count": null,
   "id": "dac841da",
   "metadata": {},
   "outputs": [],
   "source": [
    "# 1\n",
    "first + float(second)"
   ]
  },
  {
   "cell_type": "code",
   "execution_count": null,
   "id": "5f650f8c",
   "metadata": {},
   "outputs": [],
   "source": [
    "# 2\n",
    "float(second) + float(third)"
   ]
  },
  {
   "cell_type": "code",
   "execution_count": null,
   "id": "b42259d4",
   "metadata": {},
   "outputs": [],
   "source": [
    "# 3\n",
    "first + int(third)"
   ]
  },
  {
   "cell_type": "code",
   "execution_count": null,
   "id": "e136e526",
   "metadata": {},
   "outputs": [],
   "source": [
    "# 4\n",
    "first + int(float(third))"
   ]
  },
  {
   "cell_type": "code",
   "execution_count": null,
   "id": "a3673490",
   "metadata": {},
   "outputs": [],
   "source": [
    "# 5\n",
    "int(first) + int(float(third))"
   ]
  },
  {
   "cell_type": "code",
   "execution_count": null,
   "id": "5e0b542c",
   "metadata": {},
   "outputs": [],
   "source": [
    "# 6\n",
    "2.0 * second"
   ]
  },
  {
   "cell_type": "markdown",
   "id": "99a9da29",
   "metadata": {},
   "source": [
    "*Solution: 1 and 4*"
   ]
  }
 ],
 "metadata": {
  "kernelspec": {
   "display_name": "Python 3 (ipykernel)",
   "language": "python",
   "name": "python3"
  },
  "language_info": {
   "codemirror_mode": {
    "name": "ipython",
    "version": 3
   },
   "file_extension": ".py",
   "mimetype": "text/x-python",
   "name": "python",
   "nbconvert_exporter": "python",
   "pygments_lexer": "ipython3",
   "version": "3.12.3"
  }
 },
 "nbformat": 4,
 "nbformat_minor": 5
}
