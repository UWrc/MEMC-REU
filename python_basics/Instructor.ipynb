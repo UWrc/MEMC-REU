{
 "cells": [
  {
   "cell_type": "markdown",
   "id": "4224b6a9",
   "metadata": {},
   "source": [
    "8 sections and 150 minutes means ~19 minutes per section, but some will take less time. \n",
    "\n",
    "Plus there will be some time to get people logged on and with a job allocated. "
   ]
  },
  {
   "cell_type": "markdown",
   "id": "28caaa29",
   "metadata": {},
   "source": [
    "# Use variables to store values\n",
    "\n",
    "**Variables are names for values**\n",
    "\n",
    "Variable names: \n",
    "* can **only** contain letters, digits, and underscore _ (typically used to separate words in long variable names)\n",
    "* cannot start with a digit\n",
    "* are **case sensitive** (age, Age and AGE are three different variables)\n",
    "* should also be meaningful so you or another programmer know what it is\n",
    "\n",
    "In Python, variable names that start with underscores like `__alistairs_real_age` have a special meaning so we won’t do that until we understand the convention.\n",
    "\n",
    "In Python the = symbol assigns the value on the right to the name on the left.\n",
    "\n",
    "The variable is created when a value is assigned to it.\n",
    "\n",
    "Here, Python assigns an `age` to a variable age and a name in quotes to a variable `first_name`."
   ]
  },
  {
   "cell_type": "code",
   "execution_count": null,
   "id": "c100be6b",
   "metadata": {},
   "outputs": [],
   "source": [
    "age = 42\n",
    "first_name = 'Ahmed'"
   ]
  },
  {
   "cell_type": "markdown",
   "id": "4cea7119",
   "metadata": {},
   "source": [
    "# Use `print` to display values\n",
    "\n",
    "Python has a built-in function called `print` that prints things as text. Call the function (i.e., tell Python to run it) by using its name. Provide values to the function (i.e., the things to print) in parentheses. To add a string to the printout, wrap the string in single or double quotes. The values passed to the function are called **arguments**."
   ]
  },
  {
   "cell_type": "code",
   "execution_count": null,
   "id": "96df8737",
   "metadata": {},
   "outputs": [],
   "source": [
    "print(first_name, 'is', age, 'years old.')"
   ]
  },
  {
   "cell_type": "markdown",
   "id": "76d8590d",
   "metadata": {},
   "source": [
    "`print` automatically puts a single space between items to separate them. And wraps around to a new line at the end."
   ]
  },
  {
   "cell_type": "markdown",
   "id": "67bd1a2b",
   "metadata": {},
   "source": [
    "# Python is case-sensitive\n",
    "\n",
    "* Python thinks that upper- and lower-case letters are different, so `Name` and `name` are different variables.\n",
    "* There are conventions for using upper-case letters at the start of variable names so we will use lower-case letters for now."
   ]
  },
  {
   "cell_type": "markdown",
   "id": "11ca092b",
   "metadata": {},
   "source": [
    "# Use meaningful variable names\n",
    "\n",
    "* Python doesn’t care what you call variables as long as they obey the rules (alphanumeric characters and the underscore).\n",
    "* Use meaningful variable names to help other people understand what the program does.\n",
    "* The most important “other person” is your future self."
   ]
  },
  {
   "cell_type": "code",
   "execution_count": null,
   "id": "4cd25f98",
   "metadata": {},
   "outputs": [],
   "source": [
    "flabadab = 42\n",
    "ewr_422_yY = 'Ahmed'\n",
    "print(ewr_422_yY, 'is', flabadab, 'years old')"
   ]
  },
  {
   "cell_type": "markdown",
   "id": "723b1d0a",
   "metadata": {},
   "source": [
    "# Variables must be created before they are used\n",
    "\n",
    "If a variable doesn’t exist yet, or if the name has been mis-spelled, Python reports an error. (Unlike some languages, which “guess” a default value.)"
   ]
  },
  {
   "cell_type": "code",
   "execution_count": null,
   "id": "fc9e79be",
   "metadata": {},
   "outputs": [],
   "source": [
    "print(last_name)"
   ]
  },
  {
   "cell_type": "markdown",
   "id": "534660b8",
   "metadata": {},
   "source": [
    "The last line of an error message is usually the most informative."
   ]
  },
  {
   "cell_type": "markdown",
   "id": "b92aaf5d",
   "metadata": {},
   "source": [
    "# VARIABLES PERSIST BETWEEN CELLS\n",
    "\n",
    "Be aware that it is the order of execution of cells that is important in a Jupyter notebook, not the order in which they appear. Python will remember all the code that was run previously, including any variables you have defined, irrespective of the order in the notebook. Therefore if you define variables lower down the notebook and then (re)run cells further up, those defined further down will still be present. As an example, create two cells with the following content, in this order:"
   ]
  },
  {
   "cell_type": "code",
   "execution_count": null,
   "id": "5d43f179",
   "metadata": {},
   "outputs": [],
   "source": [
    "print(myval)"
   ]
  },
  {
   "cell_type": "code",
   "execution_count": null,
   "id": "44dbc019",
   "metadata": {},
   "outputs": [],
   "source": [
    "myval = 1"
   ]
  },
  {
   "cell_type": "markdown",
   "id": "a1f26c25",
   "metadata": {},
   "source": [
    "If you execute this in order, the first cell will give an error. However, if you run the first cell *after* the second cell it will print out `1`. To prevent confusion, it can be helpful to use the **Kernel -> Restart & Run All** option which clears the interpreter and runs everything from a clean slate going top to bottom."
   ]
  },
  {
   "cell_type": "markdown",
   "id": "e3a894e3",
   "metadata": {},
   "source": [
    "# Variables can be used in calculations\n",
    "\n",
    "We can use variables in calculations just as if they were values. Remember, we assigned the value 42 to age a few lines ago."
   ]
  },
  {
   "cell_type": "code",
   "execution_count": null,
   "id": "6434d0ab",
   "metadata": {},
   "outputs": [],
   "source": [
    "print(age)"
   ]
  },
  {
   "cell_type": "code",
   "execution_count": null,
   "id": "ca2a8ac8",
   "metadata": {},
   "outputs": [],
   "source": [
    "age = age +3\n",
    "print('Age in three years', age)"
   ]
  },
  {
   "cell_type": "markdown",
   "id": "7352ee50",
   "metadata": {},
   "source": [
    "# Use an index to get a single character from a string\n",
    "\n",
    "In Python, a string is a sequence of characters enclosed within single quotes ('...') or double quotes (\"...\"). Strings are used to represent text data and are immutable, meaning that once a string is created, it cannot be changed.\n",
    "\n",
    "* The characters (individual letters, numbers, and so on) in a string are ordered. For example, the string 'AB' is not the same as 'BA'. Because of this ordering, we can treat the string as a list of characters. \n",
    "* Each position in the string (first, second, etc.) is given a number. This number is called an index or sometimes a subscript.\n",
    "* Indices are numbered from 0. Use the position’s index in square brackets to get the character at that position.\n",
    "\n",
    "![Diagram showing string indexing for word helium.](screenshots/helium.png 'index')"
   ]
  },
  {
   "cell_type": "code",
   "execution_count": null,
   "id": "d649f186",
   "metadata": {},
   "outputs": [],
   "source": [
    "atom_name = 'helium'\n",
    "print(atom_name[0])"
   ]
  },
  {
   "cell_type": "markdown",
   "id": "cea7064c",
   "metadata": {},
   "source": [
    "# Use a slice to get a substring\n",
    "\n",
    "* A part of a string is called a **substring**. A substring can be as short as a single character.\n",
    "* An item in a list is called an element. Whenever we treat a string as if it were a list, the string’s elements are its individual characters.\n",
    "* A slice is a part of a string (or, more generally, a part of any list-like thing).\n",
    "* We take a slice with the notation [start:stop], where start is the integer index of the first element we want and stop is the integer index of the element *just after* the last element we want.\n",
    "* The difference between stop and start is the slice’s length.\n",
    "* Taking a slice does not change the contents of the original string. Instead, taking a slice returns a copy of part of the original string."
   ]
  },
  {
   "cell_type": "code",
   "execution_count": null,
   "id": "82ad2c45-e0f6-44fe-adc9-f25ba0a9346d",
   "metadata": {},
   "outputs": [],
   "source": [
    "atom_name = 'sodium'\n",
    "print(atom_name[0:3])"
   ]
  },
  {
   "cell_type": "markdown",
   "id": "94883ec6",
   "metadata": {},
   "source": [
    "# Use the built-in function len to find the length of a string\n",
    "\n",
    "Nested functions are evaluated from the inside out, like in mathematics."
   ]
  },
  {
   "cell_type": "code",
   "execution_count": null,
   "id": "5e7b1a1a",
   "metadata": {},
   "outputs": [],
   "source": [
    "print(len('helium'))"
   ]
  },
  {
   "cell_type": "markdown",
   "id": "99ee68e8",
   "metadata": {},
   "source": [
    "## Exercise 2:\n",
    "\n",
    "If you assign `a = 123`, what happens if you try to get the second digit of `a` via `a[1]`?"
   ]
  },
  {
   "cell_type": "code",
   "execution_count": null,
   "id": "6b42bc22",
   "metadata": {},
   "outputs": [],
   "source": [
    "a = 123\n",
    "print(a[1])"
   ]
  },
  {
   "cell_type": "markdown",
   "id": "9db766a2",
   "metadata": {},
   "source": [
    "*Solution:*\n",
    "\n",
    "Numbers are not strings or sequences and Python will raise an error if you try to perform an index operation on a number. In the next lesson on types and type conversion we will learn more about types and how to convert between different types. If you want the Nth digit of a number you can convert it into a string using the `str` built-in function and then perform an index operation on that string."
   ]
  },
  {
   "cell_type": "code",
   "execution_count": null,
   "id": "6204f838",
   "metadata": {},
   "outputs": [],
   "source": [
    "a = str(123)\n",
    "print(a[1])"
   ]
  },
  {
   "cell_type": "markdown",
   "id": "8a86cd55",
   "metadata": {},
   "source": [
    "## Exercise 3:\n",
    "\n",
    "Which is a better variable name, `m`, `min`, or `minutes`? Why? Hint: think about which code you would rather inherit from someone who is leaving the lab:\n",
    "\n",
    "```python\n",
    "ts = m * 60 + s\n",
    "tot_sec = min * 60 + sec\n",
    "total_seconds = minutes * 60 + seconds\n",
    "```"
   ]
  },
  {
   "cell_type": "markdown",
   "id": "e9740423",
   "metadata": {},
   "source": [
    "*Solution:*\n",
    "\n",
    "`minutes` is better because `min` might mean something like “minimum” (and actually is an existing built-in function in Python that we will cover later)."
   ]
  },
  {
   "cell_type": "markdown",
   "id": "99a47927",
   "metadata": {},
   "source": [
    "## Exercise 5:\n",
    "\n",
    "Given the following string:\n",
    "\n",
    "`species_name = \"Acer macrophyllum\"`\n",
    "\n",
    "What would these expressions return (try to predict the result before running the code yourself)?\n",
    "\n",
    "```python\n",
    "species_name[2:8]\n",
    "species_name[11:] #(without a value after the colon)\n",
    "species_name[:4] #(without a value before the colon)\n",
    "species_name[:] #(just a colon)\n",
    "species_name[11:-3]\n",
    "species_name[-5:-3]\n",
    "# What happens when you choose a stop value which is out of range? (i.e., try `species_name[0:20]` or `species_name[:103]`)\n",
    "```"
   ]
  },
  {
   "cell_type": "code",
   "execution_count": null,
   "id": "c0870667",
   "metadata": {},
   "outputs": [],
   "source": [
    "species_name = \"Acer macrophyllum\""
   ]
  },
  {
   "cell_type": "markdown",
   "id": "f0621de6",
   "metadata": {},
   "source": [
    "Use the following cells to try it out:"
   ]
  },
  {
   "cell_type": "code",
   "execution_count": null,
   "id": "6dc79950",
   "metadata": {},
   "outputs": [],
   "source": [
    "species_name[2:8]"
   ]
  },
  {
   "cell_type": "code",
   "execution_count": null,
   "id": "7d10a663",
   "metadata": {},
   "outputs": [],
   "source": [
    "species_name[11:]"
   ]
  },
  {
   "cell_type": "code",
   "execution_count": null,
   "id": "4fb07e58",
   "metadata": {},
   "outputs": [],
   "source": [
    "species_name[:4]"
   ]
  },
  {
   "cell_type": "code",
   "execution_count": null,
   "id": "3a0d598d",
   "metadata": {},
   "outputs": [],
   "source": [
    "species_name[:]"
   ]
  },
  {
   "cell_type": "code",
   "execution_count": null,
   "id": "6d935b5f",
   "metadata": {},
   "outputs": [],
   "source": [
    "species_name[11:-3]"
   ]
  },
  {
   "cell_type": "code",
   "execution_count": null,
   "id": "02f64d5d",
   "metadata": {},
   "outputs": [],
   "source": [
    "species_name[-5:-3]"
   ]
  },
  {
   "cell_type": "code",
   "execution_count": null,
   "id": "697c964b",
   "metadata": {},
   "outputs": [],
   "source": [
    "species_name[0:20]"
   ]
  },
  {
   "cell_type": "code",
   "execution_count": null,
   "id": "8a6727c3",
   "metadata": {},
   "outputs": [],
   "source": [
    "species_name[:103]"
   ]
  },
  {
   "cell_type": "markdown",
   "id": "b30614b2",
   "metadata": {},
   "source": [
    "## Exercise 8: \n",
    "\n",
    "Given the answers to exercises 1 and 2, explain what `element[1:-1]` does."
   ]
  },
  {
   "cell_type": "code",
   "execution_count": null,
   "id": "13d520d9",
   "metadata": {},
   "outputs": [],
   "source": []
  },
  {
   "cell_type": "markdown",
   "id": "675fbb7a",
   "metadata": {},
   "source": [
    "*Solution*\n",
    "\n",
    "Creates a substring from index 1 up to (not including) the final index, effectively removing the first and last letters from ‘oxygen’"
   ]
  },
  {
   "cell_type": "code",
   "execution_count": null,
   "id": "dfb4645d",
   "metadata": {},
   "outputs": [],
   "source": [
    "element = 'oxygen'\n",
    "print(element[1:-1])"
   ]
  },
  {
   "cell_type": "markdown",
   "id": "5faea94d",
   "metadata": {},
   "source": [
    "## Exercise 9: \n",
    "\n",
    "How can we rewrite the slice for getting the last three characters of a string, so that it works even if we assign a different string? Test your solution with the following strings: carpentry, clone, hi."
   ]
  },
  {
   "cell_type": "code",
   "execution_count": null,
   "id": "addec59b",
   "metadata": {},
   "outputs": [],
   "source": []
  },
  {
   "cell_type": "markdown",
   "id": "65828611",
   "metadata": {},
   "source": [
    "*Solution*"
   ]
  },
  {
   "cell_type": "code",
   "execution_count": null,
   "id": "345c6557",
   "metadata": {},
   "outputs": [],
   "source": [
    "element = 'carpentry'\n",
    "print(element[-3:])\n",
    "\n",
    "element = 'clone'\n",
    "print(element[-3:])\n",
    "\n",
    "element = 'hi'\n",
    "print(element[-3:])"
   ]
  },
  {
   "cell_type": "markdown",
   "id": "6a0d8d40",
   "metadata": {},
   "source": [
    "# TIME CHECK!"
   ]
  },
  {
   "cell_type": "markdown",
   "id": "a2dbaa43",
   "metadata": {},
   "source": [
    "# Every value has a type\n",
    "\n",
    "* Every value in a program has a specific type.\n",
    "* Integer (`int`): represents positive or negative whole numbers like 3 or -512.\n",
    "* Floating point number (`float`): represents real numbers like 3.14159 or -2.5.\n",
    "* Character string (usually called “string”, `str`): text.\n",
    "    * Written in either single quotes or double quotes (as long as they match).\n",
    "    * The quote marks aren’t printed when the string is displayed.\n",
    "    \n",
    "# Use the built-in function `type` to find the type of a value\n",
    "\n",
    "* Use the built-in function `type` to find out what type a value has.\n",
    "* Works on variables as well.\n",
    "    * But remember: the value has the type — the variable is just a label."
   ]
  },
  {
   "cell_type": "code",
   "execution_count": null,
   "id": "48f41bf4",
   "metadata": {},
   "outputs": [],
   "source": [
    "print(type(52))"
   ]
  },
  {
   "cell_type": "code",
   "execution_count": null,
   "id": "aeef5354",
   "metadata": {},
   "outputs": [],
   "source": [
    "fitness = 'average'\n",
    "print(type('average'))\n",
    "print(type(fitness))"
   ]
  },
  {
   "cell_type": "markdown",
   "id": "f2fe2010",
   "metadata": {},
   "source": [
    "# Types control what operations (or methods) can be performed on a given value\n",
    "\n",
    "A value’s type determines what the program can do to it."
   ]
  },
  {
   "cell_type": "code",
   "execution_count": null,
   "id": "f96757dc",
   "metadata": {},
   "outputs": [],
   "source": [
    "print(5 - 3)"
   ]
  },
  {
   "cell_type": "code",
   "execution_count": null,
   "id": "c6441f30",
   "metadata": {},
   "outputs": [],
   "source": [
    "print('hello' - 'h')"
   ]
  },
  {
   "cell_type": "markdown",
   "id": "a4fdc6d5",
   "metadata": {},
   "source": [
    "# You can use the “+” and “*” operators on strings\n",
    "\n",
    "“Adding” character strings concatenates them."
   ]
  },
  {
   "cell_type": "code",
   "execution_count": null,
   "id": "5486de8f",
   "metadata": {},
   "outputs": [],
   "source": [
    "full_name = 'Ahmed' + ' ' + 'Walsh'\n",
    "print(full_name)"
   ]
  },
  {
   "cell_type": "markdown",
   "id": "23ba23cf",
   "metadata": {},
   "source": [
    "Multiplying a character string by an integer *N* creates a new string that consists of that character string repeated *N* times.\n",
    "* Since multiplication is repeated addition."
   ]
  },
  {
   "cell_type": "code",
   "execution_count": null,
   "id": "8c369df1",
   "metadata": {},
   "outputs": [],
   "source": [
    "separator = '=' * 10\n",
    "print(separator)"
   ]
  },
  {
   "cell_type": "code",
   "execution_count": null,
   "id": "5b97a375",
   "metadata": {},
   "outputs": [],
   "source": [
    "print(fitness * 10)"
   ]
  },
  {
   "cell_type": "markdown",
   "id": "01fa52ac",
   "metadata": {},
   "source": [
    "# Strings have a length (but numbers don’t)\n",
    "\n",
    "The built-in function len counts the number of characters in a string."
   ]
  },
  {
   "cell_type": "code",
   "execution_count": null,
   "id": "85c8b99a",
   "metadata": {},
   "outputs": [],
   "source": [
    "print(len(full_name))"
   ]
  },
  {
   "cell_type": "markdown",
   "id": "f1e468b0",
   "metadata": {},
   "source": [
    "But numbers don’t have a length (not even zero)."
   ]
  },
  {
   "cell_type": "code",
   "execution_count": null,
   "id": "e092c52f",
   "metadata": {},
   "outputs": [],
   "source": [
    "print(len(52))"
   ]
  },
  {
   "cell_type": "markdown",
   "id": "f604f5e5",
   "metadata": {},
   "source": [
    "# Must convert numbers to strings or vice versa when operating on them\n",
    "\n",
    "Cannot add numbers and strings."
   ]
  },
  {
   "cell_type": "code",
   "execution_count": null,
   "id": "7b06d92e",
   "metadata": {},
   "outputs": [],
   "source": [
    "print(1 + '2')"
   ]
  },
  {
   "cell_type": "markdown",
   "id": "b1b61a6a",
   "metadata": {},
   "source": [
    "* Not allowed because it’s ambiguous: should 1 + '2' be 3 or '12'?\n",
    "* Some types can be converted to other types by using the type name as a function."
   ]
  },
  {
   "cell_type": "code",
   "execution_count": null,
   "id": "8d8c8e5a",
   "metadata": {},
   "outputs": [],
   "source": [
    "print(1 + int('2'))\n",
    "print(str(1) + '2')"
   ]
  },
  {
   "cell_type": "markdown",
   "id": "0a607fc2",
   "metadata": {},
   "source": [
    "# Can mix integers and floats freely in operations\n",
    "\n",
    "Integers and floating-point numbers can be mixed in arithmetic. Python 3 automatically converts integers to floats as needed."
   ]
  },
  {
   "cell_type": "code",
   "execution_count": null,
   "id": "bd3555ad",
   "metadata": {},
   "outputs": [],
   "source": [
    "print('half is', 1 / 2.0)\n",
    "print('three squared is', 3.0 ** 2)"
   ]
  },
  {
   "cell_type": "markdown",
   "id": "e08c18d1",
   "metadata": {},
   "source": [
    "# Variables only change value when something is assigned to them\n",
    "\n",
    "If we make one cell in a spreadsheet depend on another, and update the latter, the former updates automatically.\n",
    "This does **not** happen in programming languages."
   ]
  },
  {
   "cell_type": "code",
   "execution_count": null,
   "id": "c9ebdf56",
   "metadata": {},
   "outputs": [],
   "source": [
    "variable_one = 1\n",
    "variable_two = 5 * variable_one\n",
    "variable_one = 2\n",
    "print('first is', variable_one, 'and second is', variable_two)"
   ]
  },
  {
   "cell_type": "markdown",
   "id": "6c7b4fda",
   "metadata": {},
   "source": [
    "* The computer reads the value of `variable_one` when doing the multiplication, creates a new value, and assigns it to `variable_two`.\n",
    "* Afterwards, the value of `variable_two` is set to the new value and not dependent on `variable_one` so its value does not automatically change when `variable_one` changes."
   ]
  },
  {
   "cell_type": "markdown",
   "id": "dcb67d00",
   "metadata": {},
   "source": [
    "## Exercise 1:\n",
    "\n",
    "What type of value is 3.4? How can you find out?\n",
    "\n",
    "*Solution: It is a floating-point number (often abbreviated “float”). It is possible to find out by using the built-in function `type()`.*"
   ]
  },
  {
   "cell_type": "code",
   "execution_count": null,
   "id": "360f59b6",
   "metadata": {},
   "outputs": [],
   "source": [
    "print(type(3.4))"
   ]
  },
  {
   "cell_type": "markdown",
   "id": "2a07885f",
   "metadata": {},
   "source": [
    "# TIME CHECK!"
   ]
  },
  {
   "cell_type": "markdown",
   "id": "78e38ead",
   "metadata": {},
   "source": [
    "# Built-in Functions and Help\n",
    "\n",
    "Python is a versatile programming language that comes with a rich set of built-in features designed to streamline development and increase productivity. Key features include a comprehensive standard library that supports a wide range of tasks such as file I/O, system calls, and Internet protocols. Python's dynamic typing and automatic memory management simplify coding and reduce errors. It supports multiple programming paradigms, including procedural, object-oriented, and functional programming. Additionally, Python includes robust data structures like lists, dictionaries, and sets, and provides powerful modules for handling regular expressions, mathematics, and date/time operations. Its interactive interpreter, integrated debugging, and extensive documentation make it accessible and user-friendly for both beginners and experienced developers.\n"
   ]
  },
  {
   "cell_type": "markdown",
   "id": "25cb25da",
   "metadata": {},
   "source": [
    "# A function may take zero or more arguments\n",
    "\n",
    "* We have seen some functions already — now let’s take a closer look.\n",
    "* An argument is a value passed into a function.\n",
    "* `len` takes exactly one.\n",
    "* `int`, `str`, and `float` create a new value from an existing one.\n",
    "* `print` takes zero or more.\n",
    "* `print` with no arguments prints a blank line.\n",
    "    * Must always use parentheses, even if they’re empty, so that Python knows a function is being called."
   ]
  },
  {
   "cell_type": "code",
   "execution_count": null,
   "id": "a3bb794f",
   "metadata": {},
   "outputs": [],
   "source": [
    "print('before')\n",
    "print()\n",
    "print('after')"
   ]
  },
  {
   "cell_type": "markdown",
   "id": "c3886018",
   "metadata": {},
   "source": [
    "# Every function returns something\n",
    "\n",
    "* Every function call produces some result.\n",
    "* If the function doesn’t have a useful result to return, it usually returns the special value `None`. `None` is a Python object that stands in anytime there is no value."
   ]
  },
  {
   "cell_type": "code",
   "execution_count": null,
   "id": "e39a2dde",
   "metadata": {},
   "outputs": [],
   "source": [
    "result = print('example')\n",
    "print('result of print is', result)"
   ]
  },
  {
   "cell_type": "markdown",
   "id": "6127a8ee",
   "metadata": {},
   "source": [
    "# Commonly-used built-in functions include max, min, and round\n",
    "\n",
    "* Use `max` to find the largest value of one or more values.\n",
    "* Use `min` to find the smallest.\n",
    "* Both work on character strings as well as numbers.\n",
    "    * “Larger” and “smaller” use (0-9, A-Z, a-z) to compare letters."
   ]
  },
  {
   "cell_type": "code",
   "execution_count": null,
   "id": "014772a1",
   "metadata": {},
   "outputs": [],
   "source": [
    "print(max(1, 2, 3))\n",
    "print(min('a', 'A', '0'))"
   ]
  },
  {
   "cell_type": "markdown",
   "id": "a1e09788",
   "metadata": {},
   "source": [
    "# Functions may only work for certain (combinations of) arguments\n",
    "\n",
    "* `max` and `min` must be given at least one argument.\n",
    "    * “Largest of the empty set” is a meaningless question.\n",
    "* And they must be given things that can meaningfully be compared."
   ]
  },
  {
   "cell_type": "code",
   "execution_count": null,
   "id": "61ee06ea",
   "metadata": {},
   "outputs": [],
   "source": [
    "print(max(1, 'a'))"
   ]
  },
  {
   "cell_type": "markdown",
   "id": "31511d43",
   "metadata": {},
   "source": [
    "# Functions may have default values for some arguments\n",
    "\n",
    "`round` will round off a floating-point number. By default, rounds to zero decimal places."
   ]
  },
  {
   "cell_type": "code",
   "execution_count": null,
   "id": "55e2e684",
   "metadata": {},
   "outputs": [],
   "source": [
    "round(3.712)"
   ]
  },
  {
   "cell_type": "markdown",
   "id": "1faafd0d",
   "metadata": {},
   "source": [
    " We can specify the number of decimal places we want."
   ]
  },
  {
   "cell_type": "code",
   "execution_count": null,
   "id": "011bf283",
   "metadata": {},
   "outputs": [],
   "source": [
    "round(3.712, 1)"
   ]
  },
  {
   "cell_type": "markdown",
   "id": "bccdb8eb",
   "metadata": {},
   "source": [
    "# Functions attached to objects are called methods\n",
    "\n",
    "* Functions take another form that will be common in our section focused on `pandas`.\n",
    "* Methods have parentheses like functions, but come after the variable.\n",
    "* Some methods are used for internal Python operations, and are marked with double underlines."
   ]
  },
  {
   "cell_type": "code",
   "execution_count": null,
   "id": "c705f64b",
   "metadata": {},
   "outputs": [],
   "source": [
    "my_string = 'Hello world!'  # creation of a string object \n",
    "\n",
    "print(len(my_string))       # the len function takes a string as an argument and returns the length of the string\n",
    "\n",
    "print(my_string.swapcase()) # calling the swapcase method on the my_string object\n",
    "\n",
    "print(my_string.__len__())  # calling the internal __len__ method on the my_string object, used by len(my_string)"
   ]
  },
  {
   "cell_type": "markdown",
   "id": "c0a54d33",
   "metadata": {},
   "source": [
    "You might even see them chained together. They operate left to right."
   ]
  },
  {
   "cell_type": "code",
   "execution_count": null,
   "id": "06eb540f",
   "metadata": {},
   "outputs": [],
   "source": [
    "print(my_string.isupper())          # Not all the letters are uppercase\n",
    "print(my_string.upper())            # This capitalizes all the letters\n",
    "\n",
    "print(my_string.upper().isupper())  # Now all the letters are uppercase"
   ]
  },
  {
   "cell_type": "markdown",
   "id": "52e468f6",
   "metadata": {},
   "source": [
    "# Use the built-in function help to get help for a function\n",
    "\n",
    "Every built-in function has online documentation."
   ]
  },
  {
   "cell_type": "code",
   "execution_count": null,
   "id": "d71da81f",
   "metadata": {},
   "outputs": [],
   "source": [
    "help(round)"
   ]
  },
  {
   "cell_type": "markdown",
   "id": "8a31f8ae",
   "metadata": {},
   "source": [
    "# The Jupyter Notebook has two ways to get help\n",
    "\n",
    "**Option 1:** Place the cursor near where the function is invoked in a cell (i.e., the function name or its parameters),\n",
    "* Hold down `Shift`, and press `Tab`.\n",
    "* Do this several times to expand the information returned.\n",
    "\n",
    "**Option 2:** Type the function name in a cell with a question mark after it. Then run the cell."
   ]
  },
  {
   "cell_type": "code",
   "execution_count": null,
   "id": "584e504f",
   "metadata": {},
   "outputs": [],
   "source": [
    "# place cursor after the 'd' below and use the shift + tab option\n",
    "round"
   ]
  },
  {
   "cell_type": "code",
   "execution_count": null,
   "id": "07f94045",
   "metadata": {},
   "outputs": [],
   "source": [
    "# question mark option:\n",
    "round?"
   ]
  },
  {
   "cell_type": "markdown",
   "id": "c037eb24",
   "metadata": {},
   "source": [
    "# Python reports a syntax error when it can’t understand the source of a program\n",
    "\n",
    "Won’t even try to run the program if it can’t be parsed."
   ]
  },
  {
   "cell_type": "code",
   "execution_count": null,
   "id": "bd532f19",
   "metadata": {},
   "outputs": [],
   "source": [
    "# Forgot to close the quote marks around the string.\n",
    "name = 'Feng"
   ]
  },
  {
   "cell_type": "code",
   "execution_count": null,
   "id": "4d28460b",
   "metadata": {},
   "outputs": [],
   "source": [
    "# An extra '=' in the assignment.\n",
    "age = = 52"
   ]
  },
  {
   "cell_type": "markdown",
   "id": "b8da16e6",
   "metadata": {},
   "source": [
    "Look more closely at the error message:"
   ]
  },
  {
   "cell_type": "code",
   "execution_count": null,
   "id": "cb23ebf2-554c-4a3b-8b7e-a74c5c6d8f74",
   "metadata": {},
   "outputs": [],
   "source": [
    "print(\"hello world\""
   ]
  },
  {
   "cell_type": "markdown",
   "id": "a4f2e074",
   "metadata": {},
   "source": [
    "* The message indicates a problem on first line of the input (“line 1”).\n",
    "* The last line indicates incomplete input."
   ]
  },
  {
   "cell_type": "markdown",
   "id": "b3dee859",
   "metadata": {},
   "source": [
    "# Python reports a runtime error when something goes wrong while a program is executing"
   ]
  },
  {
   "cell_type": "code",
   "execution_count": null,
   "id": "6734fc32",
   "metadata": {},
   "outputs": [],
   "source": [
    "age = 53\n",
    "remaining = 100 - aege # mis-spelled 'age'"
   ]
  },
  {
   "cell_type": "markdown",
   "id": "881fa984",
   "metadata": {},
   "source": [
    "Fix syntax errors by reading the source and runtime errors by tracing execution."
   ]
  },
  {
   "cell_type": "markdown",
   "id": "b9ab334d",
   "metadata": {},
   "source": [
    "# TIME CHECK!"
   ]
  },
  {
   "cell_type": "markdown",
   "id": "2b425138",
   "metadata": {},
   "source": [
    "# A list stores many values in a single structure\n",
    "\n",
    "* Doing calculations with a hundred variables called `pressure_001`, `pressure_002`, etc., would be at least as slow as doing them by hand.\n",
    "* Use a *list* to store many values together.\n",
    "    * Contained within square brackets `[...]`.\n",
    "    * Values separated by commas `,`.\n",
    "* Use len to find out how many values are in a list."
   ]
  },
  {
   "cell_type": "code",
   "execution_count": null,
   "id": "95323577",
   "metadata": {},
   "outputs": [],
   "source": [
    "pressures = [0.273, 0.275, 0.277, 0.275, 0.276]\n",
    "print('pressures:', pressures)\n",
    "print('length:', len(pressures))"
   ]
  },
  {
   "cell_type": "markdown",
   "id": "6a4e96c2",
   "metadata": {},
   "source": [
    "# Use an item’s index to fetch it from a list\n",
    "Just like strings."
   ]
  },
  {
   "cell_type": "code",
   "execution_count": null,
   "id": "0464c4d7",
   "metadata": {},
   "outputs": [],
   "source": [
    "print('zeroth item of pressures:', pressures[0])\n",
    "print('fourth item of pressures:', pressures[4])"
   ]
  },
  {
   "cell_type": "markdown",
   "id": "981ea65d",
   "metadata": {},
   "source": [
    "# Lists’ values can be replaced by assigning to them\n",
    "\n",
    "Use an index expression on the left of assignment to replace a value."
   ]
  },
  {
   "cell_type": "code",
   "execution_count": null,
   "id": "a28336ac",
   "metadata": {},
   "outputs": [],
   "source": [
    "pressures[0] = 0.265\n",
    "print('pressures is now:', pressures)"
   ]
  },
  {
   "cell_type": "markdown",
   "id": "6af5552c",
   "metadata": {},
   "source": [
    "# Appending items to a list lengthens it\n",
    "Use `list_name.append` to add items to the end of a list."
   ]
  },
  {
   "cell_type": "code",
   "execution_count": null,
   "id": "ed1be7bd",
   "metadata": {},
   "outputs": [],
   "source": [
    "primes = [2, 3, 5]\n",
    "print('primes is initially:', primes)\n",
    "primes.append(7)\n",
    "print('primes has become:', primes)"
   ]
  },
  {
   "cell_type": "markdown",
   "id": "7869597f",
   "metadata": {},
   "source": [
    "* `append` is a ***method*** of lists.\n",
    "    * Like a function, but tied to a particular object.\n",
    "* Use `object_name.method_name` to call methods.\n",
    "    * Deliberately resembles the way we refer to things in a library.\n",
    "* We will meet other methods of lists as we go along.\n",
    "* Use `help(list)` for a preview.\n",
    "* `extend` is similar to `append`, but it allows you to combine two lists. For example:"
   ]
  },
  {
   "cell_type": "code",
   "execution_count": null,
   "id": "32eb3ace",
   "metadata": {},
   "outputs": [],
   "source": [
    "teen_primes = [11, 13, 17, 19]\n",
    "middle_aged_primes = [37, 41, 43, 47]\n",
    "print('primes is currently:', primes)\n",
    "primes.extend(teen_primes)\n",
    "print('primes has now become:', primes)\n",
    "primes.append(middle_aged_primes)\n",
    "print('primes has finally become:', primes)"
   ]
  },
  {
   "cell_type": "markdown",
   "id": "025ac81d",
   "metadata": {},
   "source": [
    "Note that while `extend` maintains the “flat” structure of the list, appending a list to a list means the last element in `primes` will itself be a list, not an integer. Lists can contain values of any type; therefore, lists of lists are possible.\n",
    "\n",
    "# Use `del` to remove items from a list entirely\n",
    "\n",
    "* We use del `list_name[index]` to remove an element from a list (in the example, 9 is not a prime number) and thus shorten it.\n",
    "* `del` is not a function or a method, but a statement in the language."
   ]
  },
  {
   "cell_type": "code",
   "execution_count": null,
   "id": "ca391421",
   "metadata": {},
   "outputs": [],
   "source": [
    "primes = [2, 3, 5, 7, 9]\n",
    "print('primes before removing last item:', primes)\n",
    "del primes[4]\n",
    "print('primes after removing last item:', primes)"
   ]
  },
  {
   "cell_type": "markdown",
   "id": "1016fe3d",
   "metadata": {},
   "source": [
    "# The empty list contains no values\n",
    "Use `[]` on its own to represent a list that doesn’t contain any values.\n",
    "* “The zero of lists.”\n",
    "\n",
    "# Lists may contain values of different types\n",
    "\n",
    "A single list may contain numbers, strings, and anything else."
   ]
  },
  {
   "cell_type": "code",
   "execution_count": null,
   "id": "d9a1b607",
   "metadata": {},
   "outputs": [],
   "source": [
    "goals = [1, 'Create lists.', 2, 'Extract items from lists.', 3, 'Modify lists.']"
   ]
  },
  {
   "cell_type": "markdown",
   "id": "f360ad93",
   "metadata": {},
   "source": [
    "# Character strings can be indexed like lists\n",
    "Get single characters from a character string using indexes in square brackets."
   ]
  },
  {
   "cell_type": "code",
   "execution_count": null,
   "id": "d56c3735",
   "metadata": {},
   "outputs": [],
   "source": [
    "element = 'carbon'\n",
    "print('zeroth character:', element[0])\n",
    "print('third character:', element[3])"
   ]
  },
  {
   "cell_type": "markdown",
   "id": "fe687c25",
   "metadata": {},
   "source": [
    "# Character strings are immutable\n",
    "\n",
    "* Cannot change the characters in a string after it has been created.\n",
    "    * ***Immutable:*** can’t be changed after creation.\n",
    "    * In contrast, lists are ***mutable:*** they can be modified in place.\n",
    "* Python considers the string to be a single value with parts, not a collection of values.\n",
    "* Lists and character strings are both ***collections***."
   ]
  },
  {
   "cell_type": "code",
   "execution_count": null,
   "id": "79756d77",
   "metadata": {},
   "outputs": [],
   "source": [
    "element[0] = 'C'"
   ]
  },
  {
   "cell_type": "markdown",
   "id": "dd3b81fa",
   "metadata": {},
   "source": [
    "# Indexing beyond the end of the collection is an error\n",
    "\n",
    "* Python reports an IndexError if we attempt to access a value that doesn’t exist.\n",
    "    * This is a kind of [runtime error](https://swcarpentry.github.io/python-novice-gapminder/04-built-in.html).\n",
    "    * Cannot be detected as the code is parsed because the index might be calculated based on data."
   ]
  },
  {
   "cell_type": "code",
   "execution_count": null,
   "id": "942d705a",
   "metadata": {},
   "outputs": [],
   "source": [
    "print('99th element of element is:', element[99])"
   ]
  },
  {
   "cell_type": "markdown",
   "id": "430eb70e",
   "metadata": {},
   "source": [
    "## Exercise 1: \n",
    "\n",
    "Fill in the blanks so that the program below produces the output shown.\n",
    "\n",
    "```python\n",
    "values = ____\n",
    "values.____(1)\n",
    "values.____(3)\n",
    "values.____(5)\n",
    "print('first time:', values)\n",
    "values = values[____]\n",
    "print('second time:', values)\n",
    "```\n",
    "\n",
    "Output:\n",
    "```python\n",
    "first time: [1, 3, 5]\n",
    "second time: [3, 5]\n",
    "```\n",
    "\n",
    "*Solution:*"
   ]
  },
  {
   "cell_type": "code",
   "execution_count": null,
   "id": "9765c725-1e6b-47f0-bae4-36c52ceae4a6",
   "metadata": {},
   "outputs": [],
   "source": [
    "values = []\n",
    "values.append(1)\n",
    "values.append(3)\n",
    "values.append(5)\n",
    "print('first time:', values)\n",
    "values = values[1:]\n",
    "print('second time:', values)"
   ]
  },
  {
   "cell_type": "markdown",
   "id": "49674bd6-93ff-4af2-a418-935f6d44dd88",
   "metadata": {},
   "source": [
    "## Exercise 2:\n",
    "\n",
    "Given this:\n",
    "\n",
    "```python\n",
    "print('string to list:', list('tin'))\n",
    "print('list to string:', ''.join(['g', 'o', 'l', 'd']))\n",
    "```\n",
    "\n",
    "Output: \n",
    "```python\n",
    "string to list: ['t', 'i', 'n']\n",
    "list to string: gold\n",
    "```\n",
    "\n",
    "1. What does `list('some string')` do?\n",
    "2. What does `'-'.join(['x', 'y', 'z'])` generate?"
   ]
  },
  {
   "cell_type": "code",
   "execution_count": null,
   "id": "a4f8119c-f91e-4625-a036-82b1a6bfb9f7",
   "metadata": {},
   "outputs": [],
   "source": []
  },
  {
   "cell_type": "code",
   "execution_count": null,
   "id": "97a33128-e1f5-46a6-ad07-9695701951b4",
   "metadata": {},
   "outputs": [],
   "source": []
  },
  {
   "cell_type": "markdown",
   "id": "06ff5032-3003-40fb-92ac-f5b8673891c6",
   "metadata": {},
   "source": [
    "*Solution:*\n",
    "\n",
    "1. `list('some string')` converts a string into a list containing all of its characters.\n",
    "2. `join` returns a string that is the *concatenation* of each string element in the list and adds the separator between each element in the list. This results in `x-y-z`. The separator between the elements is the string that provides this method."
   ]
  },
  {
   "cell_type": "markdown",
   "id": "340c472f-7690-4721-9cab-7f8e9c580734",
   "metadata": {},
   "source": [
    "## Exercise 4: \n",
    "\n",
    "What does the following program print?\n",
    "\n",
    "```python\n",
    "element = 'fluorine'\n",
    "print(element[::2])\n",
    "print(element[::-1])\n",
    "```\n",
    "\n",
    "1. If we write a slice as low:high:stride, what does stride do?\n",
    "2. What expression would select all of the even-numbered items from a collection?"
   ]
  },
  {
   "cell_type": "code",
   "execution_count": null,
   "id": "fec80a56-79d5-4949-ac63-7970e2859942",
   "metadata": {},
   "outputs": [],
   "source": []
  },
  {
   "cell_type": "markdown",
   "id": "d7830817-d586-473f-87c1-fd76611b2376",
   "metadata": {},
   "source": [
    "*Solution:*\n",
    "\n",
    "The program prints\n",
    "```python\n",
    "furn\n",
    "eniroulf\n",
    "```\n",
    "\n",
    "1. `stride` is the step size of the slice.\n",
    "2. The slice `1::2` selects all even-numbered items from a collection: it starts with element 1 (which is the second element, since indexing starts at 0), goes on until the end (since no end is given), and uses a step size of 2 (i.e., selects every second element)."
   ]
  },
  {
   "cell_type": "markdown",
   "id": "98dc6704",
   "metadata": {},
   "source": [
    "# TIME CHECK!"
   ]
  },
  {
   "cell_type": "markdown",
   "id": "e5a3bddb",
   "metadata": {},
   "source": [
    "# Most of the power of a programming language is in its libraries\n",
    "\n",
    "***A library is a collection of modules, but the terms are often used interchangeably, especially since many libraries only consist of a single module, so don’t worry if you mix them.***\n",
    "\n",
    "* A library is a collection of files (called modules) that contains functions for use by other programs.\n",
    "    * May also contain data values (e.g., numerical constants) and other things.\n",
    "    * Library’s contents are supposed to be related, but there’s no way to enforce that.\n",
    "* The Python [standard library](https://docs.python.org/3/library/) is an extensive suite of modules that comes with Python itself.\n",
    "* Many additional libraries are available from [PyPI](https://pypi.python.org/pypi/) (the Python Package Index)."
   ]
  },
  {
   "cell_type": "markdown",
   "id": "0cfc254a",
   "metadata": {},
   "source": [
    "# A program must import a library module before using it\n",
    "\n",
    "* Use import to load a library module into a program’s memory.\n",
    "* Then refer to things from the module as module_name.thing_name.\n",
    "    * Python uses . to mean “part of”.\n",
    "* Using math, one of the modules in the standard library:"
   ]
  },
  {
   "cell_type": "code",
   "execution_count": null,
   "id": "ae82e25c-bddd-4f63-8b10-35e4bdcd8214",
   "metadata": {},
   "outputs": [],
   "source": [
    "import math\n",
    "\n",
    "print('pi is', math.pi)\n",
    "print('cos(pi) is', math.cos(math.pi))"
   ]
  },
  {
   "cell_type": "markdown",
   "id": "a57b9b6a",
   "metadata": {},
   "source": [
    "* Have to refer to each item with the module’s name.\n",
    "* `math.cos(pi)` won’t work: the reference to `pi` doesn’t somehow “inherit” the function’s reference to `math`."
   ]
  },
  {
   "cell_type": "markdown",
   "id": "14dbd02d",
   "metadata": {},
   "source": [
    "# Use help to learn about the contents of a library module\n",
    "\n",
    "Works just like help for a function."
   ]
  },
  {
   "cell_type": "code",
   "execution_count": null,
   "id": "56ef7951-2a69-478e-8919-71ea0ce6f1f8",
   "metadata": {},
   "outputs": [],
   "source": [
    "help(math) # remember to import math above ^^\n",
    "# help for a library is not available until the library is imported."
   ]
  },
  {
   "cell_type": "markdown",
   "id": "9b535b8e",
   "metadata": {},
   "source": [
    "# Import specific items from a library module to shorten programs\n",
    "\n",
    "* Use from ... import ... to load only specific items from a library module.\n",
    "* Then refer to them directly without library name as prefix."
   ]
  },
  {
   "cell_type": "code",
   "execution_count": null,
   "id": "c595de75",
   "metadata": {},
   "outputs": [],
   "source": [
    "from math import cos, pi\n",
    "\n",
    "print('cos(pi) is', cos(pi))"
   ]
  },
  {
   "cell_type": "markdown",
   "id": "0402fb0f-0d9a-461c-a7f6-6bff8e9e1f42",
   "metadata": {},
   "source": [
    "# Create an alias for a library module when importing it to shorten programs\n",
    "\n",
    "* Use `import ... as ...` to give a library a short alias while importing it.\n",
    "* Then refer to items in the library using that shortened name."
   ]
  },
  {
   "cell_type": "code",
   "execution_count": null,
   "id": "e98b16fd-d3a0-44f9-a7a2-053a259ced45",
   "metadata": {},
   "outputs": [],
   "source": [
    "import math as m\n",
    "\n",
    "print('cos(pi) is', m.cos(m.pi))"
   ]
  },
  {
   "cell_type": "markdown",
   "id": "8e6d228a-efb3-4a49-bfb7-87c44d3df7a1",
   "metadata": {},
   "source": [
    "* Commonly used for libraries that are frequently used or have long names.\n",
    "    * E.g., the `matplotlib` plotting library is often aliased as `mpl`.\n",
    "* But can make programs harder to understand, since readers must learn your program’s aliases."
   ]
  },
  {
   "cell_type": "markdown",
   "id": "7f4d06a3",
   "metadata": {},
   "source": [
    "1. Import the random module from Python's standard library and explore the help. \n",
    "2. Which function would you select from that module? Are there alternatives?\n",
    "3. Try to write a program that uses the function."
   ]
  },
  {
   "cell_type": "markdown",
   "id": "5927b900",
   "metadata": {},
   "source": [
    "# TIME CHECK!"
   ]
  },
  {
   "cell_type": "markdown",
   "id": "02eb4e7c",
   "metadata": {},
   "source": [
    "# A `for` loop executes commands once for each value in a collection\n",
    "\n",
    "* Doing calculations on the values in a list one by one is as painful as working with `pressure_001`, `pressure_002`, etc.\n",
    "* A **for loop tells* Python to execute some statements once for each value in a list, a character string, or some other collection.\n",
    "* “for each thing in this group, do these operations”"
   ]
  },
  {
   "cell_type": "code",
   "execution_count": null,
   "id": "2cbfb1a1",
   "metadata": {},
   "outputs": [],
   "source": [
    "for number in [2, 3, 5]:\n",
    "    print(number)"
   ]
  },
  {
   "cell_type": "markdown",
   "id": "d05d7907",
   "metadata": {},
   "source": [
    "The for loop above is equivalent to:"
   ]
  },
  {
   "cell_type": "code",
   "execution_count": null,
   "id": "490825e6",
   "metadata": {},
   "outputs": [],
   "source": [
    "print(2)\n",
    "print(3)\n",
    "print(5)"
   ]
  },
  {
   "cell_type": "markdown",
   "id": "011c35b7",
   "metadata": {},
   "source": [
    "# A `for` loop is made up of a collection, a loop variable, and a body.\n",
    "\n",
    "```python\n",
    "for number in [2, 3, 5]:\n",
    "    print(number)\n",
    "```\n",
    "* The collection, `[2, 3, 5]`, is what the loop is being run on.\n",
    "* The body, `print(number)`, specifies what to do for each value in the collection.\n",
    "* The loop variable, `number`, is what changes for each *iteration* of the loop.\n",
    "    * The “current thing”.\n"
   ]
  },
  {
   "cell_type": "markdown",
   "id": "8a134d8f",
   "metadata": {},
   "source": [
    "# The first line of the `for` loop must end with a colon, and the body must be indented.\n",
    "\n",
    "* The colon at the end of the first line signals the start of a block of statements.\n",
    "* Python uses indentation rather than `{}` or begin/end to show *nesting*.\n",
    "    * Any consistent indentation is legal, but almost everyone uses four spaces."
   ]
  },
  {
   "cell_type": "code",
   "execution_count": null,
   "id": "aebbeec3",
   "metadata": {},
   "outputs": [],
   "source": [
    "for number in [2, 3, 5]:\n",
    "print(number)"
   ]
  },
  {
   "cell_type": "markdown",
   "id": "4a0a5f2c",
   "metadata": {},
   "source": [
    "Indentation is always meaningful in Python."
   ]
  },
  {
   "cell_type": "code",
   "execution_count": null,
   "id": "fe81b5ee",
   "metadata": {},
   "outputs": [],
   "source": [
    "firstName = \"Jon\"\n",
    "  lastName = \"Smith\""
   ]
  },
  {
   "cell_type": "markdown",
   "id": "a10a1e75",
   "metadata": {},
   "source": [
    "This error can be fixed by removing the extra spaces at the beginning of the second line."
   ]
  },
  {
   "cell_type": "markdown",
   "id": "f2bd62c0",
   "metadata": {},
   "source": [
    "# Loop variables can be called anything.\n",
    "\n",
    "As with all variables, loop variables are:\n",
    "* Created on demand.\n",
    "* Meaningless: their names can be anything at all."
   ]
  },
  {
   "cell_type": "code",
   "execution_count": null,
   "id": "504303cb",
   "metadata": {},
   "outputs": [],
   "source": [
    "for kitten in [2, 3, 5]:\n",
    "    print(kitten)"
   ]
  },
  {
   "cell_type": "markdown",
   "id": "9bc11cbb",
   "metadata": {},
   "source": [
    "# The body of a loop can contain many statements.\n",
    "\n",
    "* But no loop should be more than a few lines long.\n",
    "* Hard for human beings to keep larger chunks of code in mind."
   ]
  },
  {
   "cell_type": "code",
   "execution_count": null,
   "id": "34d9debb",
   "metadata": {},
   "outputs": [],
   "source": [
    "primes = [2, 3, 5]\n",
    "for number in primes:\n",
    "    squared = number ** 2\n",
    "    cubed = number ** 3\n",
    "    print(number, squared, cubed)"
   ]
  },
  {
   "cell_type": "markdown",
   "id": "f4c0f6aa",
   "metadata": {},
   "source": [
    "# Use range to iterate over a sequence of numbers.\n",
    "\n",
    "The built-in function [<ins>range</ins>](https://docs.python.org/3/library/stdtypes.html#range) produces a sequence of numbers.\n",
    "* Not a list: the numbers are produced on demand to make looping over large ranges more efficient.\n",
    "`range(N)` is the numbers 0..N-1\n",
    "* Exactly the legal indices of a list or character string of length N"
   ]
  },
  {
   "cell_type": "code",
   "execution_count": null,
   "id": "1152a5e2",
   "metadata": {},
   "outputs": [],
   "source": [
    "for number in range(0, 3):\n",
    "    print(number)"
   ]
  },
  {
   "cell_type": "markdown",
   "id": "0b7c781a",
   "metadata": {},
   "source": [
    "# The Accumulator pattern turns many values into one.\n",
    "\n",
    "A common pattern in programs is to:\n",
    "1. Initialize an *accumulator* variable to zero, the empty string, or the empty list.\n",
    "2. Update the variable with values from a collection."
   ]
  },
  {
   "cell_type": "code",
   "execution_count": null,
   "id": "6b54f24c",
   "metadata": {},
   "outputs": [],
   "source": [
    "# Sum the first 10 integers.\n",
    "total = 0\n",
    "for number in range(10):\n",
    "   total = total + (number + 1)\n",
    "print(total)"
   ]
  },
  {
   "cell_type": "markdown",
   "id": "0e174b46",
   "metadata": {},
   "source": [
    "Read `total = total + (number + 1)` as:\n",
    "* Add 1 to the current value of the loop variable `number`.\n",
    "* Add that to the current value of the accumulator variable `total`.\n",
    "* Assign that to `total`, replacing the current value.\n",
    "* We have to add `number + 1` because range produces 0..9, not 1..10."
   ]
  },
  {
   "cell_type": "markdown",
   "id": "5b781638",
   "metadata": {},
   "source": [
    "## Exercise 2: \n",
    "\n",
    "Fill in the blanks in each of the programs below to produce the indicated result.\n",
    "\n",
    "```python\n",
    "# Total length of the strings in the list: [\"red\", \"green\", \"blue\"] => 12\n",
    "total = 0\n",
    "for word in [\"red\", \"green\", \"blue\"]:\n",
    "    ____ = ____ + len(word)\n",
    "print(total)\n",
    "```"
   ]
  },
  {
   "cell_type": "code",
   "execution_count": null,
   "id": "ac3230b2",
   "metadata": {},
   "outputs": [],
   "source": []
  },
  {
   "cell_type": "markdown",
   "id": "e986b1d9",
   "metadata": {},
   "source": [
    "*Solution* "
   ]
  },
  {
   "cell_type": "code",
   "execution_count": null,
   "id": "6c9ac320",
   "metadata": {},
   "outputs": [],
   "source": [
    "total = 0\n",
    "for word in [\"red\", \"green\", \"blue\"]:\n",
    "    total = total + len(word)\n",
    "print(total)"
   ]
  },
  {
   "cell_type": "markdown",
   "id": "415a32a7",
   "metadata": {},
   "source": [
    "## Exercise 3: \n",
    "\n",
    "Fill in the blanks in each of the programs below to produce the indicated result.\n",
    "\n",
    "```python\n",
    "# List of word lengths: [\"red\", \"green\", \"blue\"] => [3, 5, 4]\n",
    "lengths = ____\n",
    "for word in [\"red\", \"green\", \"blue\"]:\n",
    "    lengths.____(____)\n",
    "print(lengths)\n",
    "```"
   ]
  },
  {
   "cell_type": "code",
   "execution_count": null,
   "id": "39a19669",
   "metadata": {},
   "outputs": [],
   "source": []
  },
  {
   "cell_type": "markdown",
   "id": "07c51c21",
   "metadata": {},
   "source": [
    "*Solution*"
   ]
  },
  {
   "cell_type": "code",
   "execution_count": null,
   "id": "d1b7e2b7",
   "metadata": {},
   "outputs": [],
   "source": [
    "lengths = []\n",
    "for word in [\"red\", \"green\", \"blue\"]:\n",
    "    lengths.append(len(word))\n",
    "print(lengths)"
   ]
  },
  {
   "cell_type": "markdown",
   "id": "ec4a4c68",
   "metadata": {},
   "source": [
    "## Exercise 4: \n",
    "\n",
    "Fill in the blanks in each of the programs below to produce the indicated result.\n",
    "\n",
    "```python\n",
    "# Concatenate all words: [\"red\", \"green\", \"blue\"] => \"redgreenblue\"\n",
    "words = [\"red\", \"green\", \"blue\"]\n",
    "result = ____\n",
    "for ____ in ____:\n",
    "    ____\n",
    "print(result)\n",
    "```"
   ]
  },
  {
   "cell_type": "code",
   "execution_count": null,
   "id": "c3f221c7",
   "metadata": {},
   "outputs": [],
   "source": []
  },
  {
   "cell_type": "markdown",
   "id": "eff159d7",
   "metadata": {},
   "source": [
    "*Solution*"
   ]
  },
  {
   "cell_type": "code",
   "execution_count": null,
   "id": "1d296a5d",
   "metadata": {},
   "outputs": [],
   "source": [
    "words = [\"red\", \"green\", \"blue\"]\n",
    "result = \"\"\n",
    "for word in words:\n",
    "    result = result + word\n",
    "print(result)"
   ]
  },
  {
   "cell_type": "markdown",
   "id": "ae8f7ca9",
   "metadata": {},
   "source": [
    "## Exercise 5: \n",
    "\n",
    "Create an acronym: Starting from the list [\"red\", \"green\", \"blue\"], create the acronym \"RGB\" using a for loop.\n",
    "\n",
    "Hint: You may need to use a string method to properly format the acronym."
   ]
  },
  {
   "cell_type": "code",
   "execution_count": null,
   "id": "a9a80b02",
   "metadata": {},
   "outputs": [],
   "source": []
  },
  {
   "cell_type": "markdown",
   "id": "a407c1e8",
   "metadata": {},
   "source": [
    "*Solution*"
   ]
  },
  {
   "cell_type": "code",
   "execution_count": null,
   "id": "07000fb8",
   "metadata": {},
   "outputs": [],
   "source": [
    "words = [\"red\", \"green\", \"blue\"]\n",
    "acronym = \"\"\n",
    "for word in words:\n",
    "    acronym = acronym + word[0].upper()\n",
    "print(acronym)"
   ]
  },
  {
   "cell_type": "markdown",
   "id": "7d0611ff",
   "metadata": {},
   "source": [
    "## Exercise 6:\n",
    "\n",
    "Reorder and properly indent the lines of code below so that they print a list with the cumulative sum of data. The result should be [1, 3, 5, 10].\n",
    "\n",
    "```python\n",
    "cumulative.append(total)\n",
    "for number in data:\n",
    "cumulative = []\n",
    "total = total + number\n",
    "total = 0\n",
    "print(cumulative)\n",
    "data = [1,2,2,5]\n",
    "```"
   ]
  },
  {
   "cell_type": "code",
   "execution_count": null,
   "id": "ac02345a",
   "metadata": {},
   "outputs": [],
   "source": []
  },
  {
   "cell_type": "markdown",
   "id": "42de312f",
   "metadata": {},
   "source": [
    "*Solution*"
   ]
  },
  {
   "cell_type": "code",
   "execution_count": null,
   "id": "b21bd609",
   "metadata": {},
   "outputs": [],
   "source": [
    "data = [1,2,2,5]\n",
    "cumulative = []\n",
    "total = 0\n",
    "\n",
    "for number in data:\n",
    "    total = total + number\n",
    "    cumulative.append(total)\n",
    "print(cumulative)"
   ]
  },
  {
   "cell_type": "markdown",
   "id": "58a79718",
   "metadata": {},
   "source": [
    "## Exercise 7:\n",
    "\n",
    "1. Read the code below and try to identify what the errors are without running it.\n",
    "2. Run the code and read the error message. What type of NameError do you think this is? Is it a string with no quotes, a misspelled variable, or a variable that should have been defined but was not?\n",
    "3. Fix the error.\n",
    "4. Repeat steps 2 and 3, until you have fixed all the errors.\n",
    "\n",
    "```python\n",
    "for number in range(10):\n",
    "    # use a if the number is a multiple of 3, otherwise use b\n",
    "    if (Number % 3) == 0:\n",
    "        message = message + a\n",
    "    else:\n",
    "        message = message + \"b\"\n",
    "print(message)\n",
    "```"
   ]
  },
  {
   "cell_type": "code",
   "execution_count": null,
   "id": "cbc6105f",
   "metadata": {},
   "outputs": [],
   "source": []
  },
  {
   "cell_type": "markdown",
   "id": "65e73b16",
   "metadata": {},
   "source": [
    "*Solution*\n",
    "\n",
    "* Python variable names are case sensitive: `number` and `Number` refer to different variables.\n",
    "* The variable `message` needs to be initialized as an empty string.\n",
    "* We want to add the string \"a\" to message, not the undefined variable a."
   ]
  },
  {
   "cell_type": "code",
   "execution_count": null,
   "id": "ceba86b6",
   "metadata": {},
   "outputs": [],
   "source": [
    "# corrected code:\n",
    "message = \"\"\n",
    "for number in range(10):\n",
    "    # use a if the number is a multiple of 3, otherwise use b\n",
    "    if (number % 3) == 0:\n",
    "        message = message + \"a\"\n",
    "    else:\n",
    "        message = message + \"b\"\n",
    "print(message)"
   ]
  },
  {
   "cell_type": "markdown",
   "id": "2cdcd468",
   "metadata": {},
   "source": [
    "## Exercise 8:\n",
    "\n",
    "1. Read the code below and try to identify what the errors are without running it.\n",
    "2. Run the code, and read the error message. What type of error is it?\n",
    "3. Fix the error.\n",
    "\n",
    "```python\n",
    "seasons = ['Spring', 'Summer', 'Fall', 'Winter']\n",
    "print('My favorite season is ', seasons[4])\n",
    "```"
   ]
  },
  {
   "cell_type": "code",
   "execution_count": null,
   "id": "cb40587f",
   "metadata": {},
   "outputs": [],
   "source": []
  },
  {
   "cell_type": "markdown",
   "id": "1955d283",
   "metadata": {},
   "source": [
    "*Solution*\n",
    "\n",
    "This list has 4 elements and the index to access the last element in the list is 3."
   ]
  },
  {
   "cell_type": "code",
   "execution_count": null,
   "id": "3c89f9b1",
   "metadata": {},
   "outputs": [],
   "source": [
    "# corrected code: \n",
    "seasons = ['Spring', 'Summer', 'Fall', 'Winter']\n",
    "print('My favorite season is ', seasons[3])"
   ]
  },
  {
   "cell_type": "markdown",
   "id": "30b8bc2a",
   "metadata": {},
   "source": [
    "# TIME CHECK!"
   ]
  },
  {
   "cell_type": "markdown",
   "id": "4131c93e",
   "metadata": {},
   "source": [
    "# Use `if` statements to control whether or not a block of code is executed.\n",
    "\n",
    "An `if` statement (more properly called a conditional statement) controls whether some block of code is executed or not.\n",
    "Structure is similar to a for statement:\n",
    "* First line opens with if and ends with a colon\n",
    "* Body containing one or more statements is indented (usually by 4 spaces)"
   ]
  },
  {
   "cell_type": "code",
   "execution_count": null,
   "id": "6005c817",
   "metadata": {},
   "outputs": [],
   "source": [
    "mass = 3.54\n",
    "if mass > 3.0:\n",
    "    print(mass, 'is large')\n",
    "\n",
    "mass = 2.07\n",
    "if mass > 3.0:\n",
    "    print (mass, 'is large')"
   ]
  },
  {
   "cell_type": "markdown",
   "id": "5bfdbba2",
   "metadata": {},
   "source": [
    "# Conditionals are often used inside loops.\n",
    "\n",
    "* Not much point using a conditional when we know the value (as above).\n",
    "* But useful when we have a collection to process."
   ]
  },
  {
   "cell_type": "code",
   "execution_count": null,
   "id": "154fbf25",
   "metadata": {},
   "outputs": [],
   "source": [
    "masses = [3.54, 2.07, 9.22, 1.86, 1.71]\n",
    "for m in masses:\n",
    "    if m > 3.0:\n",
    "        print(m, 'is large')"
   ]
  },
  {
   "cell_type": "markdown",
   "id": "44c547cd",
   "metadata": {},
   "source": [
    "# Use `else` to execute a block of code when an `if` condition is not true.\n",
    "\n",
    "* `else` can be used following an `if`.\n",
    "* Allows us to specify an alternative to execute when the if *branch* isn’t taken."
   ]
  },
  {
   "cell_type": "code",
   "execution_count": null,
   "id": "9314fcf9",
   "metadata": {},
   "outputs": [],
   "source": [
    "masses = [3.54, 2.07, 9.22, 1.86, 1.71]\n",
    "for m in masses:\n",
    "    if m > 3.0:\n",
    "        print(m, 'is large')\n",
    "    else:\n",
    "        print(m, 'is small')"
   ]
  },
  {
   "cell_type": "markdown",
   "id": "254a9c75",
   "metadata": {},
   "source": [
    "# Use `elif` to specify additional tests.\n",
    "\n",
    "* May want to provide several alternative choices, each with its own test.\n",
    "* Use `elif` (short for “else if”) and a condition to specify these.\n",
    "* Always associated with an `if`.\n",
    "* Must come before the `else` (which is the “catch all”)."
   ]
  },
  {
   "cell_type": "code",
   "execution_count": null,
   "id": "05ee1fd1",
   "metadata": {},
   "outputs": [],
   "source": [
    "masses = [3.54, 2.07, 9.22, 1.86, 1.71]\n",
    "for m in masses:\n",
    "    if m > 9.0:\n",
    "        print(m, 'is HUGE')\n",
    "    elif m > 3.0:\n",
    "        print(m, 'is large')\n",
    "    else:\n",
    "        print(m, 'is small')"
   ]
  },
  {
   "cell_type": "markdown",
   "id": "dbbea6db",
   "metadata": {},
   "source": [
    "# Conditions are tested once, in order.\n",
    "\n",
    "Python steps through the branches of the conditional in order, testing each in turn. So ordering matters."
   ]
  },
  {
   "cell_type": "code",
   "execution_count": null,
   "id": "3833a0b2",
   "metadata": {},
   "outputs": [],
   "source": [
    "grade = 85\n",
    "if grade >= 90:\n",
    "    print('grade is A')\n",
    "elif grade >= 80:\n",
    "    print('grade is B')\n",
    "elif grade >= 70:\n",
    "    print('grade is C')"
   ]
  },
  {
   "cell_type": "markdown",
   "id": "24290184",
   "metadata": {},
   "source": [
    "Does not automatically go back and re-evaluate if values change."
   ]
  },
  {
   "cell_type": "code",
   "execution_count": null,
   "id": "503747c4",
   "metadata": {},
   "outputs": [],
   "source": [
    "velocity = 10.0\n",
    "if velocity > 20.0:\n",
    "    print('moving too fast')\n",
    "else:\n",
    "    print('adjusting velocity')\n",
    "    velocity = 50.0"
   ]
  },
  {
   "cell_type": "markdown",
   "id": "bcbb166c",
   "metadata": {},
   "source": [
    "Often use conditionals in a loop to “evolve” the values of variables."
   ]
  },
  {
   "cell_type": "code",
   "execution_count": null,
   "id": "0b380de1",
   "metadata": {},
   "outputs": [],
   "source": [
    "velocity = 10.0\n",
    "for i in range(5): # execute the loop 5 times\n",
    "    print(i, ':', velocity)\n",
    "    if velocity > 20.0:\n",
    "        print('moving too fast')\n",
    "        velocity = velocity - 5.0\n",
    "    else:\n",
    "        print('moving too slow')\n",
    "        velocity = velocity + 10.0\n",
    "print('final velocity:', velocity)"
   ]
  },
  {
   "cell_type": "markdown",
   "id": "19228b68",
   "metadata": {},
   "source": [
    "# Compound Relations Using and, or, and Parentheses\n",
    "\n",
    "Often, you want some combination of things to be true. You can combine relations within a conditional using `and` and `or`. Continuing the example above, suppose you have"
   ]
  },
  {
   "cell_type": "code",
   "execution_count": null,
   "id": "6f697c3a",
   "metadata": {},
   "outputs": [],
   "source": [
    "mass     = [ 3.54,  2.07,  9.22,  1.86,  1.71]\n",
    "velocity = [10.00, 20.00, 30.00, 25.00, 20.00]\n",
    "\n",
    "i = 0\n",
    "for i in range(5):\n",
    "    if mass[i] > 5 and velocity[i] > 20:\n",
    "        print(\"Fast heavy object.  Duck!\")\n",
    "    else:\n",
    "        print(\"Smooth sailing\")"
   ]
  },
  {
   "cell_type": "markdown",
   "id": "edaf207b",
   "metadata": {},
   "source": [
    "# TIME CHECK!"
   ]
  },
  {
   "cell_type": "markdown",
   "id": "cd82becc",
   "metadata": {},
   "source": [
    "# Loading data into Python\n",
    "\n",
    "For this section, we will use fictional data collected from fictional patients using a miracle drug to cure arthritis inflamation flare-ups in only 3 weeks of treatment. \n",
    "\n",
    "The data sets are stored in comma-separated values (CSV) format:\n",
    "\n",
    "* each row holds information for a single patient\n",
    "* columns represent successive days\n",
    "\n",
    "The first three rows of our first file look like this:\n",
    "```\n",
    "0,0,1,3,1,2,4,7,8,3,3,3,10,5,7,4,7,7,12,18,6,13,11,11,7,7,4,6,8,8,4,4,5,7,3,4,2,3,0,0\n",
    "0,1,2,1,2,1,3,2,2,6,10,11,5,9,4,4,7,16,8,6,18,4,12,5,12,7,11,5,11,3,3,5,4,4,5,5,1,1,0,1\n",
    "0,1,1,3,3,2,6,2,5,9,5,7,4,5,4,15,5,11,9,10,19,14,12,17,7,12,11,7,4,2,10,5,4,2,2,3,2,2,1,1\n",
    "```\n",
    "The CSV file contains the number of inflammation flare-ups per day for the 60 patients in the initial clinical trial, with the trial lasting 40 days. Each row corresponds to a patient, and each column corresponds to a day in the trial. Once a patient has their first inflammation flare-up they take the medication and wait a few weeks for it to take effect and reduce flare-ups.\n",
    "\n",
    "Each number represents the number of inflammation bouts that a particular patient experienced on a given day. For example, value “6” at row 3 column 7 of the data set above means that the third patient was experiencing inflammation six times on the seventh day of the clinical study.\n",
    "\n",
    "To begin processing the clinical trial inflammation data, we need to load it into Python. We can do that using a library called [<ins>**NumPy**</ins>](https://numpy.org/doc/stable), which stands for *Numerical Python*. In general, you should use this library when you want to do fancy things with lots of numbers, especially if you have matrices or arrays. To tell Python that we’d like to start using NumPy, we need to import it:"
   ]
  },
  {
   "cell_type": "code",
   "execution_count": null,
   "id": "a95b2d7e",
   "metadata": {},
   "outputs": [],
   "source": [
    "import numpy"
   ]
  },
  {
   "cell_type": "markdown",
   "id": "3b200265",
   "metadata": {},
   "source": [
    "Importing a library is like getting a piece of lab equipment out of a storage locker and setting it up on the bench. Libraries provide additional functionality to the basic Python package, much like a new piece of equipment adds functionality to a lab space. Just like in the lab, importing too many libraries can sometimes complicate and slow down your programs - so we only import what we need for each program.\n",
    "\n",
    "Once we’ve imported the library, we can ask the library to read our data file for us:"
   ]
  },
  {
   "cell_type": "code",
   "execution_count": null,
   "id": "00a1903d",
   "metadata": {},
   "outputs": [],
   "source": [
    "numpy.loadtxt(fname='data/inflammation-01.csv', delimiter=',')"
   ]
  },
  {
   "cell_type": "markdown",
   "id": "03ceb999",
   "metadata": {},
   "source": [
    "The expression `numpy.loadtxt(...)` is a function call that asks Python to run the function `loadtxt` which belongs to the `numpy` library. The dot notation in Python is used most of all as an object attribute/property specifier or for invoking its method. `object.property` will give you the `object.property` value, `object_name.method()` will invoke on `object_name` method.\n",
    "\n",
    "As an example, John Smith is the John that belongs to the Smith family. We could use the dot notation to write his name `smith.john`, just as `loadtxt` is a function that belongs to the `numpy` library.\n",
    "\n",
    "`numpy.loadtxt` has two parameters: the name of the file we want to read and the `delimiter` that separates values on a line. These both need to be character strings, so we put them in quotes.\n",
    "\n",
    "Since we haven’t told it to do anything else with the function’s output, the notebook displays it. In this case, that output is the data we just loaded. By default, only a few rows and columns are shown (with ... to omit elements when displaying big arrays). Note that, to save space when displaying NumPy arrays, Python does not show us trailing zeros, so 1.0 becomes 1..\n",
    "\n",
    "Our call to `numpy.loadtxt` read our file but didn’t save the data in memory. To do that, we need to assign the array to a variable. In a similar manner to how we assign a single value to a variable, we can also assign an array of values to a variable using the same syntax. Let’s re-run `numpy.loadtxt` and save the returned data:"
   ]
  },
  {
   "cell_type": "code",
   "execution_count": null,
   "id": "9df34fcb",
   "metadata": {},
   "outputs": [],
   "source": [
    "data = numpy.loadtxt(fname='data/inflammation-01.csv', delimiter=',')"
   ]
  },
  {
   "cell_type": "markdown",
   "id": "beb82015",
   "metadata": {},
   "source": [
    "This statement doesn’t produce any output because we’ve assigned the output to the variable data. If we want to check that the data have been loaded, we can print the variable’s value:"
   ]
  },
  {
   "cell_type": "code",
   "execution_count": null,
   "id": "70922610",
   "metadata": {},
   "outputs": [],
   "source": [
    "print(data)"
   ]
  },
  {
   "cell_type": "markdown",
   "id": "9560d55f",
   "metadata": {},
   "source": [
    "Now that the data are in memory, we can manipulate them. First, let’s ask what type of thing data refers to:"
   ]
  },
  {
   "cell_type": "code",
   "execution_count": null,
   "id": "db16916b",
   "metadata": {},
   "outputs": [],
   "source": [
    "print(type(data))"
   ]
  },
  {
   "cell_type": "markdown",
   "id": "288fb51a",
   "metadata": {},
   "source": [
    "The output tells us that data currently refers to an N-dimensional array, the functionality for which is provided by the NumPy library. These data correspond to arthritis patients’ inflammation. The rows are the individual patients, and the columns are their daily inflammation measurements."
   ]
  },
  {
   "cell_type": "markdown",
   "id": "ae402716",
   "metadata": {},
   "source": [
    "A Numpy array contains one or more elements of the same `type`. The type function will only tell you that a variable is a NumPy array but won’t tell you the type of thing inside the array. We can find out the `type` of the data contained in the NumPy array."
   ]
  },
  {
   "cell_type": "code",
   "execution_count": null,
   "id": "51f65e45",
   "metadata": {},
   "outputs": [],
   "source": [
    "print(data.dtype)"
   ]
  },
  {
   "cell_type": "markdown",
   "id": "9cf0498d",
   "metadata": {},
   "source": [
    "With the following command, we can see the array’s `shape`:"
   ]
  },
  {
   "cell_type": "code",
   "execution_count": null,
   "id": "4e0197b8",
   "metadata": {},
   "outputs": [],
   "source": [
    "print(data.shape)"
   ]
  },
  {
   "cell_type": "markdown",
   "id": "a2da92ce",
   "metadata": {},
   "source": [
    "The output tells us that the `data` array variable contains 60 rows and 40 columns. When we created the variable data to store our arthritis data, we did not only create the array; we also created information about the array, called members or attributes. This extra information describes `data` in the same way an adjective describes a noun. `data.shape` is an attribute of `data` which describes the dimensions of data. We use the same dotted notation for the attributes of variables that we use for the functions in libraries because they have the same part-and-whole relationship.\n",
    "\n",
    "If we want to get a single number from the array, we must provide an index in square brackets after the variable name, just as we do in math when referring to an element of a matrix. Our inflammation data has two dimensions, so we will need to use two indices to refer to one specific value:"
   ]
  },
  {
   "cell_type": "code",
   "execution_count": null,
   "id": "af98ab4c",
   "metadata": {},
   "outputs": [],
   "source": [
    "print('first value in data:', data[0, 0])"
   ]
  },
  {
   "cell_type": "code",
   "execution_count": null,
   "id": "d51c6c04",
   "metadata": {},
   "outputs": [],
   "source": [
    "print('middle value in data:', data[29, 19])"
   ]
  },
  {
   "cell_type": "markdown",
   "id": "a86cd4f8",
   "metadata": {},
   "source": [
    "The expression `data[29, 19]` accesses the element at row 30, column 20 (patient 29's inflamation report for day 19). While this expression may not surprise you, `data[0, 0]` might. Programming languages like Fortran, MATLAB and R start counting at 1 because that’s what human beings have done for thousands of years. Languages in the C family (including C++, Java, Perl, and Python) count from 0 because it represents an offset from the first value in the array (the second value is offset by one index from the first value). This is closer to the way that computers represent arrays (if you are interested in the historical reasons behind counting indices from zero, you can read [<ins>**Mike Hoye’s blog post**</ins>](https://exple.tive.org/blarg/2013/10/22/citation-needed/)). As a result, if we have an M×N array in Python, its indices go from 0 to M-1 on the first axis and 0 to N-1 on the second. It takes a bit of getting used to, but one way to remember the rule is that the index is how many steps we have to take from the start to get the item we want.\n",
    "\n",
    "![array indexing diagram](screenshots/array_index.png 'array_indexing')\n",
    "\n",
    "What may also surprise you is that when Python displays an array, it shows the element with index `[0, 0]` in the upper left corner rather than the lower left. This is consistent with the way mathematicians draw matrices but different from the Cartesian coordinates. The indices are (row, column) instead of (column, row) for the same reason, which can be confusing when plotting data."
   ]
  },
  {
   "cell_type": "markdown",
   "id": "407fef9c",
   "metadata": {},
   "source": [
    "# Slicing data\n",
    "\n",
    "An index like `[30, 20]` selects a single element of an array, but we can select whole sections as well. For example, we can select the first ten days (columns) of values for the first four patients (rows) like this:\n"
   ]
  },
  {
   "cell_type": "code",
   "execution_count": null,
   "id": "f2e53994",
   "metadata": {},
   "outputs": [],
   "source": [
    "print(data[0:4, 0:10])"
   ]
  },
  {
   "cell_type": "markdown",
   "id": "cb88475c",
   "metadata": {},
   "source": [
    "The slice `0:4` means, “Start at index 0 and go up to, but not including, index 4”. Again, the up-to-but-not-including takes a bit of getting used to, but the rule is that the difference between the upper and lower bounds is the number of values in the slice.\n",
    "\n",
    "We don’t have to start slices at 0:"
   ]
  },
  {
   "cell_type": "code",
   "execution_count": null,
   "id": "477c4863",
   "metadata": {},
   "outputs": [],
   "source": [
    "print(data[5:10, 0:10])"
   ]
  },
  {
   "cell_type": "markdown",
   "id": "b3887b4e",
   "metadata": {},
   "source": [
    "We also don’t have to include the upper and lower bound on the slice. If we don’t include the lower bound, Python uses 0 by default; if we don’t include the upper, the slice runs to the end of the axis, and if we don’t include either (i.e., if we use ‘:’ on its own), the slice includes everything. The following example selects rows 0 through 2 and columns 36 through to the end of the array."
   ]
  },
  {
   "cell_type": "code",
   "execution_count": null,
   "id": "d8389fcc",
   "metadata": {},
   "outputs": [],
   "source": [
    "small = data[:3, 36:]\n",
    "print('small is:')\n",
    "print(small)"
   ]
  },
  {
   "cell_type": "markdown",
   "id": "42f712dc",
   "metadata": {},
   "source": [
    "# Analyzing data\n",
    "\n",
    "NumPy has several useful functions that take an array as input to perform operations on its values. If we want to find the average inflammation for all patients on all days, for example, we can ask NumPy to compute data’s mean value:"
   ]
  },
  {
   "cell_type": "code",
   "execution_count": null,
   "id": "81347203",
   "metadata": {},
   "outputs": [],
   "source": [
    "print(numpy.mean(data))\n",
    "# mean is a function that takes an array as an argument."
   ]
  },
  {
   "cell_type": "markdown",
   "id": "b93c371f",
   "metadata": {},
   "source": [
    "Let’s use three other NumPy functions to get some descriptive values about the dataset. We’ll also use multiple assignment, a convenient Python feature that will enable us to do this all in one line."
   ]
  },
  {
   "cell_type": "code",
   "execution_count": null,
   "id": "0c54390a",
   "metadata": {},
   "outputs": [],
   "source": [
    "maxval, minval, stdval = numpy.amax(data), numpy.amin(data), numpy.std(data)\n",
    "\n",
    "print('maximum inflammation:', maxval)\n",
    "print('minimum inflammation:', minval)\n",
    "print('standard deviation:', stdval)"
   ]
  },
  {
   "cell_type": "markdown",
   "id": "f4c0d303",
   "metadata": {},
   "source": [
    "Above we’ve assigned the return value from `numpy.amax(data)` to the variable `maxval`, the value from `numpy.amin(data)` to `minval`, and so on."
   ]
  },
  {
   "cell_type": "markdown",
   "id": "1f9bfd1b",
   "metadata": {},
   "source": [
    "**PRO TIP**: How did we know what functions NumPy has and how to use them? If you are working in IPython or in a Jupyter Notebook, there is an easy way to find out. If you type the name of something followed by a dot, then you can use tab completion (e.g. type `numpy.` and then press `Tab`) to see a list of all functions and attributes that you can use. After selecting one, you can also add a question mark (e.g. `numpy.cumprod?`), and IPython will return an explanation of the method! This is the same as doing `help(numpy.cumprod)`. "
   ]
  },
  {
   "cell_type": "markdown",
   "id": "da1d3255",
   "metadata": {},
   "source": [
    "**FYI:** One might wonder why the functions are called `amax` and `amin` and not `max` and `min` or why the other is called `mean` and not `amean`. The package `numpy` does provide functions `max` and `min` that are fully equivalent to `amax` and `amin`, but they share a name with standard library functions `max` and `min` that come with Python itself. Referring to the functions like we did above, that is `numpy.max` for example, does not cause problems, but there are other ways to refer to them that could. In addition, text editors might highlight (color) these functions like standard library function, even though they belong to NumPy, which can be confusing and lead to errors. Since there is no function called `mean` in the standard library, there is no function called `amean`."
   ]
  },
  {
   "cell_type": "markdown",
   "id": "9c8d53e9",
   "metadata": {},
   "source": [
    "When analyzing data, though, we often want to look at variations in statistical values, such as the maximum inflammation per patient or the average inflammation per day. One way to do this is to create a new temporary array of the data we want, then ask it to do the calculation:"
   ]
  },
  {
   "cell_type": "code",
   "execution_count": null,
   "id": "9338c3ae",
   "metadata": {},
   "outputs": [],
   "source": [
    "patient_0 = data[0, :] # 0 on the first axis (rows), everything on the second (columns)\n",
    "print('maximum inflammation for patient 0:', numpy.amax(patient_0))"
   ]
  },
  {
   "cell_type": "markdown",
   "id": "5f452633",
   "metadata": {},
   "source": [
    "We don’t actually need to store the row in a variable of its own. Instead, we can combine the selection and the function call:"
   ]
  },
  {
   "cell_type": "code",
   "execution_count": null,
   "id": "e02a4c08",
   "metadata": {},
   "outputs": [],
   "source": [
    "print('maximum inflammation for patient 2:', numpy.amax(data[2, :]))"
   ]
  },
  {
   "cell_type": "markdown",
   "id": "9c59327c",
   "metadata": {},
   "source": [
    "What if we need the maximum inflammation for each patient over all days (as in the next diagram on the left) or the average for each day (as in the diagram on the right)? As the diagram below shows, we want to perform the operation across an axis:\n",
    "\n",
    "![numpy diagram demonstrating the operation to find patient max inflamation and daily average inflammation](screenshots/numpy.png 'diagram')\n",
    "\n",
    "To find the **maximum inflammation reported for each patient**, you would apply the `max` function moving across the columns (axis 1). To find the **daily average inflammation reported across patients**, you would apply the `mean` function moving down the rows (axis 0). \n",
    "\n",
    "To support this functionality, most array functions allow us to specify the axis we want to work on. If we ask for the max across axis 1 (columns in our 2D example), we get:\n"
   ]
  },
  {
   "cell_type": "code",
   "execution_count": null,
   "id": "30dfdaa0",
   "metadata": {},
   "outputs": [],
   "source": [
    "print(numpy.max(data, axis=1))"
   ]
  },
  {
   "cell_type": "markdown",
   "id": "29f8544b",
   "metadata": {},
   "source": [
    "As a quick check, we can ask this array what its shape is. We expect 60 patient maximums:"
   ]
  },
  {
   "cell_type": "code",
   "execution_count": null,
   "id": "866af504",
   "metadata": {},
   "outputs": [],
   "source": [
    "print(numpy.max(data, axis=1).shape)"
   ]
  },
  {
   "cell_type": "markdown",
   "id": "f6e5b1c9",
   "metadata": {},
   "source": [
    "The expression `(60,)` tells us we have an N×1 vector, so this is the maximum inflammation per day for each patients. "
   ]
  },
  {
   "cell_type": "markdown",
   "id": "1a03d334",
   "metadata": {},
   "source": [
    "If we ask for the average across/down axis 0 (rows in our 2D example), we get:"
   ]
  },
  {
   "cell_type": "code",
   "execution_count": null,
   "id": "c83a0fae",
   "metadata": {},
   "outputs": [],
   "source": [
    "print(numpy.mean(data, axis=0))"
   ]
  },
  {
   "cell_type": "markdown",
   "id": "5d0d5114",
   "metadata": {},
   "source": [
    "Check the array shape. We expect 40 averages, one for each day of the study:"
   ]
  },
  {
   "cell_type": "code",
   "execution_count": null,
   "id": "06f9325e",
   "metadata": {},
   "outputs": [],
   "source": [
    "print(numpy.mean(data, axis=0).shape)"
   ]
  },
  {
   "cell_type": "markdown",
   "id": "e3c83692",
   "metadata": {},
   "source": [
    "Similarly, we can apply the `mean` function to axis 1 to get the patient's average inflammation over the duration of the study (60 values). "
   ]
  },
  {
   "cell_type": "code",
   "execution_count": null,
   "id": "eddc940d",
   "metadata": {},
   "outputs": [],
   "source": [
    "print(numpy.mean(data, axis=1))"
   ]
  },
  {
   "cell_type": "code",
   "execution_count": null,
   "id": "7f35c8c7",
   "metadata": {},
   "outputs": [],
   "source": [
    "print(numpy.mean(data, axis=1).shape)"
   ]
  },
  {
   "cell_type": "markdown",
   "id": "288f3ea6",
   "metadata": {},
   "source": [
    "## Exercise 3: \n",
    "\n",
    "The patient data is *longitudinal* in the sense that each row represents a series of observations relating to one individual. This means that the change in inflammation over time is a meaningful concept. Let’s find out how to calculate changes in the data contained in an array with NumPy.\n",
    "\n",
    "The `numpy.diff()` function takes an array and returns the differences between two successive values. Let’s use it to examine the changes each day across the first week of patient 3 from our inflammation dataset.\n",
    "\n",
    "```python\n",
    "patient3_week1 = data[3, :7]\n",
    "print(patient3_week1)\n",
    "```\n",
    "\n",
    "Output:\n",
    "```python\n",
    "[0. 0. 2. 0. 4. 2. 2.]\n",
    "```\n",
    "Calling `numpy.diff(patient3_week1)` would do the following calculations\n",
    "```python\n",
    "[ 0 - 0, 2 - 0, 0 - 2, 4 - 0, 2 - 4, 2 - 2 ]\n",
    "```\n",
    "and return the 6 difference values in a new array.\n",
    "```python\n",
    "numpy.diff(patient3_week1)\n",
    "```\n",
    "\n",
    "Output:\n",
    "```python\n",
    "array([ 0.,  2., -2.,  4., -2.,  0.])\n",
    "```\n",
    "Note that the array of differences is shorter by one element (length 6).\n",
    "\n",
    "When calling `numpy.diff` with a multi-dimensional array, an axis argument may be passed to the function to specify which axis to process. When applying `numpy.diff` to our 2D inflammation array data, which axis would we specify?"
   ]
  },
  {
   "cell_type": "code",
   "execution_count": null,
   "id": "90a1c3eb",
   "metadata": {},
   "outputs": [],
   "source": []
  },
  {
   "cell_type": "markdown",
   "id": "6924d5c4",
   "metadata": {},
   "source": [
    "*Solution*\n",
    "\n",
    "Since the row axis (0) is patients, it does not make sense to get the difference between two arbitrary patients. The column axis (1) is in days, so the difference is the change in inflammation – a meaningful concept."
   ]
  },
  {
   "cell_type": "code",
   "execution_count": null,
   "id": "d8dd44a0",
   "metadata": {},
   "outputs": [],
   "source": [
    "numpy.diff(data, axis=1)"
   ]
  },
  {
   "cell_type": "markdown",
   "id": "34ce92ae",
   "metadata": {},
   "source": [
    "## Exercise 5: \n",
    "\n",
    "How would you find the largest change in inflammation for each patient? Does it matter if the change in inflammation is an increase or a decrease?"
   ]
  },
  {
   "cell_type": "code",
   "execution_count": null,
   "id": "da4ea83f",
   "metadata": {},
   "outputs": [],
   "source": []
  },
  {
   "cell_type": "markdown",
   "id": "57c6d18d",
   "metadata": {},
   "source": [
    "*Solution*\n",
    "\n",
    "By using the `numpy.amax()` function after you apply the `numpy.diff()` function, you will get the largest difference between days."
   ]
  },
  {
   "cell_type": "code",
   "execution_count": null,
   "id": "32b7daa3",
   "metadata": {},
   "outputs": [],
   "source": [
    "numpy.amax(numpy.diff(data, axis=1), axis=1)\n"
   ]
  },
  {
   "cell_type": "markdown",
   "id": "d89fd630",
   "metadata": {},
   "source": [
    "If inflammation values decrease along an axis, then the difference from one element to the next will be negative. If you are interested in the magnitude of the change and not the direction, the `numpy.absolute()` function will provide that.\n",
    "\n",
    "Notice the difference if you get the largest absolute difference between readings."
   ]
  },
  {
   "cell_type": "code",
   "execution_count": null,
   "id": "7a622613",
   "metadata": {},
   "outputs": [],
   "source": [
    "numpy.amax(numpy.absolute(numpy.diff(data, axis=1)), axis=1)"
   ]
  },
  {
   "cell_type": "markdown",
   "id": "e4961b90",
   "metadata": {},
   "source": [
    "## Time Exercise"
   ]
  },
  {
   "cell_type": "code",
   "execution_count": null,
   "id": "0eaf5c43",
   "metadata": {},
   "outputs": [],
   "source": [
    "import random\n",
    "\n",
    "import numpy as np"
   ]
  },
  {
   "cell_type": "code",
   "execution_count": null,
   "id": "d4083d4d",
   "metadata": {},
   "outputs": [],
   "source": [
    "L = [random.random() for _ in range(1000000)]\n",
    "N = np.random.random(1000000)"
   ]
  },
  {
   "cell_type": "code",
   "execution_count": null,
   "id": "2c0cbe00",
   "metadata": {},
   "outputs": [],
   "source": [
    "print(type(L))\n",
    "print(type(N))"
   ]
  },
  {
   "cell_type": "code",
   "execution_count": null,
   "id": "9f5c04cb",
   "metadata": {},
   "outputs": [],
   "source": [
    "%timeit sum(L)\n",
    "%timeit np.sum(L)\n",
    "%timeit sum(N)\n",
    "%timeit np.sum(N)"
   ]
  }
 ],
 "metadata": {
  "kernelspec": {
   "display_name": "base",
   "language": "python",
   "name": "python3"
  },
  "language_info": {
   "codemirror_mode": {
    "name": "ipython",
    "version": 3
   },
   "file_extension": ".py",
   "mimetype": "text/x-python",
   "name": "python",
   "nbconvert_exporter": "python",
   "pygments_lexer": "ipython3",
   "version": "3.12.3"
  }
 },
 "nbformat": 4,
 "nbformat_minor": 5
}
