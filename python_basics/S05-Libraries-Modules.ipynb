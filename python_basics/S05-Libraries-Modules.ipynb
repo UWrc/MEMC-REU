{
 "cells": [
  {
   "cell_type": "markdown",
   "id": "e5a3bddb",
   "metadata": {},
   "source": [
    "# Most of the power of a programming language is in its libraries\n",
    "\n",
    "***A library is a collection of modules, but the terms are often used interchangeably, especially since many libraries only consist of a single module, so don’t worry if you mix them.***\n",
    "\n",
    "* A library is a collection of files (called modules) that contains functions for use by other programs.\n",
    "    * May also contain data values (e.g., numerical constants) and other things.\n",
    "    * Library’s contents are supposed to be related, but there’s no way to enforce that.\n",
    "* The Python [standard library](https://docs.python.org/3/library/) is an extensive suite of modules that comes with Python itself.\n",
    "* Many additional libraries are available from [PyPI](https://pypi.python.org/pypi/) (the Python Package Index)."
   ]
  },
  {
   "cell_type": "markdown",
   "id": "0cfc254a",
   "metadata": {},
   "source": [
    "# A program must import a library module before using it\n",
    "\n",
    "* Use import to load a library module into a program’s memory.\n",
    "* Then refer to things from the module as module_name.thing_name.\n",
    "    * Python uses . to mean “part of”.\n",
    "* Using math, one of the modules in the standard library:"
   ]
  },
  {
   "cell_type": "code",
   "execution_count": null,
   "id": "ae82e25c-bddd-4f63-8b10-35e4bdcd8214",
   "metadata": {},
   "outputs": [],
   "source": [
    "import math\n",
    "\n",
    "print('pi is', math.pi)\n",
    "print('cos(pi) is', math.cos(math.pi))"
   ]
  },
  {
   "cell_type": "markdown",
   "id": "a57b9b6a",
   "metadata": {},
   "source": [
    "* Have to refer to each item with the module’s name.\n",
    "* `math.cos(pi)` won’t work: the reference to `pi` doesn’t somehow “inherit” the function’s reference to `math`."
   ]
  },
  {
   "cell_type": "markdown",
   "id": "14dbd02d",
   "metadata": {},
   "source": [
    "# Use help to learn about the contents of a library module\n",
    "\n",
    "Works just like help for a function."
   ]
  },
  {
   "cell_type": "code",
   "execution_count": null,
   "id": "56ef7951-2a69-478e-8919-71ea0ce6f1f8",
   "metadata": {},
   "outputs": [],
   "source": [
    "help(math) # remember to import math above ^^\n",
    "# help for a library is not available until the library is imported."
   ]
  },
  {
   "cell_type": "markdown",
   "id": "9b535b8e",
   "metadata": {},
   "source": [
    "# Import specific items from a library module to shorten programs\n",
    "\n",
    "* Use from ... import ... to load only specific items from a library module.\n",
    "* Then refer to them directly without library name as prefix."
   ]
  },
  {
   "cell_type": "code",
   "execution_count": null,
   "id": "c595de75",
   "metadata": {},
   "outputs": [],
   "source": [
    "from math import cos, pi\n",
    "\n",
    "print('cos(pi) is', cos(pi))"
   ]
  },
  {
   "cell_type": "markdown",
   "id": "0402fb0f-0d9a-461c-a7f6-6bff8e9e1f42",
   "metadata": {},
   "source": [
    "# Create an alias for a library module when importing it to shorten programs\n",
    "\n",
    "* Use `import ... as ...` to give a library a short alias while importing it.\n",
    "* Then refer to items in the library using that shortened name."
   ]
  },
  {
   "cell_type": "code",
   "execution_count": null,
   "id": "e98b16fd-d3a0-44f9-a7a2-053a259ced45",
   "metadata": {},
   "outputs": [],
   "source": [
    "import math as m\n",
    "\n",
    "print('cos(pi) is', m.cos(m.pi))"
   ]
  },
  {
   "cell_type": "markdown",
   "id": "8e6d228a-efb3-4a49-bfb7-87c44d3df7a1",
   "metadata": {},
   "source": [
    "* Commonly used for libraries that are frequently used or have long names.\n",
    "    * E.g., the `matplotlib` plotting library is often aliased as `mpl`.\n",
    "* But can make programs harder to understand, since readers must learn your program’s aliases."
   ]
  },
  {
   "cell_type": "markdown",
   "id": "f8e14622",
   "metadata": {},
   "source": [
    "## Exercise 1: Explore the math module\n",
    "\n",
    "1. What function from the `math` module can you use to calculate a square root ***without*** using `sqrt`?\n",
    "2. Since the library contains this function, why does `sqrt` exist?\n",
    "\n",
    "*Solution:*\n",
    "\n",
    "1. Using `help(math)` we see that we’ve got `pow(x,y)` in addition to `sqrt(x)`, so we could use `pow(x, 0.5)` to find a square root.\n",
    "\n",
    "2. The `sqrt(x)` function is arguably more readable than `pow(x, 0.5)` when implementing equations. Readability is a cornerstone of good programming, so it makes sense to provide a special function for this specific common case.\n",
    "\n",
    "Also, the design of Python’s `math` library has its origin in the C standard, which includes both `sqrt(x)` and `pow(x,y)`, so a little bit of the history of programming is showing in Python’s function names."
   ]
  },
  {
   "cell_type": "markdown",
   "id": "dd0e55f3",
   "metadata": {},
   "source": [
    "## Exercise 2: \n",
    "\n",
    "You want to select a random character from a string:"
   ]
  },
  {
   "cell_type": "code",
   "execution_count": null,
   "id": "ff36a9f1",
   "metadata": {},
   "outputs": [],
   "source": [
    "bases = 'ACTTGCTTGAC'"
   ]
  },
  {
   "cell_type": "markdown",
   "id": "7f4d06a3",
   "metadata": {},
   "source": [
    "1. Import the random module from Python's standard library and explore the help. \n",
    "2. Which function would you select from that module? Are there alternatives?\n",
    "3. Try to write a program that uses the function."
   ]
  },
  {
   "cell_type": "markdown",
   "id": "2a1880ba",
   "metadata": {},
   "source": [
    "*Solution:*\n",
    "\n",
    "Explore the [random module](https://docs.python.org/3/library/random.html). \n",
    "\n",
    "The string has 11 characters, each having a positional index from 0 to 10. You could use the [random.randrange](https://docs.python.org/3/library/random.html#random.randrange) or [random.randint](https://docs.python.org/3/library/random.html#random.randint) functions to get a random integer between 0 and 10, and then select the bases character at that index:"
   ]
  },
  {
   "cell_type": "code",
   "execution_count": null,
   "id": "9eafd37b",
   "metadata": {},
   "outputs": [],
   "source": [
    "from random import randrange\n",
    "\n",
    "random_index = randrange(len(bases))\n",
    "print(bases[random_index])"
   ]
  },
  {
   "cell_type": "markdown",
   "id": "923d9451",
   "metadata": {},
   "source": [
    "or more compactly:"
   ]
  },
  {
   "cell_type": "code",
   "execution_count": null,
   "id": "c607fd96",
   "metadata": {},
   "outputs": [],
   "source": [
    "from random import randrange\n",
    "\n",
    "print(bases[randrange(len(bases))])"
   ]
  },
  {
   "cell_type": "markdown",
   "id": "f019f87f",
   "metadata": {},
   "source": [
    "Perhaps you found the [random.sample](https://docs.python.org/3/library/random.html#random.sample) function? It allows for slightly less typing but might be a bit harder to understand just by reading:"
   ]
  },
  {
   "cell_type": "code",
   "execution_count": null,
   "id": "7662695c",
   "metadata": {},
   "outputs": [],
   "source": [
    "from random import sample\n",
    "\n",
    "print(sample(bases, 1)[0])"
   ]
  },
  {
   "cell_type": "markdown",
   "id": "34a75534",
   "metadata": {},
   "source": [
    "Note that this function returns a list of values. We will learn about lists later.\n",
    "\n",
    "The simplest and shortest solution is the [random.choice](https://docs.python.org/3/library/random.html#random.choice) function that does exactly what we want:"
   ]
  },
  {
   "cell_type": "code",
   "execution_count": null,
   "id": "7d314288",
   "metadata": {},
   "outputs": [],
   "source": [
    "from random import choice\n",
    "\n",
    "print(choice(bases))"
   ]
  }
 ],
 "metadata": {
  "kernelspec": {
   "display_name": "Python 3 (ipykernel)",
   "language": "python",
   "name": "python3"
  },
  "language_info": {
   "codemirror_mode": {
    "name": "ipython",
    "version": 3
   },
   "file_extension": ".py",
   "mimetype": "text/x-python",
   "name": "python",
   "nbconvert_exporter": "python",
   "pygments_lexer": "ipython3",
   "version": "3.12.3"
  }
 },
 "nbformat": 4,
 "nbformat_minor": 5
}
